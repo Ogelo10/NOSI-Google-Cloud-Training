{
 "cells": [
  {
   "cell_type": "markdown",
   "id": "f380fb8f-dc93-414c-b815-6ace422d7f90",
   "metadata": {
    "tags": [],
    "pycharm": {
     "name": "#%% md\n"
    }
   },
   "source": [
    "# Gene ID mapping\n",
    "\n",
    "![](./images/Module1/Gene_ID_Conversion.png)\n",
    "*(Source: david.ncifcrf.gov)*\n",
    "\n",
    "## Learning Objectives:\n",
    "1. Understanding different probe set ID.\n",
    "2. Mapping of various protein/gene IDs into gene identifiers and symbols."
   ]
  },
  {
   "cell_type": "markdown",
   "source": [],
   "metadata": {
    "collapsed": false
   }
  },
  {
   "cell_type": "markdown",
   "source": [
    "### Understanding different probe set ID\n",
    "\n",
    "Gene set or pathway analysis requires that gene sets and expression data use the same type of gene ID (Entrez Gene ID, Gene symbol or probe set ID etc). However, this is frequently not true for the data we have. For example, our gene sets mostly use Entrez Gene ID, but microarray datasets are frequently labeled by probe set ID (or RefSeq transcript ID etc). Therefore, we need to convert or map the probe set IDs to Entrez gene ID. Here, we will use `GSE48350` dataset that we have used in the previous section for demonstration of gene ID mapping. In order to know what kind of probe set ID, we need to navigate to GEO record page of `GSE48350`. Under the `Platform` tab, we can find the probe ID information.\n",
    "![probID](./images/Module1/ProbeID.png)"
   ],
   "metadata": {
    "collapsed": false,
    "pycharm": {
     "name": "#%% md\n"
    }
   }
  },
  {
   "cell_type": "markdown",
   "source": [
    "From the record page, we know that the dataset was generated from 1 platform using Affymetrix Human Genome U133 Plus 2.0 Array. To convert or map the probe set IDs to Entrez gene ID, we need to find the corresponding annotation package from <a href=\"https://bioconductor.org/\">Bioconductor</a>. For analyzed data, we need to use the `hgu133plus2.db` database. We can install the package using following R command:"
   ],
   "metadata": {
    "collapsed": false,
    "pycharm": {
     "name": "#%% md\n"
    }
   }
  },
  {
   "cell_type": "code",
   "execution_count": 7,
   "outputs": [
    {
     "name": "stderr",
     "output_type": "stream",
     "text": [
      "'getOption(\"repos\")' replaces Bioconductor standard repositories, see\n",
      "'?repositories' for details\n",
      "\n",
      "replacement repositories:\n",
      "    CRAN: https://cran.r-project.org\n",
      "\n",
      "\n",
      "Bioconductor version 3.14 (BiocManager 1.30.16), R 4.1.3 (2022-03-10)\n",
      "\n",
      "Warning message:\n",
      "\"package(s) not installed when version(s) same as current; use `force = TRUE` to\n",
      "  re-install: 'hgu133plus2.db'\"\n"
     ]
    }
   ],
   "source": [
    "#if (!require(\"BiocManager\", quietly = TRUE)\n",
    "#   install.packages(\"BiocManager\")\n",
    "BiocManager::install(\"hgu133plus2.db\", update = F)"
   ],
   "metadata": {
    "collapsed": false,
    "pycharm": {
     "name": "#%%\n"
    }
   }
  },
  {
   "cell_type": "markdown",
   "source": [
    "In the previous section, we have successfully downloaded the dataset `GSE48350` and saved a sub-set of it to the local storage. Now we can load the sample dataset and check for the Probe Set ID names by using the following command."
   ],
   "metadata": {
    "collapsed": false,
    "pycharm": {
     "name": "#%% md\n"
    }
   }
  },
  {
   "cell_type": "code",
   "execution_count": 6,
   "outputs": [
    {
     "data": {
      "text/html": "<style>\n.list-inline {list-style: none; margin:0; padding: 0}\n.list-inline>li {display: inline-block}\n.list-inline>li:not(:last-child)::after {content: \"\\00b7\"; padding: 0 .5ex}\n</style>\n<ol class=list-inline><li>'1007_s_at'</li><li>'1053_at'</li><li>'117_at'</li><li>'121_at'</li><li>'1255_g_at'</li><li>'1294_at'</li><li>'1316_at'</li><li>'1320_at'</li><li>'1405_i_at'</li><li>'1431_at'</li></ol>\n",
      "text/markdown": "1. '1007_s_at'\n2. '1053_at'\n3. '117_at'\n4. '121_at'\n5. '1255_g_at'\n6. '1294_at'\n7. '1316_at'\n8. '1320_at'\n9. '1405_i_at'\n10. '1431_at'\n\n\n",
      "text/latex": "\\begin{enumerate*}\n\\item '1007\\_s\\_at'\n\\item '1053\\_at'\n\\item '117\\_at'\n\\item '121\\_at'\n\\item '1255\\_g\\_at'\n\\item '1294\\_at'\n\\item '1316\\_at'\n\\item '1320\\_at'\n\\item '1405\\_i\\_at'\n\\item '1431\\_at'\n\\end{enumerate*}\n",
      "text/plain": " [1] \"1007_s_at\" \"1053_at\"   \"117_at\"    \"121_at\"    \"1255_g_at\" \"1294_at\"  \n [7] \"1316_at\"   \"1320_at\"   \"1405_i_at\" \"1431_at\"  "
     },
     "metadata": {},
     "output_type": "display_data"
    }
   ],
   "source": [
    "data = readRDS(\"./data/GSE48350.rds\")\n",
    "probeIDs = rownames(data)\n",
    "probeIDs"
   ],
   "metadata": {
    "collapsed": false,
    "pycharm": {
     "name": "#%%\n"
    }
   }
  },
  {
   "cell_type": "markdown",
   "source": [
    "**Probe Set ID** is the identifier that refers to a set of probe pairs selected to represent expressed sequences on an array. Designations are given at design time.\n",
    "\n",
    "The probe set names never change, but they can give you an idea of what was known about the sequence at the time of design.\n",
    "\n",
    "* **_at** = all the probes hit one known transcript.\n",
    "* **_a** = all probes in the set hit alternate transcripts from the same genes.\n",
    "* **_s** = all probes in the set hit transcripts from different genes.\n",
    "* **_x** = some probes hit transcripts from different genes.\n",
    "\n",
    "For HG-U133, the **_a** designation was not used; an **_s** probe set on these arrays means the same as an **_a** on any of the HG-U133 arrays."
   ],
   "metadata": {
    "collapsed": false,
    "pycharm": {
     "name": "#%% md\n"
    }
   }
  },
  {
   "cell_type": "markdown",
   "source": [
    "### Mapping of various protein/gene IDs into gene identifiers and symbols.\n",
    "For pathway analysis, Probe set IDs should be mapped to Ensembl ID and SYMBOL. Ensembl ID is a transcript identifier from the ENSEMBL project while SYMBOL is a gene symbol is a short-form abbreviation for a particular gene. We can load the `hgu133plus2.db` database to perform Probe ID mapping using the following command:"
   ],
   "metadata": {
    "collapsed": false,
    "pycharm": {
     "name": "#%% md\n"
    }
   }
  },
  {
   "cell_type": "code",
   "execution_count": 13,
   "outputs": [
    {
     "name": "stderr",
     "output_type": "stream",
     "text": [
      "'select()' returned 1:many mapping between keys and columns\n",
      "\n"
     ]
    }
   ],
   "source": [
    "library(hgu133plus2.db)"
   ],
   "metadata": {
    "collapsed": false,
    "pycharm": {
     "name": "#%%\n"
    }
   }
  },
  {
   "cell_type": "markdown",
   "source": [
    "Here, we can build a  lookup table that maps the Probe ID to Ensembl ID and gene symbol using the following command:"
   ],
   "metadata": {
    "collapsed": false,
    "pycharm": {
     "name": "#%% md\n"
    }
   }
  },
  {
   "cell_type": "code",
   "execution_count": 20,
   "outputs": [
    {
     "name": "stderr",
     "output_type": "stream",
     "text": [
      "'select()' returned 1:many mapping between keys and columns\n",
      "\n"
     ]
    }
   ],
   "source": [
    "annotLookup <- select(hgu133plus2.db, keys = probeIDs, columns = c('PROBEID', 'ENSEMBL', 'SYMBOL'))"
   ],
   "metadata": {
    "collapsed": false,
    "pycharm": {
     "name": "#%%\n"
    }
   }
  },
  {
   "cell_type": "code",
   "execution_count": 12,
   "outputs": [
    {
     "data": {
      "text/html": "<table class=\"dataframe\">\n<caption>A data.frame: 17 × 3</caption>\n<thead>\n\t<tr><th scope=col>PROBEID</th><th scope=col>ENSEMBL</th><th scope=col>SYMBOL</th></tr>\n\t<tr><th scope=col>&lt;chr&gt;</th><th scope=col>&lt;chr&gt;</th><th scope=col>&lt;chr&gt;</th></tr>\n</thead>\n<tbody>\n\t<tr><td>1007_s_at</td><td>ENSG00000204580</td><td>DDR1  </td></tr>\n\t<tr><td>1007_s_at</td><td>ENSG00000223680</td><td>DDR1  </td></tr>\n\t<tr><td>1007_s_at</td><td>ENSG00000229767</td><td>DDR1  </td></tr>\n\t<tr><td>1007_s_at</td><td>ENSG00000234078</td><td>DDR1  </td></tr>\n\t<tr><td>1007_s_at</td><td>ENSG00000215522</td><td>DDR1  </td></tr>\n\t<tr><td>1007_s_at</td><td>ENSG00000137332</td><td>DDR1  </td></tr>\n\t<tr><td>1007_s_at</td><td>ENSG00000230456</td><td>DDR1  </td></tr>\n\t<tr><td>1053_at  </td><td>ENSG00000049541</td><td>RFC2  </td></tr>\n\t<tr><td>117_at   </td><td>ENSG00000173110</td><td>HSPA6 </td></tr>\n\t<tr><td>121_at   </td><td>ENSG00000125618</td><td>PAX8  </td></tr>\n\t<tr><td>1255_g_at</td><td>ENSG00000048545</td><td>GUCA1A</td></tr>\n\t<tr><td>1294_at  </td><td>ENSG00000182179</td><td>UBA7  </td></tr>\n\t<tr><td>1316_at  </td><td>ENSG00000126351</td><td>THRA  </td></tr>\n\t<tr><td>1320_at  </td><td>ENSG00000070778</td><td>PTPN21</td></tr>\n\t<tr><td>1405_i_at</td><td>ENSG00000271503</td><td>CCL5  </td></tr>\n\t<tr><td>1405_i_at</td><td>ENSG00000274233</td><td>CCL5  </td></tr>\n\t<tr><td>1431_at  </td><td>ENSG00000130649</td><td>CYP2E1</td></tr>\n</tbody>\n</table>\n",
      "text/markdown": "\nA data.frame: 17 × 3\n\n| PROBEID &lt;chr&gt; | ENSEMBL &lt;chr&gt; | SYMBOL &lt;chr&gt; |\n|---|---|---|\n| 1007_s_at | ENSG00000204580 | DDR1   |\n| 1007_s_at | ENSG00000223680 | DDR1   |\n| 1007_s_at | ENSG00000229767 | DDR1   |\n| 1007_s_at | ENSG00000234078 | DDR1   |\n| 1007_s_at | ENSG00000215522 | DDR1   |\n| 1007_s_at | ENSG00000137332 | DDR1   |\n| 1007_s_at | ENSG00000230456 | DDR1   |\n| 1053_at   | ENSG00000049541 | RFC2   |\n| 117_at    | ENSG00000173110 | HSPA6  |\n| 121_at    | ENSG00000125618 | PAX8   |\n| 1255_g_at | ENSG00000048545 | GUCA1A |\n| 1294_at   | ENSG00000182179 | UBA7   |\n| 1316_at   | ENSG00000126351 | THRA   |\n| 1320_at   | ENSG00000070778 | PTPN21 |\n| 1405_i_at | ENSG00000271503 | CCL5   |\n| 1405_i_at | ENSG00000274233 | CCL5   |\n| 1431_at   | ENSG00000130649 | CYP2E1 |\n\n",
      "text/latex": "A data.frame: 17 × 3\n\\begin{tabular}{lll}\n PROBEID & ENSEMBL & SYMBOL\\\\\n <chr> & <chr> & <chr>\\\\\n\\hline\n\t 1007\\_s\\_at & ENSG00000204580 & DDR1  \\\\\n\t 1007\\_s\\_at & ENSG00000223680 & DDR1  \\\\\n\t 1007\\_s\\_at & ENSG00000229767 & DDR1  \\\\\n\t 1007\\_s\\_at & ENSG00000234078 & DDR1  \\\\\n\t 1007\\_s\\_at & ENSG00000215522 & DDR1  \\\\\n\t 1007\\_s\\_at & ENSG00000137332 & DDR1  \\\\\n\t 1007\\_s\\_at & ENSG00000230456 & DDR1  \\\\\n\t 1053\\_at   & ENSG00000049541 & RFC2  \\\\\n\t 117\\_at    & ENSG00000173110 & HSPA6 \\\\\n\t 121\\_at    & ENSG00000125618 & PAX8  \\\\\n\t 1255\\_g\\_at & ENSG00000048545 & GUCA1A\\\\\n\t 1294\\_at   & ENSG00000182179 & UBA7  \\\\\n\t 1316\\_at   & ENSG00000126351 & THRA  \\\\\n\t 1320\\_at   & ENSG00000070778 & PTPN21\\\\\n\t 1405\\_i\\_at & ENSG00000271503 & CCL5  \\\\\n\t 1405\\_i\\_at & ENSG00000274233 & CCL5  \\\\\n\t 1431\\_at   & ENSG00000130649 & CYP2E1\\\\\n\\end{tabular}\n",
      "text/plain": "   PROBEID   ENSEMBL         SYMBOL\n1  1007_s_at ENSG00000204580 DDR1  \n2  1007_s_at ENSG00000223680 DDR1  \n3  1007_s_at ENSG00000229767 DDR1  \n4  1007_s_at ENSG00000234078 DDR1  \n5  1007_s_at ENSG00000215522 DDR1  \n6  1007_s_at ENSG00000137332 DDR1  \n7  1007_s_at ENSG00000230456 DDR1  \n8  1053_at   ENSG00000049541 RFC2  \n9  117_at    ENSG00000173110 HSPA6 \n10 121_at    ENSG00000125618 PAX8  \n11 1255_g_at ENSG00000048545 GUCA1A\n12 1294_at   ENSG00000182179 UBA7  \n13 1316_at   ENSG00000126351 THRA  \n14 1320_at   ENSG00000070778 PTPN21\n15 1405_i_at ENSG00000271503 CCL5  \n16 1405_i_at ENSG00000274233 CCL5  \n17 1431_at   ENSG00000130649 CYP2E1"
     },
     "metadata": {},
     "output_type": "display_data"
    }
   ],
   "source": [
    "annotLookup"
   ],
   "metadata": {
    "collapsed": false,
    "pycharm": {
     "name": "#%%\n"
    }
   }
  },
  {
   "cell_type": "markdown",
   "source": [
    "From the lookup table we can spot that a single Probe ID can be mapped to multiple Ensembl IDs. Depending on analysis performed, users can select their own Ensembl ID of interest. Here is a simple way to replace Probe IDs with gene symbols :"
   ],
   "metadata": {
    "collapsed": false,
    "pycharm": {
     "name": "#%% md\n"
    }
   }
  },
  {
   "cell_type": "code",
   "execution_count": 26,
   "outputs": [],
   "source": [
    "rownames(data) <- unique(annotLookup$SYMBOL)"
   ],
   "metadata": {
    "collapsed": false,
    "pycharm": {
     "name": "#%%\n"
    }
   }
  },
  {
   "cell_type": "code",
   "execution_count": null,
   "outputs": [],
   "source": [
    "data\n"
   ],
   "metadata": {
    "collapsed": false,
    "pycharm": {
     "name": "#%%\n"
    }
   }
  }
 ],
 "metadata": {
  "environment": {
   "kernel": "ir",
   "name": "r-cpu.4-1.m93",
   "type": "gcloud",
   "uri": "gcr.io/deeplearning-platform-release/r-cpu.4-1:m93"
  },
  "kernelspec": {
   "display_name": "R",
   "language": "R",
   "name": "ir"
  },
  "language_info": {
   "codemirror_mode": "r",
   "file_extension": ".r",
   "mimetype": "text/x-r-source",
   "name": "R",
   "pygments_lexer": "r",
   "version": "4.2.0"
  },
  "toc-showcode": true
 },
 "nbformat": 4,
 "nbformat_minor": 5
}