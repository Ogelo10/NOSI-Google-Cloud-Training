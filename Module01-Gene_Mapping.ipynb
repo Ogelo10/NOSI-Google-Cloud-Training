{
 "cells": [
  {
   "cell_type": "markdown",
   "id": "f380fb8f-dc93-414c-b815-6ace422d7f90",
   "metadata": {
    "tags": [],
    "pycharm": {
     "name": "#%% md\n"
    }
   },
   "source": [
    "# Gene ID mapping\n",
    "\n",
    "![](./images/Module1/Gene_ID_Conversion.jpg)\n",
    "## Learning Objectives:\n",
    "1. Understanding different probe set ID.\n",
    "2. Mapping probe IDs into gene identifiers and symbols."
   ]
  },
  {
   "cell_type": "markdown",
   "source": [],
   "metadata": {
    "collapsed": false,
    "pycharm": {
     "name": "#%% md\n"
    }
   }
  },
  {
   "cell_type": "markdown",
   "source": [
    "### Understanding different probe set ID\n",
    "\n",
    "Gene set or pathway analysis requires that gene sets and expression data use the same type of gene ID\n",
    "(Entrez Gene ID, Gene symbol or probe set ID etc). However, this is frequently not true for the data we have.\n",
    "For example, our gene sets mostly use Entrez Gene ID, but microarray datasets are frequently labeled by probe\n",
    "set ID (or RefSeq transcript ID etc). Therefore, we need to convert or map the probe set IDs to Entrez gene ID.\n",
    "Here, we will use `GSE48350` dataset that we have used in the previous section for demonstration of gene ID mapping.\n",
    "In order to know what kind of probe set ID, we need to navigate to GEO record page of `GSE48350`. Under the `Platform`\n",
    "tab, we can find the probe ID information.\n",
    "![probID](./images/Module1/ProbeID.png)"
   ],
   "metadata": {
    "collapsed": false,
    "pycharm": {
     "name": "#%% md\n"
    }
   }
  },
  {
   "cell_type": "markdown",
   "source": [
    "From the record page, we know that the dataset was generated from 1 platform using Affymetrix Human Genome U133 Plus 2.0 Array.\n",
    "To convert or map the probe set IDs to Entrez gene ID, we need to find the corresponding annotation package from\n",
    "<a href=\"https://bioconductor.org/\">Bioconductor</a>. For analyzed data, we need to use the `hgu133plus2.db` and `AnnotationDbi` databases.\n",
    "We can install the package using following R command:"
   ],
   "metadata": {
    "collapsed": false,
    "pycharm": {
     "name": "#%% md\n"
    }
   }
  },
  {
   "cell_type": "code",
   "execution_count": 28,
   "outputs": [],
   "source": [
    "suppressMessages({if (!require(\"BiocManager\", quietly = TRUE))\n",
    "    install.packages(\"BiocManager\")\n",
    "    suppressWarnings(BiocManager::install(\"hgu133plus2.db\", update = F))\n",
    "    suppressWarnings(BiocManager::install(\"AnnotationDbi\", update = F))\n",
    "})"
   ],
   "metadata": {
    "collapsed": false,
    "pycharm": {
     "name": "#%%\n"
    }
   }
  },
  {
   "cell_type": "markdown",
   "source": [
    "In the data processing section, we have successfully downloaded the dataset `GSE48350` and saved it to the `data` sub-directory.\n",
    "Now we can load the dataset and check for the Probe Set ID names by using the following command."
   ],
   "metadata": {
    "collapsed": false,
    "pycharm": {
     "name": "#%% md\n"
    }
   }
  },
  {
   "cell_type": "code",
   "execution_count": 29,
   "outputs": [
    {
     "data": {
      "text/html": "<style>\n.list-inline {list-style: none; margin:0; padding: 0}\n.list-inline>li {display: inline-block}\n.list-inline>li:not(:last-child)::after {content: \"\\00b7\"; padding: 0 .5ex}\n</style>\n<ol class=list-inline><li>'1007_s_at'</li><li>'1053_at'</li><li>'117_at'</li><li>'121_at'</li><li>'1255_g_at'</li><li>'1294_at'</li></ol>\n",
      "text/markdown": "1. '1007_s_at'\n2. '1053_at'\n3. '117_at'\n4. '121_at'\n5. '1255_g_at'\n6. '1294_at'\n\n\n",
      "text/latex": "\\begin{enumerate*}\n\\item '1007\\_s\\_at'\n\\item '1053\\_at'\n\\item '117\\_at'\n\\item '121\\_at'\n\\item '1255\\_g\\_at'\n\\item '1294\\_at'\n\\end{enumerate*}\n",
      "text/plain": "[1] \"1007_s_at\" \"1053_at\"   \"117_at\"    \"121_at\"    \"1255_g_at\" \"1294_at\"  "
     },
     "metadata": {},
     "output_type": "display_data"
    }
   ],
   "source": [
    "data = readRDS(\"./data/GSE48350.rds\")\n",
    "expression_data = data$expression_data\n",
    "probeIDs = rownames(expression_data)\n",
    "head(probeIDs)"
   ],
   "metadata": {
    "collapsed": false,
    "pycharm": {
     "name": "#%%\n"
    }
   }
  },
  {
   "cell_type": "markdown",
   "source": [
    "**Probe Set ID** is the identifier that refers to a set of probe pairs selected to represent expressed sequences on an array. Designations are given at design time.\n",
    "\n",
    "The probe set names never change, but they can give you an idea of what was known about the sequence at the time of design.\n",
    "\n",
    "* **_at** = all the probes hit one known transcript.\n",
    "* **_a** = all probes in the set hit alternate transcripts from the same genes.\n",
    "* **_s** = all probes in the set hit transcripts from different genes.\n",
    "* **_x** = some probes hit transcripts from different genes.\n",
    "\n",
    "For HG-U133, the **_a** designation was not used; an **_s** probe set on these arrays means the same as an **_a** on any of the HG-U133 arrays."
   ],
   "metadata": {
    "collapsed": false,
    "pycharm": {
     "name": "#%% md\n"
    }
   }
  },
  {
   "cell_type": "markdown",
   "source": [
    "### Mapping probe IDs into gene identifiers and symbols.\n",
    "For pathway analysis, the database like Gene Ontology and KEGG use gene symbol annotation. Therefore, Probe set IDs should be mapped to gene symbol to be used in the later module. We can use the pre-annotated databases which are available from Bioconductor to map the probe IDs to the gene symbol. `AnnotationDbi` is an R package that provides an interface for connecting and querying various annotation databases using SQLite data storage while `hgu133plus2.db` is database to perform Probe IDs to gene symbol mapping for human data. We can use the following command to"
   ],
   "metadata": {
    "collapsed": false,
    "pycharm": {
     "name": "#%% md\n"
    }
   }
  },
  {
   "cell_type": "code",
   "execution_count": 30,
   "outputs": [],
   "source": [
    "suppressMessages({\n",
    "  library(hgu133plus2.db)\n",
    "  library(AnnotationDbi)\n",
    "})"
   ],
   "metadata": {
    "collapsed": false,
    "pycharm": {
     "name": "#%%\n"
    }
   }
  },
  {
   "cell_type": "markdown",
   "source": [
    "Here, we can build a  lookup table that maps the Probe IDs to gene names and gene symbol using the following command:"
   ],
   "metadata": {
    "collapsed": false,
    "pycharm": {
     "name": "#%% md\n"
    }
   }
  },
  {
   "cell_type": "code",
   "execution_count": 31,
   "outputs": [],
   "source": [
    "suppressMessages({\n",
    "annotLookup <- AnnotationDbi::select(hgu133plus2.db, keys = probeIDs, columns = c('PROBEID','GENENAME','SYMBOL'))\n",
    "})"
   ],
   "metadata": {
    "collapsed": false,
    "pycharm": {
     "name": "#%%\n"
    }
   }
  },
  {
   "cell_type": "code",
   "execution_count": null,
   "outputs": [],
   "source": [],
   "metadata": {
    "collapsed": false,
    "pycharm": {
     "name": "#%%\n"
    }
   }
  },
  {
   "cell_type": "code",
   "execution_count": 32,
   "outputs": [
    {
     "data": {
      "text/html": "<table class=\"dataframe\">\n<caption>A data.frame: 6 × 3</caption>\n<thead>\n\t<tr><th></th><th scope=col>PROBEID</th><th scope=col>GENENAME</th><th scope=col>SYMBOL</th></tr>\n\t<tr><th></th><th scope=col>&lt;chr&gt;</th><th scope=col>&lt;chr&gt;</th><th scope=col>&lt;chr&gt;</th></tr>\n</thead>\n<tbody>\n\t<tr><th scope=row>1</th><td>1007_s_at</td><td>discoidin domain receptor tyrosine kinase 1 </td><td>DDR1  </td></tr>\n\t<tr><th scope=row>2</th><td>1053_at  </td><td>replication factor C subunit 2              </td><td>RFC2  </td></tr>\n\t<tr><th scope=row>3</th><td>117_at   </td><td>heat shock protein family A (Hsp70) member 6</td><td>HSPA6 </td></tr>\n\t<tr><th scope=row>4</th><td>121_at   </td><td>paired box 8                                </td><td>PAX8  </td></tr>\n\t<tr><th scope=row>5</th><td>1255_g_at</td><td>guanylate cyclase activator 1A              </td><td>GUCA1A</td></tr>\n\t<tr><th scope=row>6</th><td>1294_at  </td><td>ubiquitin like modifier activating enzyme 7 </td><td>UBA7  </td></tr>\n</tbody>\n</table>\n",
      "text/markdown": "\nA data.frame: 6 × 3\n\n| <!--/--> | PROBEID &lt;chr&gt; | GENENAME &lt;chr&gt; | SYMBOL &lt;chr&gt; |\n|---|---|---|---|\n| 1 | 1007_s_at | discoidin domain receptor tyrosine kinase 1  | DDR1   |\n| 2 | 1053_at   | replication factor C subunit 2               | RFC2   |\n| 3 | 117_at    | heat shock protein family A (Hsp70) member 6 | HSPA6  |\n| 4 | 121_at    | paired box 8                                 | PAX8   |\n| 5 | 1255_g_at | guanylate cyclase activator 1A               | GUCA1A |\n| 6 | 1294_at   | ubiquitin like modifier activating enzyme 7  | UBA7   |\n\n",
      "text/latex": "A data.frame: 6 × 3\n\\begin{tabular}{r|lll}\n  & PROBEID & GENENAME & SYMBOL\\\\\n  & <chr> & <chr> & <chr>\\\\\n\\hline\n\t1 & 1007\\_s\\_at & discoidin domain receptor tyrosine kinase 1  & DDR1  \\\\\n\t2 & 1053\\_at   & replication factor C subunit 2               & RFC2  \\\\\n\t3 & 117\\_at    & heat shock protein family A (Hsp70) member 6 & HSPA6 \\\\\n\t4 & 121\\_at    & paired box 8                                 & PAX8  \\\\\n\t5 & 1255\\_g\\_at & guanylate cyclase activator 1A               & GUCA1A\\\\\n\t6 & 1294\\_at   & ubiquitin like modifier activating enzyme 7  & UBA7  \\\\\n\\end{tabular}\n",
      "text/plain": "  PROBEID   GENENAME                                     SYMBOL\n1 1007_s_at discoidin domain receptor tyrosine kinase 1  DDR1  \n2 1053_at   replication factor C subunit 2               RFC2  \n3 117_at    heat shock protein family A (Hsp70) member 6 HSPA6 \n4 121_at    paired box 8                                 PAX8  \n5 1255_g_at guanylate cyclase activator 1A               GUCA1A\n6 1294_at   ubiquitin like modifier activating enzyme 7  UBA7  "
     },
     "metadata": {},
     "output_type": "display_data"
    }
   ],
   "source": [
    "head(annotLookup)"
   ],
   "metadata": {
    "collapsed": false,
    "pycharm": {
     "name": "#%%\n"
    }
   }
  },
  {
   "cell_type": "markdown",
   "source": [
    "We can check the number of probe IDs that mapped to the unique gene symbols using the following command:"
   ],
   "metadata": {
    "collapsed": false,
    "pycharm": {
     "name": "#%% md\n"
    }
   }
  },
  {
   "cell_type": "code",
   "execution_count": 33,
   "outputs": [
    {
     "name": "stdout",
     "output_type": "stream",
     "text": [
      "[1] \"There are 54675 probe IDs that mapped to 22243 gene symbols\"\n"
     ]
    }
   ],
   "source": [
    "# Check number of the probe IDs\n",
    "print(paste0(\"There are \",length(unique(annotLookup$PROBEID)),\" probe IDs that mapped to \",length(unique(annotLookup$SYMBOL)),\" gene symbols\"))"
   ],
   "metadata": {
    "collapsed": false,
    "pycharm": {
     "name": "#%%\n"
    }
   }
  },
  {
   "cell_type": "markdown",
   "source": [
    "From the lookup table we can spot that a single gene symbol can be mapped to multiple probe IDs.\n",
    "Depending on analysis performed, users can select their own probe IDs mapped to the gene of interest.\n"
   ],
   "metadata": {
    "collapsed": false,
    "pycharm": {
     "name": "#%% md\n"
    }
   }
  }
 ],
 "metadata": {
  "environment": {
   "kernel": "ir",
   "name": "r-cpu.4-1.m93",
   "type": "gcloud",
   "uri": "gcr.io/deeplearning-platform-release/r-cpu.4-1:m93"
  },
  "kernelspec": {
   "display_name": "R",
   "language": "R",
   "name": "ir"
  },
  "language_info": {
   "codemirror_mode": "r",
   "file_extension": ".r",
   "mimetype": "text/x-r-source",
   "name": "R",
   "pygments_lexer": "r",
   "version": "4.2.0"
  },
  "toc-showcode": true
 },
 "nbformat": 4,
 "nbformat_minor": 5
}