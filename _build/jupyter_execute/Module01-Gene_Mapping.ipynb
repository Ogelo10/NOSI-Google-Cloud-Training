{
 "cells": [
  {
   "cell_type": "markdown",
   "id": "f380fb8f-dc93-414c-b815-6ace422d7f90",
   "metadata": {
    "pycharm": {
     "name": "#%% md\n"
    },
    "tags": []
   },
   "source": [
    "# Gene mapping\n",
    "\n",
    "![](./images/Module1/Gene_ID_Conversion.png)\n",
    "*(Source: david.ncifcrf.gov)*\n",
    "\n",
    "## Learning Objectives:\n",
    "1. Understanding different probe set ID.\n",
    "2. Performing mapping of various protein/gene IDs into gene identifiers and symbols."
   ]
  },
  {
   "cell_type": "markdown",
   "id": "77073d97",
   "metadata": {
    "collapsed": false,
    "pycharm": {
     "name": "#%% md\n"
    }
   },
   "source": [
    "### Identifying probe set ID\n",
    "\n",
    "Gene set or pathway analysis requires that gene sets and expression data use the same type of gene ID (Entrez Gene ID, Gene symbol or probe set ID etc). However, this is frequently not true for the data we have. For example, our gene sets mostly use Entrez Gene ID, but microarray datasets are frequently labeled by probe set ID (or RefSeq transcript ID etc). Therefore, we need to convert or map the probe set IDs to Entrez gene ID. Here, we we will use `GSE48350` dataset that we have used in the previous section for demonstration of gene ID mapping. From GEO `GSE48350` record page or the CEL data file, we know that it uses Affymetrix Human Genome U133 Plus 2.0 Array. We need to use the corresponding <a href=\"https://bioconductor.org/\">Bioconductor</a> annotation package, `hgu133plus2.db`. We can install the package using following R command:"
   ]
  },
  {
   "cell_type": "code",
   "execution_count": 1,
   "id": "a0898656",
   "metadata": {
    "collapsed": false,
    "pycharm": {
     "name": "#%%\n"
    }
   },
   "outputs": [
    {
     "name": "stderr",
     "output_type": "stream",
     "text": [
      "'getOption(\"repos\")' replaces Bioconductor standard repositories, see\n",
      "'?repositories' for details\n",
      "\n",
      "replacement repositories:\n",
      "    CRAN: https://cran.r-project.org\n",
      "\n",
      "\n"
     ]
    },
    {
     "name": "stderr",
     "output_type": "stream",
     "text": [
      "Bioconductor version 3.14 (BiocManager 1.30.16), R 4.1.3 (2022-03-10)\n",
      "\n"
     ]
    },
    {
     "name": "stderr",
     "output_type": "stream",
     "text": [
      "Warning message:\n",
      "\"package(s) not installed when version(s) same as current; use `force = TRUE` to\n",
      "  re-install: 'hgu133plus2.db'\"\n"
     ]
    }
   ],
   "source": [
    "#if (!require(\"BiocManager\", quietly = TRUE)\n",
    "#   install.packages(\"BiocManager\")\n",
    "BiocManager::install(\"hgu133plus2.db\", update = F)"
   ]
  },
  {
   "cell_type": "markdown",
   "id": "a3710be7",
   "metadata": {
    "collapsed": false,
    "pycharm": {
     "name": "#%% md\n"
    }
   },
   "source": []
  },
  {
   "cell_type": "markdown",
   "id": "a92c9d10",
   "metadata": {
    "collapsed": false,
    "pycharm": {
     "name": "#%% md\n"
    }
   },
   "source": [
    "## Data normalization\n",
    "In this section, we will inspect the data to discover what scale the data are presented in. The methods we will use later in this training series assume the data are on a `log2` scale; typically in the range of `0` to `16`.\n",
    "\n",
    "The `exprs` function can retrieve the expression values as a data frame; with one column per-sample and one row per-gene. To view the expression value of the first 5 samples, we can use the following command:\n"
   ]
  }
 ],
 "metadata": {
  "environment": {
   "kernel": "ir",
   "name": "r-cpu.4-1.m93",
   "type": "gcloud",
   "uri": "gcr.io/deeplearning-platform-release/r-cpu.4-1:m93"
  },
  "kernelspec": {
   "display_name": "R",
   "language": "R",
   "name": "ir"
  },
  "language_info": {
   "codemirror_mode": "r",
   "file_extension": ".r",
   "mimetype": "text/x-r-source",
   "name": "R",
   "pygments_lexer": "r",
   "version": "4.1.3"
  },
  "toc-showcode": true
 },
 "nbformat": 4,
 "nbformat_minor": 5
}