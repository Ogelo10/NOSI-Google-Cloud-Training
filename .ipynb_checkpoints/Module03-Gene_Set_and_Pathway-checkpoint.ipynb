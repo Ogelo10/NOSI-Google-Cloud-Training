{
 "cells": [
  {
   "cell_type": "markdown",
   "id": "f380fb8f-dc93-414c-b815-6ace422d7f90",
   "metadata": {
    "pycharm": {
     "name": "#%% md\n"
    },
    "tags": []
   },
   "source": [
    "# Gene set and pathway\n",
    "\n",
    "![](./images/Module2/DE_pipeline.jpg)\n",
    "\n",
    "Differential expression (DE) analysis typically yields a list of genes or proteins that require further interpretation. Our intention is to use such lists to gain novel insights about genes and proteins that may have roles in a given phenomenon, phenotype or disease progression. However, in many cases, gene lists generated from DE analysis are difficult to interpret due to their large size and lack of useful annotations. Hence, pathway analysis (also known as gene set analysis or over-representation analysis), aims to reduce the complexity of interpreting gene lists via mapping the listed genes to known (i.e. annotated) biological pathways, processes and functions.\n",
    "\n",
    "## Learning Objectives:\n",
    "1. Assigning samples into groups and set up design matrix.\n",
    "2. Performing differential expression (DE) analysis using `limma` R package.\n",
    "3. Further processing and visualisation of DE results.\n",
    "4. Filtering and exporting the results table.\n",
    "5. Further visualisation"
   ]
  },
  {
   "cell_type": "markdown",
   "id": "91e4c133",
   "metadata": {
    "pycharm": {
     "name": "#%% md\n"
    },
    "tags": [
     "hide-cell"
    ]
   },
   "source": [
    "fdfdf"
   ]
  },
  {
   "cell_type": "markdown",
   "id": "1859736a",
   "metadata": {
    "pycharm": {
     "name": "#%% md\n"
    }
   },
   "source": [
    "## Grouping samples and setting up the design matrix.\n",
    "In this section we will perform differential expression (DF) analysis to analyze the `GSE48350` dataset that we have used in the previous chapter.\n",
    "Recall from the [**GEO Data processing** ](./Module01-GEO_Data_Processing.ipynb) section, `GSE48350` contains\n",
    "sequenced data of Human Alzheimer's Disease using microarray sequencing technology collected from 4 brain regions.\n",
    "Here we will create two groups: *\"condition\"* and *“control”* from the Entorhinal Cortex region. First, we need to load necessary R libraries to download the dataset."
   ]
  },
  {
   "cell_type": "code",
   "execution_count": 1,
   "id": "29816dfc",
   "metadata": {
    "pycharm": {
     "name": "#%%\n"
    }
   },
   "outputs": [
    {
     "name": "stdout",
     "output_type": "stream",
     "text": [
      "package 'limma' successfully unpacked and MD5 sums checked\n",
      "\n",
      "The downloaded binary packages are in\n",
      "\tC:\\Users\\bangt\\AppData\\Local\\Temp\\RtmpcP0xdv\\downloaded_packages\n"
     ]
    }
   ],
   "source": [
    "suppressMessages({if (!require(\"BiocManager\", quietly = TRUE))\n",
    "    install.packages(\"BiocManager\")\n",
    "  suppressWarnings(BiocManager::install(\"GEOquery\", update = F))\n",
    "  suppressWarnings(BiocManager::install(\"limma\", update = F))\n",
    "})\n",
    "\n",
    "suppressPackageStartupMessages({\n",
    "  library(\"GEOquery\")\n",
    "})"
   ]
  },
  {
   "cell_type": "markdown",
   "id": "c0d70e92",
   "metadata": {
    "pycharm": {
     "name": "#%% md\n"
    }
   },
   "source": [
    "Similar to the [**GEO Data processing** ](./Module01-GEO_Data_Processing.ipynb) section, we can use <a href=\"https://bioconductor.org/packages/release/bioc/html/GEOquery.html\">GEOquery</a> R package to download GEO data and select samples generated from Affymetrix Human Genome U133 Plus 2.0 Array platform."
   ]
  },
  {
   "cell_type": "code",
   "execution_count": 2,
   "id": "6e56fd57-3a91-4715-962b-07f43324c519",
   "metadata": {},
   "outputs": [],
   "source": [
    "# Load series and platform data from GEO\n",
    "gset <- suppressMessages(getGEO(\"GSE48350\", GSEMatrix =TRUE, AnnotGPL=TRUE))\n",
    "# Check how many platform available\n",
    "if (length(gset) > 1) idx <- grep(\"GPL570\", attr(gset, \"names\")) else idx <- 1\n",
    "gset <- gset[[idx]]\n",
    "# Get expression data matric\n",
    "expression_data <- exprs(gset)"
   ]
  },
  {
   "cell_type": "markdown",
   "id": "109bf945",
   "metadata": {},
   "source": [
    "We can check for number of samples and genes using this command:"
   ]
  },
  {
   "cell_type": "code",
   "execution_count": 3,
   "id": "966245ae",
   "metadata": {
    "pycharm": {
     "name": "#%%\n"
    }
   },
   "outputs": [
    {
     "name": "stdout",
     "output_type": "stream",
     "text": [
      "[1] \"#Genes: 54675- #Samples: 253\"\n"
     ]
    }
   ],
   "source": [
    "print(paste0(\"#Genes: \",dim(expression_data)[1],\"- #Samples: \",dim(expression_data)[2]))"
   ]
  },
  {
   "cell_type": "markdown",
   "id": "5e248aff",
   "metadata": {
    "pycharm": {
     "name": "#%% md\n"
    }
   },
   "source": [
    "Now we need to select the samples that belong to entorhinal cortex region using following command"
   ]
  },
  {
   "cell_type": "code",
   "execution_count": 4,
   "id": "38795225",
   "metadata": {
    "pycharm": {
     "name": "#%%\n"
    }
   },
   "outputs": [
    {
     "name": "stdout",
     "output_type": "stream",
     "text": [
      "[1] \"#Genes: 54675- #Samples: 54\"\n"
     ]
    }
   ],
   "source": [
    "# Get samples information\n",
    "samples <- pData(gset)\n",
    "# Select sample from Entorhinal Cortex region\n",
    "idx <- grep(\"entorhinal\", samples$`brain region:ch1`)\n",
    "gset = gset[ ,idx]\n",
    "samples = samples[idx,]\n",
    "# Get expression data for samples collected from entorhinal cortex region\n",
    "expression_data = expression_data[,idx]\n",
    "# Print out new number genes and samples\n",
    "print(paste0(\"#Genes: \",dim(expression_data)[1],\"- #Samples: \",dim(expression_data)[2]))"
   ]
  },
  {
   "cell_type": "markdown",
   "id": "d88488f6",
   "metadata": {
    "pycharm": {
     "name": "#%% md\n"
    }
   },
   "source": [
    "We can see that there are 54 samples that were collected from entorhinal cortex region. Next, we need to perform a $log_2$ transformation."
   ]
  },
  {
   "cell_type": "code",
   "execution_count": 5,
   "id": "32b9d272",
   "metadata": {
    "pycharm": {
     "name": "#%%\n"
    }
   },
   "outputs": [],
   "source": [
    "# Calculate quantile values from the data\n",
    "qx <- as.numeric(quantile(expression_data, c(0., 0.25, 0.5, 0.75, 0.99, 1.0), na.rm=T))\n",
    "# Perform log2 transformation\n",
    "LogC <- (qx[5] > 100) || (qx[6]-qx[1] > 50 && qx[2] > 0)\n",
    "if (LogC) { expression_data[which(expression_data <= 0)] <- NaN\n",
    "exprs(gset) <- log2(expression_data)}"
   ]
  },
  {
   "cell_type": "markdown",
   "id": "995d4424",
   "metadata": {
    "pycharm": {
     "name": "#%% md\n"
    }
   },
   "source": [
    "In order to perform DE analysis, we need to group patients into two groups: *“condition”* and *“control”*. From the samples source name, patients diagnosed with Alzheimer's Disease are annotated with 'AD'. Therefore, any samples that contain string 'AD' are labelled by 'd' (condition/disease) and the remaining samples are assigned to 'c' (control/normal). The code to group the samples is presented below:"
   ]
  },
  {
   "cell_type": "code",
   "execution_count": 6,
   "id": "038be0ed",
   "metadata": {
    "pycharm": {
     "name": "#%%\n"
    }
   },
   "outputs": [],
   "source": [
    "# Select diease samples\n",
    "disease_idx <- grep(\"AD\", samples$source_name_ch1)\n",
    "# Create a vector to store label\n",
    "groups <- rep(\"X\", nrow(samples))\n",
    "# Annotate a diasease sameples as \"d\"\n",
    "groups[disease_idx] <- \"d\"\n",
    "# Control samples are labeled as \"c\"\n",
    "groups[which(groups!=\"d\")] <- \"c\"\n",
    "groups <- factor(groups)"
   ]
  },
  {
   "cell_type": "code",
   "execution_count": 7,
   "id": "82d6687e",
   "metadata": {
    "pycharm": {
     "name": "#%%\n"
    }
   },
   "outputs": [
    {
     "data": {
      "text/html": [
       "<style>\n",
       ".list-inline {list-style: none; margin:0; padding: 0}\n",
       ".list-inline>li {display: inline-block}\n",
       ".list-inline>li:not(:last-child)::after {content: \"\\00b7\"; padding: 0 .5ex}\n",
       "</style>\n",
       "<ol class=list-inline><li>c</li><li>c</li><li>c</li><li>c</li><li>c</li><li>c</li><li>c</li><li>c</li><li>c</li><li>c</li><li>c</li><li>c</li><li>c</li><li>c</li><li>c</li><li>c</li><li>c</li><li>c</li><li>c</li><li>c</li><li>c</li><li>c</li><li>c</li><li>c</li><li>c</li><li>c</li><li>c</li><li>c</li><li>c</li><li>c</li><li>c</li><li>c</li><li>c</li><li>c</li><li>c</li><li>c</li><li>c</li><li>c</li><li>c</li><li>d</li><li>d</li><li>d</li><li>d</li><li>d</li><li>d</li><li>d</li><li>d</li><li>d</li><li>d</li><li>d</li><li>d</li><li>d</li><li>d</li><li>d</li></ol>\n",
       "\n",
       "<details>\n",
       "\t<summary style=display:list-item;cursor:pointer>\n",
       "\t\t<strong>Levels</strong>:\n",
       "\t</summary>\n",
       "\t<style>\n",
       "\t.list-inline {list-style: none; margin:0; padding: 0}\n",
       "\t.list-inline>li {display: inline-block}\n",
       "\t.list-inline>li:not(:last-child)::after {content: \"\\00b7\"; padding: 0 .5ex}\n",
       "\t</style>\n",
       "\t<ol class=list-inline><li>'c'</li><li>'d'</li></ol>\n",
       "</details>"
      ],
      "text/latex": [
       "\\begin{enumerate*}\n",
       "\\item c\n",
       "\\item c\n",
       "\\item c\n",
       "\\item c\n",
       "\\item c\n",
       "\\item c\n",
       "\\item c\n",
       "\\item c\n",
       "\\item c\n",
       "\\item c\n",
       "\\item c\n",
       "\\item c\n",
       "\\item c\n",
       "\\item c\n",
       "\\item c\n",
       "\\item c\n",
       "\\item c\n",
       "\\item c\n",
       "\\item c\n",
       "\\item c\n",
       "\\item c\n",
       "\\item c\n",
       "\\item c\n",
       "\\item c\n",
       "\\item c\n",
       "\\item c\n",
       "\\item c\n",
       "\\item c\n",
       "\\item c\n",
       "\\item c\n",
       "\\item c\n",
       "\\item c\n",
       "\\item c\n",
       "\\item c\n",
       "\\item c\n",
       "\\item c\n",
       "\\item c\n",
       "\\item c\n",
       "\\item c\n",
       "\\item d\n",
       "\\item d\n",
       "\\item d\n",
       "\\item d\n",
       "\\item d\n",
       "\\item d\n",
       "\\item d\n",
       "\\item d\n",
       "\\item d\n",
       "\\item d\n",
       "\\item d\n",
       "\\item d\n",
       "\\item d\n",
       "\\item d\n",
       "\\item d\n",
       "\\end{enumerate*}\n",
       "\n",
       "\\emph{Levels}: \\begin{enumerate*}\n",
       "\\item 'c'\n",
       "\\item 'd'\n",
       "\\end{enumerate*}\n"
      ],
      "text/markdown": [
       "1. c\n",
       "2. c\n",
       "3. c\n",
       "4. c\n",
       "5. c\n",
       "6. c\n",
       "7. c\n",
       "8. c\n",
       "9. c\n",
       "10. c\n",
       "11. c\n",
       "12. c\n",
       "13. c\n",
       "14. c\n",
       "15. c\n",
       "16. c\n",
       "17. c\n",
       "18. c\n",
       "19. c\n",
       "20. c\n",
       "21. c\n",
       "22. c\n",
       "23. c\n",
       "24. c\n",
       "25. c\n",
       "26. c\n",
       "27. c\n",
       "28. c\n",
       "29. c\n",
       "30. c\n",
       "31. c\n",
       "32. c\n",
       "33. c\n",
       "34. c\n",
       "35. c\n",
       "36. c\n",
       "37. c\n",
       "38. c\n",
       "39. c\n",
       "40. d\n",
       "41. d\n",
       "42. d\n",
       "43. d\n",
       "44. d\n",
       "45. d\n",
       "46. d\n",
       "47. d\n",
       "48. d\n",
       "49. d\n",
       "50. d\n",
       "51. d\n",
       "52. d\n",
       "53. d\n",
       "54. d\n",
       "\n",
       "\n",
       "\n",
       "**Levels**: 1. 'c'\n",
       "2. 'd'\n",
       "\n",
       "\n"
      ],
      "text/plain": [
       " [1] c c c c c c c c c c c c c c c c c c c c c c c c c c c c c c c c c c c c c c\n",
       "[39] c d d d d d d d d d d d d d d d\n",
       "Levels: c d"
      ]
     },
     "metadata": {},
     "output_type": "display_data"
    }
   ],
   "source": [
    "groups"
   ]
  },
  {
   "cell_type": "markdown",
   "id": "077d0d8d",
   "metadata": {
    "pycharm": {
     "name": "#%% md\n"
    }
   },
   "source": [
    "## DE analysis using limma.\n",
    "Now, we need to specify the model to be fitted using `limma`. Linear modelling in `limma` is carried out using the `lmFit` and `contrasts.fit` functions originally written for application to microarrays. The functions can be used for both microarray and RNA-seq data and fit a separate model to the expression values for each gene. Next, empirical Bayes moderation is carried out using `eBayes` function.  Empirical Bayes moderation borrows information across all the genes to obtain more precise estimates of gene-wise variability. The model’s residual variances are plotted against average expression values in the next figure. It can be seen from this plot that the variance is no longer dependent on the mean expression level."
   ]
  },
  {
   "cell_type": "code",
   "execution_count": 8,
   "id": "be87d65f",
   "metadata": {
    "pycharm": {
     "name": "#%%\n"
    }
   },
   "outputs": [
    {
     "ename": "ERROR",
     "evalue": "Error in lmFit(gset, design): could not find function \"lmFit\"\n",
     "output_type": "error",
     "traceback": [
      "Error in lmFit(gset, design): could not find function \"lmFit\"\nTraceback:\n"
     ]
    }
   ],
   "source": [
    "# Add groups to gset object\n",
    "gset$group <- groups\n",
    "design <- model.matrix(~group + 0, gset)\n",
    "colnames(design) <- levels(groups)\n",
    "fit <- lmFit(gset, design)  # fit linear model\n",
    "# set up contrasts of interest and recalculate model coefficients\n",
    "cts <- paste(\"c\", \"d\", sep=\"-\")\n",
    "cont.matrix <- makeContrasts(contrasts=cts, levels=design)\n",
    "fit2 <- contrasts.fit(fit, cont.matrix)\n",
    "\n",
    "# compute statistics and table of top significant genes\n",
    "fit2 <- eBayes(fit2, 0.01)"
   ]
  },
  {
   "cell_type": "markdown",
   "id": "e5b34e4e",
   "metadata": {
    "pycharm": {
     "name": "#%% md\n"
    }
   },
   "source": [
    "To see the number of significantly up- and down-regulated genes, we can use the code below to generate the summary table."
   ]
  },
  {
   "cell_type": "code",
   "execution_count": null,
   "id": "a802d105",
   "metadata": {
    "pycharm": {
     "name": "#%%\n"
    }
   },
   "outputs": [],
   "source": [
    "dt <- decideTests(fit2,p.value=0.05)\n",
    "summary(dt)"
   ]
  },
  {
   "cell_type": "markdown",
   "id": "e935b219",
   "metadata": {
    "pycharm": {
     "name": "#%% md\n"
    }
   },
   "source": [
    "Here, significance is defined using an adjusted p-value cutoff that is set at 5% by default. For the comparison between expression levels in *“condition”* (d) and *“control”* (c), 293 genes are found to be down-regulated and 489 genes are up-regulated. We also can extract a table of the top-ranked genes from a linear model fit using `topTable` function. By default, `topTable` arranges genes from smallest to largest adjusted p-value with associated gene information, log-FC, average log-CPM, moderated t-statistic, raw and adjusted p-value for each gene. The number of top genes displayed can be specified, where `n=Inf` includes all genes."
   ]
  },
  {
   "cell_type": "code",
   "execution_count": null,
   "id": "e9bf1064",
   "metadata": {
    "pycharm": {
     "name": "#%%\n"
    }
   },
   "outputs": [],
   "source": [
    "top_genes <- topTable(fit2, adjust=\"fdr\", sort.by=\"B\", number=250)\n",
    "top_genes <- subset(top_genes, select=c(\"ID\",\"adj.P.Val\",\"P.Value\",\"t\",\"B\",\"logFC\",\"Gene.symbol\",\"Gene.title\"))\n",
    "head(top_genes)"
   ]
  },
  {
   "cell_type": "markdown",
   "id": "56ed20b1",
   "metadata": {
    "pycharm": {
     "name": "#%% md\n"
    }
   },
   "source": [
    "## Visualization of of differential expression results.\n",
    "To summarise results for all genes visually, mean-difference plots, which display log-FCs from the linear model fit against the average log-CPM values can be generated using the `plotMD` function, with the differentially expressed genes highlighted."
   ]
  },
  {
   "cell_type": "code",
   "execution_count": null,
   "id": "0a55ec52",
   "metadata": {
    "pycharm": {
     "name": "#%%\n"
    }
   },
   "outputs": [],
   "source": [
    "plotMD(fit2, column=1, status=dt[,1], main=colnames(fit2)[1],\n",
    "       xlim=c(-8,13),pch=20, cex=1)\n",
    "abline(h=0)"
   ]
  },
  {
   "cell_type": "markdown",
   "id": "22483536",
   "metadata": {
    "pycharm": {
     "name": "#%% md\n"
    }
   },
   "source": [
    "Another way to visualize the number of regulated and unregulated genes is to use Venn diagram. The command to generate the diagram is presented below"
   ]
  },
  {
   "cell_type": "code",
   "execution_count": null,
   "id": "303ef270",
   "metadata": {
    "pycharm": {
     "name": "#%%\n"
    }
   },
   "outputs": [],
   "source": [
    "# summarize test results as \"up\", \"down\" or \"not expressed\"\n",
    "dT <- decideTests(fit2, adjust.method=\"fdr\", p.value=0.05)\n",
    "# Venn diagram of results\n",
    "vennDiagram(dT, circle.col=palette())"
   ]
  },
  {
   "cell_type": "markdown",
   "id": "10b60015",
   "metadata": {
    "pycharm": {
     "name": "#%% md\n"
    }
   },
   "source": [
    "We can visualize the adjusted p-value distribution for all gene using histogram plot as follow"
   ]
  },
  {
   "cell_type": "code",
   "execution_count": null,
   "id": "bc2f35c7-0a9e-4d5b-9901-d42dd52b3f5c",
   "metadata": {},
   "outputs": [],
   "source": [
    "# Visualize and quality control test results.\n",
    "# Build histogram of P-values for all genes. Normal test\n",
    "# assumption is that most genes are not differentially expressed.\n",
    "tT2 <- topTable(fit2, adjust=\"fdr\", sort.by=\"B\", number=Inf)\n",
    "hist(tT2$adj.P.Val, col = \"grey\", border = \"white\", xlab = \"P-adj\",\n",
    "     ylab = \"Number of genes\", main = \"P-adj value distribution\")"
   ]
  },
  {
   "cell_type": "code",
   "execution_count": null,
   "id": "329e6ca9-f0ca-4ed1-b585-639717e19202",
   "metadata": {},
   "outputs": [],
   "source": [
    "# create Q-Q plot for t-statistic\n",
    "t.good <- which(!is.na(fit2$F)) # filter out bad probes\n",
    "qqt(fit2$t[t.good], fit2$df.total[t.good], main=\"Moderated t statistic\")"
   ]
  },
  {
   "cell_type": "code",
   "execution_count": null,
   "id": "a92ff556-1e27-455d-83f0-755bc70e08d2",
   "metadata": {
    "pycharm": {
     "name": "#%%\n"
    }
   },
   "outputs": [],
   "source": [
    "# volcano plot (log P-value vs log fold change)\n",
    "colnames(fit2) # list contrast names\n",
    "ct <- 1        # choose contrast of interest\n",
    "volcanoplot(fit2, coef=ct, main=colnames(fit2)[ct], pch=20,\n",
    "            highlight=length(which(dT[,ct]!=0)), names=rep('+', nrow(fit2)))\n"
   ]
  }
 ],
 "metadata": {
  "celltoolbar": "Tags",
  "environment": {
   "kernel": "ir",
   "name": "r-cpu.4-1.m93",
   "type": "gcloud",
   "uri": "gcr.io/deeplearning-platform-release/r-cpu.4-1:m93"
  },
  "kernelspec": {
   "display_name": "R",
   "language": "R",
   "name": "ir"
  },
  "language_info": {
   "codemirror_mode": "r",
   "file_extension": ".r",
   "mimetype": "text/x-r-source",
   "name": "R",
   "pygments_lexer": "r",
   "version": "4.1.3"
  },
  "toc-showcode": true,
  "widgets": {
   "application/vnd.jupyter.widget-state+json": {
    "state": {},
    "version_major": 2,
    "version_minor": 0
   }
  }
 },
 "nbformat": 4,
 "nbformat_minor": 5
}
