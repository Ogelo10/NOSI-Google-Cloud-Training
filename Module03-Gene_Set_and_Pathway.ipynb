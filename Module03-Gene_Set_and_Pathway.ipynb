{
 "cells": [
  {
   "cell_type": "markdown",
   "id": "f380fb8f-dc93-414c-b815-6ace422d7f90",
   "metadata": {
    "pycharm": {
     "name": "#%% md\n"
    },
    "tags": []
   },
   "source": [
    "# Gene set and pathway\n",
    "\n",
    "![](./images/Module3/Workflow3.jpg)\n",
    "\n",
    "Differential expression (DE) analysis typically yields a list of genes or proteins that require further interpretation.\n",
    "Our intention is to use such lists to gain novel insights about genes and proteins that may have roles in a given\n",
    "phenomenon, phenotype or disease progression. However, in many cases, gene lists generated from DE analysis are\n",
    "difficult to interpret due to their large size and lack of useful annotations. Hence, pathway analysis (also known\n",
    "as gene set analysis or over-representation analysis), aims to reduce the complexity of interpreting gene lists\n",
    "via mapping the listed genes to known (i.e. annotated) biological pathways, processes and functions.\n",
    "This learning module introduces common curated biological databases including Gene Ontology (GO),\n",
    "Kyoto Encyclopedia of Genes and Genomes (KEGG).\n",
    "\n",
    "## Learning Objectives:\n",
    "1. Introduction to Ontology and Gene Ontology.\n",
    "2. Introduction to KEGG Pathway Database.\n",
    "3. Downloading terms, pathway gene set from GO and KEGG.\n",
    "4. Saving results to GMT file format."
   ]
  },
  {
   "cell_type": "markdown",
   "id": "1859736a",
   "metadata": {
    "pycharm": {
     "name": "#%% md\n"
    }
   },
   "source": [
    "## Ontology and Gene Ontology\n",
    "### Overview\n",
    "In this section we will learn about the concept of gene ontology in Bioinformatics. Ontology is a specification\n",
    "of a conceptualization which is a set of concepts within a domain, defined by a shared vocabulary to\n",
    "denote the types and properties of the concepts as well as the relationships between the concepts.\n",
    "Ontology plays an important role in the field of bioinformatics. Ontology enable communicate unambiguously e.g.,\n",
    "to understand across different groups’ annotations of various genomes. Also, it allows the knowledge to be represented\n",
    "in a computable and structured to perform automated analyses by computer programs.\n",
    "\n",
    "The Gene Ontology (GO) defines a structured, common, controlled vocabulary to describe attributes of genes and gene products\n",
    "across organisms. Collaboration is key to build a consensus vocabulary. But the term gene ontology, or GO, is commonly used\n",
    "to refer to both, which is sometimes a source of potential confusion. In order to avoid this, here we will use the term “GO”\n",
    "to describe the set of terms and their hierarchical structure and “GO annotations” to describe the set of associations between\n",
    "genes and GO terms. The GO is divided into three categories to describe the genes and gene products from three different\n",
    "angles: Molecular Function, Biological Process, and Cellular Component.\n",
    "\n",
    "The structure of GO can be described in terms of into directed acyclic graphs (DAGs), where each GO term is a node,\n",
    "and the relationships between the terms are edges between the nodes. GO is loosely hierarchical, with ‘child’ terms\n",
    "being more specialized than their ‘parent’ terms, but unlike a strict hierarchy, a term may have more than one parent\n",
    "term (note that the parent/child model does not hold true for all types of relations). The structure of the controlled\n",
    "vocabularies are intended to reflect true, biological relationships. In contrast to strict hierarchies, DAGS allow\n",
    "multiple relationships between a more granular (child) term and a more general parent term. The relationship between\n",
    "terms affects how queries are made. For example,a query for all genes with binding activity would include transcription\n",
    "factors as well as genes with other types of binding activity (such as protein binding, ligand binding). The illustration\n",
    "of category and structure of GO is shown in the figure below:\n",
    "\n",
    "![](./images/Module3/GO_Structure.jpg)\n",
    "*(Source: https://www.ebi.ac.uk/, http://geneontology.org/)*\n",
    "\n",
    "### Gene ontology relationship\n",
    "In DAGs graph, *terms* are represented as *nodes* and *relations* (also known as *object properties*) between the *terms*\n",
    "are *edges*. There are commonly used relationships in GO such as *is a* (is a *subtype of*), *part of, has part, regulates,\n",
    "negatively regulates and positively regulates*. All terms (except from the root terms representing each aspect) have an\n",
    "is a sub-class relationship to another terms.\n",
    "\n",
    "Examples:"
   ]
  },
  {
   "cell_type": "markdown",
   "source": [
    "```{admonition} *is a* relation\n",
    "**GO:1904659:glucose transport** *is* a **GO:0015749:monosaccharide transport**.\n",
    "\n",
    "The *is a* relation forms the basic structure of GO. If we say A *is a* B, we mean that node A is a subtype of node B\n",
    "\n",
    "```"
   ],
   "metadata": {
    "collapsed": false,
    "pycharm": {
     "name": "#%% md\n"
    }
   }
  },
  {
   "cell_type": "markdown",
   "source": [
    "```{admonition} *is part of* relation\n",
    "**GO:0031966:mitochondrial membrane** *is part of* **GO:0005740:mitochondrial envelope**\n",
    "\n",
    "The *part of* relation is used to represent part-whole relationships. A *part of* relation would only be added between\n",
    "A and B if B is **necessarily** *part of* A: wherever B exists, it is as *part of* A, and the presence of the B implies\n",
    "the presence of A. However, given the occurrence of A, we cannot say for certain that B exists.\n",
    "```"
   ],
   "metadata": {
    "collapsed": false,
    "pycharm": {
     "name": "#%% md\n"
    }
   }
  },
  {
   "cell_type": "markdown",
   "source": [
    "```{admonition} *regulates* relation\n",
    "**GO:0098689:latency-replication decision** *regulates* **GO:0019046:release from viral latency**\n",
    "\n",
    "A relation that describes case in which one process directly affects the manifestation of another process or quality,\n",
    "i.e. the former *regulates* the latter.\n",
    "```"
   ],
   "metadata": {
    "collapsed": false,
    "pycharm": {
     "name": "#%% md\n"
    }
   }
  },
  {
   "cell_type": "markdown",
   "source": [
    "A more specific case with more nodes and edges can be seen at the figure below:\n",
    "<br>\n",
    "![](./images/Module3/GO_Relation.jpg)\n",
    "*(Source: https://advaitabio.com/)* <br>\n",
    "For more technical information about relations and their properties used in GO and other ontologies see the\n",
    "<a href=\"https://obofoundry.org/ontology/ro.html\">OBO Relations Ontology (RO)</a>\n"
   ],
   "metadata": {
    "collapsed": false,
    "pycharm": {
     "name": "#%% md\n"
    }
   }
  },
  {
   "cell_type": "markdown",
   "id": "c0d70e92",
   "metadata": {
    "pycharm": {
     "name": "#%% md\n"
    }
   },
   "source": [
    "### GO storage file formats\n",
    "GO terms are updated monthly in the following formats:\n",
    "* OBO 1.4 files are human-readable (in addition to machine-readable) and can be opened in any text editor.\n",
    "* OWL files can be read by <a href=\"https://protege.stanford.edu/\">Protégé</a> text editor.\n",
    "\n",
    " In this learning module, we will only use \".OBO\" to obtain GO terms.The OBO file format is for representing ontologies and controlled vocabularies. The format itself attempts to achieve the following goals:\n",
    " * Human readability\n",
    " * Ease of parsing\n",
    " * Extensibility\n",
    " * Minimal redundancy\n",
    "\n",
    "The file structure can is shown in the following figure.\n",
    "\n",
    "\n",
    "![](./images/Module3/OBO_Format.jpg)\n",
    "\n",
    "The OBO file has a header which is an unlabeled section at the beginning of the document. The header ends when the first term is encountered. Next, term is represented in labeled section with the tag *[Term]*. Under each term, we can find other information such as term ID, official name, category (namcespace), term definition, synonym and relation to other GO term.\n",
    "\n",
    "At this step, we still don't know what genes are related to which GO terms. In order to retrieve custom sets of gene ontology annotations for any list of genes from organisms, NCBI has published a Gene2GO database that obtain GO terms and the entrez gene ids related to those go terms. The database can be retrieve from <a href=\"https://ftp.ncbi.nih.gov/gene/DATA/gene2go.gz\">here</a> text editor. The Gene2GO database can be viewed using text editor, the file structure is presented in the figure below:\n",
    "\n",
    "![](./images/Module3/Gene2GO.jpg)\n",
    "\n",
    "The OBO and Gene2GO databases will be used in combination to obtain GO term and related genes for enrichment analysis."
   ]
  },
  {
   "cell_type": "markdown",
   "source": [
    "## KEGG database\n",
    "### Overview\n",
    "KEGG (Kyoto Encyclopedia of Genes and Genomes) is a collection of databases dealing with genomes, biological pathways, diseases, drugs, and chemical substances. KEGG is utilized for bioinformatics research and education, including data analysis in genomics, metagenomics, metabolomics and other omics studies, modeling and simulation in systems biology, and translational research in drug development. The KEGG database project was initiated in 1995 by Minoru Kanehisa, professor at the Institute for Chemical Research, Kyoto University, under the then ongoing Japanese Human Genome Program. Foreseeing the need for a computerized resource that can be used for biological interpretation of genome sequence data, he started developing the KEGG PATHWAY database. It is a collection of manually drawn KEGG pathway maps representing experimental knowledge on metabolism and various other functions of the cell and the organism. Each pathway map contains a network of molecular interactions and reactions and is designed to link genes in the genome to gene products (mostly proteins) in the pathway. This has enabled the analysis called KEGG pathway mapping, whereby the gene content in the genome is compared with the KEGG PATHWAY database to examine which pathways and associated functions are likely to be encoded in the genome. KEGG is a \"computer representation\" of the biological system.[3] It integrates building blocks and wiring diagrams of the system—more specifically, genetic building blocks of genes and proteins, chemical building blocks of small molecules and reactions, and wiring diagrams of molecular interaction and reaction networks. This concept is realized in the following databases of KEGG, which are categorized into systems, genomic, chemical, and health information.\n",
    "\n",
    "The illustrative structure of KEGG is presented as figure below.\n"
   ],
   "metadata": {
    "collapsed": false,
    "pycharm": {
     "name": "#%% md\n"
    }
   }
  },
  {
   "cell_type": "markdown",
   "id": "109bf945",
   "metadata": {},
   "source": [
    "We can check for number of samples and genes using this command:"
   ]
  },
  {
   "cell_type": "code",
   "execution_count": null,
   "outputs": [],
   "source": [],
   "metadata": {
    "collapsed": false,
    "pycharm": {
     "name": "#%%\n"
    }
   }
  },
  {
   "cell_type": "markdown",
   "id": "5e248aff",
   "metadata": {
    "pycharm": {
     "name": "#%% md\n"
    }
   },
   "source": [
    "Now we need to select the samples that belong to entorhinal cortex region using following command"
   ]
  },
  {
   "cell_type": "markdown",
   "id": "d88488f6",
   "metadata": {
    "pycharm": {
     "name": "#%% md\n"
    }
   },
   "source": [
    "We can see that there are 54 samples that were collected from entorhinal cortex region. Next, we need to perform a $log_2$ transformation."
   ]
  },
  {
   "cell_type": "markdown",
   "id": "995d4424",
   "metadata": {
    "pycharm": {
     "name": "#%% md\n"
    }
   },
   "source": [
    "In order to perform DE analysis, we need to group patients into two groups: *“condition”* and *“control”*. From the samples source name, patients diagnosed with Alzheimer's Disease are annotated with 'AD'. Therefore, any samples that contain string 'AD' are labelled by 'd' (condition/disease) and the remaining samples are assigned to 'c' (control/normal). The code to group the samples is presented below:"
   ]
  },
  {
   "cell_type": "markdown",
   "id": "077d0d8d",
   "metadata": {
    "pycharm": {
     "name": "#%% md\n"
    }
   },
   "source": [
    "## DE analysis using limma.\n",
    "Now, we need to specify the model to be fitted using `limma`. Linear modelling in `limma` is carried out using the `lmFit` and `contrasts.fit` functions originally written for application to microarrays. The functions can be used for both microarray and RNA-seq data and fit a separate model to the expression values for each gene. Next, empirical Bayes moderation is carried out using `eBayes` function.  Empirical Bayes moderation borrows information across all the genes to obtain more precise estimates of gene-wise variability. The model’s residual variances are plotted against average expression values in the next figure. It can be seen from this plot that the variance is no longer dependent on the mean expression level."
   ]
  },
  {
   "cell_type": "markdown",
   "id": "e5b34e4e",
   "metadata": {
    "pycharm": {
     "name": "#%% md\n"
    }
   },
   "source": [
    "To see the number of significantly up- and down-regulated genes, we can use the code below to generate the summary table."
   ]
  },
  {
   "cell_type": "markdown",
   "id": "e935b219",
   "metadata": {
    "pycharm": {
     "name": "#%% md\n"
    }
   },
   "source": [
    "Here, significance is defined using an adjusted p-value cutoff that is set at 5% by default. For the comparison between expression levels in *“condition”* (d) and *“control”* (c), 293 genes are found to be down-regulated and 489 genes are up-regulated. We also can extract a table of the top-ranked genes from a linear model fit using `topTable` function. By default, `topTable` arranges genes from smallest to largest adjusted p-value with associated gene information, log-FC, average log-CPM, moderated t-statistic, raw and adjusted p-value for each gene. The number of top genes displayed can be specified, where `n=Inf` includes all genes."
   ]
  },
  {
   "cell_type": "markdown",
   "id": "56ed20b1",
   "metadata": {
    "pycharm": {
     "name": "#%% md\n"
    }
   },
   "source": [
    "## Visualization of of differential expression results.\n",
    "To summarise results for all genes visually, mean-difference plots, which display log-FCs from the linear model fit against the average log-CPM values can be generated using the `plotMD` function, with the differentially expressed genes highlighted."
   ]
  },
  {
   "cell_type": "markdown",
   "id": "22483536",
   "metadata": {
    "pycharm": {
     "name": "#%% md\n"
    }
   },
   "source": [
    "Another way to visualize the number of regulated and unregulated genes is to use Venn diagram. The command to generate the diagram is presented below"
   ]
  },
  {
   "cell_type": "markdown",
   "id": "10b60015",
   "metadata": {
    "pycharm": {
     "name": "#%% md\n"
    }
   },
   "source": [
    "We can visualize the adjusted p-value distribution for all gene using histogram plot as follow\n"
   ]
  }
 ],
 "metadata": {
  "celltoolbar": "Tags",
  "environment": {
   "kernel": "ir",
   "name": "r-cpu.4-1.m93",
   "type": "gcloud",
   "uri": "gcr.io/deeplearning-platform-release/r-cpu.4-1:m93"
  },
  "kernelspec": {
   "display_name": "R",
   "language": "R",
   "name": "ir"
  },
  "language_info": {
   "codemirror_mode": "r",
   "file_extension": ".r",
   "mimetype": "text/x-r-source",
   "name": "R",
   "pygments_lexer": "r",
   "version": "4.1.3"
  },
  "toc-showcode": true,
  "widgets": {
   "application/vnd.jupyter.widget-state+json": {
    "state": {},
    "version_major": 2,
    "version_minor": 0
   }
  }
 },
 "nbformat": 4,
 "nbformat_minor": 5
}