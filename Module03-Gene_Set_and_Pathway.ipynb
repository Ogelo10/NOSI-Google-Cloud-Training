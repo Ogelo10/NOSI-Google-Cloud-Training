{
 "cells": [
  {
   "cell_type": "markdown",
   "id": "f380fb8f-dc93-414c-b815-6ace422d7f90",
   "metadata": {
    "pycharm": {
     "name": "#%% md\n"
    },
    "tags": []
   },
   "source": [
    "# Gene set and pathway\n",
    "\n",
    "![](./images/Module3/Workflow3.jpg)\n",
    "\n",
    "Differential expression (DE) analysis typically yields a list of genes or proteins that require further interpretation.\n",
    "Our intention is to use such lists to gain novel insights about genes and proteins that may have roles in a given\n",
    "phenomenon, phenotype or disease progression. However, in many cases, gene lists generated from DE analysis are\n",
    "difficult to interpret due to their large size and lack of useful annotations. Hence, pathway analysis (also known\n",
    "as gene set analysis or over-representation analysis), aims to reduce the complexity of interpreting gene lists\n",
    "via mapping the listed genes to known (i.e. annotated) biological pathways, processes and functions.\n",
    "This learning module introduces common curated biological databases including Gene Ontology (GO),\n",
    "Kyoto Encyclopedia of Genes and Genomes (KEGG).\n",
    "\n",
    "## Learning Objectives:\n",
    "1. Introduction to Ontology and Gene Ontology.\n",
    "2. Introduction to KEGG Pathway Database.\n",
    "3. Downloading terms, pathway gene set from GO and KEGG.\n",
    "4. Saving results to GMT file format."
   ]
  },
  {
   "cell_type": "markdown",
   "id": "1859736a",
   "metadata": {
    "pycharm": {
     "name": "#%% md\n"
    }
   },
   "source": [
    "## Ontology and Gene Ontology\n",
    "### Overview\n",
    "In this section we will learn about the concept of gene ontology in Bioinformatics. Ontology is a specification\n",
    "of a conceptualization which is a set of concepts within a domain, defined by a shared vocabulary to\n",
    "denote the types and properties of the concepts as well as the relationships between the concepts.\n",
    "Ontology plays an important role in the field of bioinformatics. Ontology enable communicate unambiguously e.g.,\n",
    "to understand across different groups’ annotations of various genomes. Also, it allows the knowledge to be represented\n",
    "in a computable and structured to perform automated analyses by computer programs.\n",
    "\n",
    "The Gene Ontology (GO) defines a structured, common, controlled vocabulary to describe attributes of genes and gene products\n",
    "across organisms. Collaboration is key to build a consensus vocabulary. But the term gene ontology, or GO, is commonly used\n",
    "to refer to both, which is sometimes a source of potential confusion. In order to avoid this, here we will use the term “GO”\n",
    "to describe the set of terms and their hierarchical structure and “GO annotations” to describe the set of associations between\n",
    "genes and GO terms. The GO is divided into three categories to describe the genes and gene products from three different\n",
    "angles: Molecular Function, Biological Process, and Cellular Component.\n",
    "\n",
    "The structure of GO can be described in terms of into directed acyclic graphs (DAGs), where each GO term is a node,\n",
    "and the relationships between the terms are edges between the nodes. GO is loosely hierarchical, with ‘child’ terms\n",
    "being more specialized than their ‘parent’ terms, but unlike a strict hierarchy, a term may have more than one parent\n",
    "term (note that the parent/child model does not hold true for all types of relations). The structure of the controlled\n",
    "vocabularies are intended to reflect true, biological relationships. In contrast to strict hierarchies, DAGS allow\n",
    "multiple relationships between a more granular (child) term and a more general parent term. The relationship between\n",
    "terms affects how queries are made. For example,a query for all genes with binding activity would include transcription\n",
    "factors as well as genes with other types of binding activity (such as protein binding, ligand binding). The illustration\n",
    "of category and structure of GO is shown in the figure below:\n",
    "\n",
    "![](./images/Module3/GO_Structure.jpg)\n",
    "*(Source: https://www.ebi.ac.uk/, http://geneontology.org/)*\n",
    "\n",
    "### Gene ontology relationship\n",
    "In DAGs graph, *terms* are represented as *nodes* and *relations* (also known as *object properties*) between the *terms*\n",
    "are *edges*. There are commonly used relationships in GO such as *is a* (is a *subtype of*), *part of, has part, regulates,\n",
    "negatively regulates and positively regulates*. All terms (except from the root terms representing each aspect) have an\n",
    "is a sub-class relationship to another terms.\n",
    "\n",
    "Examples:"
   ]
  },
  {
   "cell_type": "markdown",
   "source": [
    "```{admonition} *is a* relation\n",
    "**GO:1904659:glucose transport** *is* a **GO:0015749:monosaccharide transport**.\n",
    "\n",
    "The *is a* relation forms the basic structure of GO. If we say A *is a* B, we mean that node A is a subtype of node B\n",
    "\n",
    "```"
   ],
   "metadata": {
    "collapsed": false,
    "pycharm": {
     "name": "#%% md\n"
    }
   }
  },
  {
   "cell_type": "markdown",
   "source": [
    "```{admonition} *is part of* relation\n",
    "**GO:0031966:mitochondrial membrane** *is part of* **GO:0005740:mitochondrial envelope**\n",
    "\n",
    "The *part of* relation is used to represent part-whole relationships. A *part of* relation would only be added between\n",
    "A and B if B is **necessarily** *part of* A: wherever B exists, it is as *part of* A, and the presence of the B implies\n",
    "the presence of A. However, given the occurrence of A, we cannot say for certain that B exists.\n",
    "```"
   ],
   "metadata": {
    "collapsed": false,
    "pycharm": {
     "name": "#%% md\n"
    }
   }
  },
  {
   "cell_type": "markdown",
   "source": [
    "```{admonition} *regulates* relation\n",
    "**GO:0098689:latency-replication decision** *regulates* **GO:0019046:release from viral latency**\n",
    "\n",
    "A relation that describes case in which one process directly affects the manifestation of another process or quality,\n",
    "i.e. the former *regulates* the latter.\n",
    "```"
   ],
   "metadata": {
    "collapsed": false,
    "pycharm": {
     "name": "#%% md\n"
    }
   }
  },
  {
   "cell_type": "markdown",
   "source": [
    "A more specific case with more nodes and edges can be seen at the figure below:\n",
    "<br>\n",
    "![](./images/Module3/GO_Relation.jpg)\n",
    "*(Source: https://advaitabio.com/)* <br>\n",
    "For more technical information about relations and their properties used in GO and other ontologies see the\n",
    "<a href=\"https://obofoundry.org/ontology/ro.html\">OBO Relations Ontology (RO)</a>\n"
   ],
   "metadata": {
    "collapsed": false,
    "pycharm": {
     "name": "#%% md\n"
    }
   }
  },
  {
   "cell_type": "markdown",
   "id": "c0d70e92",
   "metadata": {
    "pycharm": {
     "name": "#%% md\n"
    }
   },
   "source": [
    "### GO storage file formats\n",
    "GO terms are updated monthly in the following formats:\n",
    "* OBO 1.4 files are human-readable (in addition to machine-readable) and can be opened in any text editor.\n",
    "* OWL files can be read by <a href=\"https://protege.stanford.edu/\">Protégé</a> text editor.\n",
    "\n",
    " In this learning module, we will only use \".OBO\" to obtain GO terms.The OBO file format is for representing ontologies and controlled vocabularies. The format itself attempts to achieve the following goals:\n",
    " * Human readability\n",
    " * Ease of parsing\n",
    " * Extensibility\n",
    " * Minimal redundancy\n",
    "\n",
    "The file structure can is shown in the following figure.\n",
    "\n",
    "\n",
    "![](./images/Module3/OBO_Format.jpg)\n",
    "\n",
    "The OBO file has a header which is an unlabeled section at the beginning of the document. The header ends when the first term is encountered. Next, term is represented in labeled section with the tag *[Term]*. Under each term, we can find other information such as term ID, official name, category (namcespace), term definition, synonym and relation to other GO term.\n",
    "\n",
    "At this step, we still don't know what genes are related to which GO terms. In order to retrieve custom sets of gene ontology annotations for any list of genes from organisms, NCBI has published a Gene2GO database that obtain GO terms and the entrez gene ids related to those go terms. The database can be retrieve from <a href=\"https://ftp.ncbi.nih.gov/gene/DATA/gene2go.gz\">here</a> text editor. The Gene2GO database can be viewed using text editor, the file structure is presented in the figure below:\n",
    "\n",
    "![](./images/Module3/Gene2GO.jpg)\n",
    "\n",
    "The OBO and Gene2GO databases will be used in combination to obtain GO term and related genes for enrichment analysis."
   ]
  },
  {
   "cell_type": "markdown",
   "source": [
    "### Retrieving GO terms from DE gene list\n"
   ],
   "metadata": {
    "collapsed": false,
    "pycharm": {
     "name": "#%% md\n"
    }
   }
  },
  {
   "cell_type": "code",
   "execution_count": 4,
   "outputs": [],
   "source": [
    "suppressMessages({if (!require(\"BiocManager\", quietly = TRUE))\n",
    "    install.packages(\"BiocManager\")\n",
    "  suppressWarnings(BiocManager::install(\"topGO\", update = F))\n",
    "  suppressWarnings(BiocManager::install(\"hgu133plus2.db\", update = F))\n",
    "})"
   ],
   "metadata": {
    "collapsed": false,
    "pycharm": {
     "name": "#%%\n"
    }
   }
  },
  {
   "cell_type": "code",
   "execution_count": 12,
   "outputs": [],
   "source": [
    "suppressPackageStartupMessages({\n",
    "  library(\"topGO\")\n",
    "  library(\"hgu133plus2.db\")\n",
    "})"
   ],
   "metadata": {
    "collapsed": false,
    "pycharm": {
     "name": "#%%\n"
    }
   }
  },
  {
   "cell_type": "code",
   "execution_count": 27,
   "outputs": [],
   "source": [
    "data = readRDS(\"./data/DE_genes.rds\")"
   ],
   "metadata": {
    "collapsed": false,
    "pycharm": {
     "name": "#%%\n"
    }
   }
  },
  {
   "cell_type": "code",
   "execution_count": 28,
   "outputs": [
    {
     "name": "stderr",
     "output_type": "stream",
     "text": [
      "'select()' returned 1:many mapping between keys and columns\n",
      "\n",
      "\n",
      "Building most specific GOs .....\n",
      "\n",
      "\t( 2203 GO terms found. )\n",
      "\n",
      "\n",
      "Build GO DAG topology ..........\n",
      "\n",
      "\t( 5410 GO terms and 11936 relations. )\n",
      "\n",
      "\n",
      "Annotating nodes ...............\n",
      "\n",
      "\t( 478 genes annotated to the GO terms. )\n",
      "\n"
     ]
    }
   ],
   "source": [
    "gl <- data$adj.P.Val\n",
    "names(gl) <- data$ID\n",
    "\n",
    "## we need a vector like yours, so do some stuff\n",
    "z <- select(hgu133plus2.db, names(gl), \"SYMBOL\")\n",
    "z <- z[!duplicated(z[,1]),]\n",
    "geneList2 <- gl\n",
    "names(geneList2) <- z[,2]\n",
    "\n",
    "sampleGOdata <- new(\"topGOdata\", description = \"\",ontology = \"BP\",\n",
    "                    allGenes = geneList2, geneSel = function(x)x, nodeSize = 10,\n",
    "                    annot = annFUN.org, ID = \"alias\", mapping = \"org.Hs.eg\")\n",
    "\n",
    "\n",
    "allGO = genesInTerm(sampleGOdata)"
   ],
   "metadata": {
    "collapsed": false,
    "pycharm": {
     "name": "#%%\n"
    }
   }
  },
  {
   "cell_type": "code",
   "execution_count": 29,
   "outputs": [
    {
     "data": {
      "text/html": "<dl>\n\t<dt>$`GO:0000003`</dt>\n\t\t<dd><style>\n.list-inline {list-style: none; margin:0; padding: 0}\n.list-inline>li {display: inline-block}\n.list-inline>li:not(:last-child)::after {content: \"\\00b7\"; padding: 0 .5ex}\n</style>\n<ol class=list-inline><li>'ALDOA'</li><li>'ALKBH1'</li><li>'ARID5B'</li><li>'ATP2B2'</li><li>'B4GALT1'</li><li>'BRF1'</li><li>'CACNA1H'</li><li>'CCDC40'</li><li>'CCNB1'</li><li>'CCNE1'</li><li>'CD9'</li><li>'CFAP157'</li><li>'CFAP54'</li><li>'CYLC1'</li><li>'EHMT2'</li><li>'ESR1'</li><li>'FAM170A'</li><li>'FKBP6'</li><li>'FOLR2'</li><li>'FUT10'</li><li>'GAMT'</li><li>'HGF'</li><li>'HYAL3'</li><li>'IGFBP7'</li><li>'LY6K'</li><li>'MYCBPAP'</li><li>'OAZ3'</li><li>'OVOL1'</li><li>'PCDH12'</li><li>'QRICH2'</li><li>'SIX5'</li><li>'SLX4'</li><li>'SPATA6L'</li><li>'ST14'</li><li>'STK11'</li><li>'STK35'</li><li>'TAC1'</li><li>'TEKT2'</li><li>'TLE6'</li><li>'TMEM95'</li><li>'TRIM27'</li><li>'YBX2'</li></ol>\n</dd>\n\t<dt>$`GO:0000122`</dt>\n\t\t<dd><style>\n.list-inline {list-style: none; margin:0; padding: 0}\n.list-inline>li {display: inline-block}\n.list-inline>li:not(:last-child)::after {content: \"\\00b7\"; padding: 0 .5ex}\n</style>\n<ol class=list-inline><li>'ARID5B'</li><li>'BARX2'</li><li>'CCNE1'</li><li>'CTBP1'</li><li>'CUX2'</li><li>'EHMT2'</li><li>'ESR1'</li><li>'GLIS3'</li><li>'GRIP1'</li><li>'HIF1AN'</li><li>'HOPX'</li><li>'HOXA7'</li><li>'LMO1'</li><li>'NR2F6'</li><li>'OTUD7B'</li><li>'OVOL1'</li><li>'RTF1'</li><li>'RUNX3'</li><li>'SP100'</li><li>'SPDEF'</li><li>'SREBF1'</li><li>'TAF1'</li><li>'TAL1'</li><li>'TGIF2'</li><li>'TLE6'</li><li>'TMPRSS6'</li><li>'TPR'</li><li>'TRIM27'</li><li>'TRIM37'</li><li>'WWC2'</li><li>'WWTR1'</li><li>'ZBTB45'</li><li>'ZC3H8'</li><li>'ZNF345'</li></ol>\n</dd>\n\t<dt>$`GO:0000165`</dt>\n\t\t<dd><style>\n.list-inline {list-style: none; margin:0; padding: 0}\n.list-inline>li {display: inline-block}\n.list-inline>li:not(:last-child)::after {content: \"\\00b7\"; padding: 0 .5ex}\n</style>\n<ol class=list-inline><li>'ADRB3'</li><li>'BRF1'</li><li>'CCL22'</li><li>'CLEC7A'</li><li>'COPS5'</li><li>'FGD2'</li><li>'FGF18'</li><li>'FGF4'</li><li>'HGF'</li><li>'LILRA5'</li><li>'MAP4K1'</li><li>'NCF1'</li><li>'NENF'</li><li>'P2RY6'</li><li>'PRDX2'</li><li>'PRMT1'</li><li>'RAP2A'</li><li>'RB1CC1'</li><li>'SERPINF2'</li><li>'SLAMF1'</li><li>'STYX'</li><li>'TEK'</li><li>'TNIP1'</li><li>'WNK2'</li></ol>\n</dd>\n\t<dt>$`GO:0000226`</dt>\n\t\t<dd><style>\n.list-inline {list-style: none; margin:0; padding: 0}\n.list-inline>li {display: inline-block}\n.list-inline>li:not(:last-child)::after {content: \"\\00b7\"; padding: 0 .5ex}\n</style>\n<ol class=list-inline><li>'ANKFN1'</li><li>'ARHGEF7'</li><li>'ATF5'</li><li>'CCDC40'</li><li>'CCNB1'</li><li>'CDC14A'</li><li>'CFAP100'</li><li>'CFAP157'</li><li>'CNTROB'</li><li>'DCLK2'</li><li>'DCTN1'</li><li>'DNAAF8'</li><li>'DST'</li><li>'GAS2L2'</li><li>'RAE1'</li><li>'TACC3'</li><li>'TEKT2'</li><li>'TLE6'</li><li>'TPR'</li><li>'TRAF3IP1'</li><li>'TRIM37'</li><li>'TUBB4B'</li><li>'ZMYND10'</li><li>'ZPR1'</li></ol>\n</dd>\n\t<dt>$`GO:0000278`</dt>\n\t\t<dd><style>\n.list-inline {list-style: none; margin:0; padding: 0}\n.list-inline>li {display: inline-block}\n.list-inline>li:not(:last-child)::after {content: \"\\00b7\"; padding: 0 .5ex}\n</style>\n<ol class=list-inline><li>'ANKFN1'</li><li>'BRF1'</li><li>'CCNB1'</li><li>'CCNE1'</li><li>'CDC14A'</li><li>'CDC5L'</li><li>'CNTROB'</li><li>'DCTN1'</li><li>'DCTN3'</li><li>'DSCC1'</li><li>'FBXL17'</li><li>'GSPT1'</li><li>'HASPIN'</li><li>'HGF'</li><li>'OVOL1'</li><li>'PBRM1'</li><li>'PML'</li><li>'RAE1'</li><li>'SMC5'</li><li>'SPTBN1'</li><li>'TACC3'</li><li>'TAL1'</li><li>'TPR'</li><li>'TRIAP1'</li><li>'TUBB4B'</li><li>'VCPIP1'</li><li>'ZPR1'</li></ol>\n</dd>\n</dl>\n",
      "text/markdown": "$`GO:0000003`\n:   1. 'ALDOA'\n2. 'ALKBH1'\n3. 'ARID5B'\n4. 'ATP2B2'\n5. 'B4GALT1'\n6. 'BRF1'\n7. 'CACNA1H'\n8. 'CCDC40'\n9. 'CCNB1'\n10. 'CCNE1'\n11. 'CD9'\n12. 'CFAP157'\n13. 'CFAP54'\n14. 'CYLC1'\n15. 'EHMT2'\n16. 'ESR1'\n17. 'FAM170A'\n18. 'FKBP6'\n19. 'FOLR2'\n20. 'FUT10'\n21. 'GAMT'\n22. 'HGF'\n23. 'HYAL3'\n24. 'IGFBP7'\n25. 'LY6K'\n26. 'MYCBPAP'\n27. 'OAZ3'\n28. 'OVOL1'\n29. 'PCDH12'\n30. 'QRICH2'\n31. 'SIX5'\n32. 'SLX4'\n33. 'SPATA6L'\n34. 'ST14'\n35. 'STK11'\n36. 'STK35'\n37. 'TAC1'\n38. 'TEKT2'\n39. 'TLE6'\n40. 'TMEM95'\n41. 'TRIM27'\n42. 'YBX2'\n\n\n\n$`GO:0000122`\n:   1. 'ARID5B'\n2. 'BARX2'\n3. 'CCNE1'\n4. 'CTBP1'\n5. 'CUX2'\n6. 'EHMT2'\n7. 'ESR1'\n8. 'GLIS3'\n9. 'GRIP1'\n10. 'HIF1AN'\n11. 'HOPX'\n12. 'HOXA7'\n13. 'LMO1'\n14. 'NR2F6'\n15. 'OTUD7B'\n16. 'OVOL1'\n17. 'RTF1'\n18. 'RUNX3'\n19. 'SP100'\n20. 'SPDEF'\n21. 'SREBF1'\n22. 'TAF1'\n23. 'TAL1'\n24. 'TGIF2'\n25. 'TLE6'\n26. 'TMPRSS6'\n27. 'TPR'\n28. 'TRIM27'\n29. 'TRIM37'\n30. 'WWC2'\n31. 'WWTR1'\n32. 'ZBTB45'\n33. 'ZC3H8'\n34. 'ZNF345'\n\n\n\n$`GO:0000165`\n:   1. 'ADRB3'\n2. 'BRF1'\n3. 'CCL22'\n4. 'CLEC7A'\n5. 'COPS5'\n6. 'FGD2'\n7. 'FGF18'\n8. 'FGF4'\n9. 'HGF'\n10. 'LILRA5'\n11. 'MAP4K1'\n12. 'NCF1'\n13. 'NENF'\n14. 'P2RY6'\n15. 'PRDX2'\n16. 'PRMT1'\n17. 'RAP2A'\n18. 'RB1CC1'\n19. 'SERPINF2'\n20. 'SLAMF1'\n21. 'STYX'\n22. 'TEK'\n23. 'TNIP1'\n24. 'WNK2'\n\n\n\n$`GO:0000226`\n:   1. 'ANKFN1'\n2. 'ARHGEF7'\n3. 'ATF5'\n4. 'CCDC40'\n5. 'CCNB1'\n6. 'CDC14A'\n7. 'CFAP100'\n8. 'CFAP157'\n9. 'CNTROB'\n10. 'DCLK2'\n11. 'DCTN1'\n12. 'DNAAF8'\n13. 'DST'\n14. 'GAS2L2'\n15. 'RAE1'\n16. 'TACC3'\n17. 'TEKT2'\n18. 'TLE6'\n19. 'TPR'\n20. 'TRAF3IP1'\n21. 'TRIM37'\n22. 'TUBB4B'\n23. 'ZMYND10'\n24. 'ZPR1'\n\n\n\n$`GO:0000278`\n:   1. 'ANKFN1'\n2. 'BRF1'\n3. 'CCNB1'\n4. 'CCNE1'\n5. 'CDC14A'\n6. 'CDC5L'\n7. 'CNTROB'\n8. 'DCTN1'\n9. 'DCTN3'\n10. 'DSCC1'\n11. 'FBXL17'\n12. 'GSPT1'\n13. 'HASPIN'\n14. 'HGF'\n15. 'OVOL1'\n16. 'PBRM1'\n17. 'PML'\n18. 'RAE1'\n19. 'SMC5'\n20. 'SPTBN1'\n21. 'TACC3'\n22. 'TAL1'\n23. 'TPR'\n24. 'TRIAP1'\n25. 'TUBB4B'\n26. 'VCPIP1'\n27. 'ZPR1'\n\n\n\n\n\n",
      "text/latex": "\\begin{description}\n\\item[\\$`GO:0000003`] \\begin{enumerate*}\n\\item 'ALDOA'\n\\item 'ALKBH1'\n\\item 'ARID5B'\n\\item 'ATP2B2'\n\\item 'B4GALT1'\n\\item 'BRF1'\n\\item 'CACNA1H'\n\\item 'CCDC40'\n\\item 'CCNB1'\n\\item 'CCNE1'\n\\item 'CD9'\n\\item 'CFAP157'\n\\item 'CFAP54'\n\\item 'CYLC1'\n\\item 'EHMT2'\n\\item 'ESR1'\n\\item 'FAM170A'\n\\item 'FKBP6'\n\\item 'FOLR2'\n\\item 'FUT10'\n\\item 'GAMT'\n\\item 'HGF'\n\\item 'HYAL3'\n\\item 'IGFBP7'\n\\item 'LY6K'\n\\item 'MYCBPAP'\n\\item 'OAZ3'\n\\item 'OVOL1'\n\\item 'PCDH12'\n\\item 'QRICH2'\n\\item 'SIX5'\n\\item 'SLX4'\n\\item 'SPATA6L'\n\\item 'ST14'\n\\item 'STK11'\n\\item 'STK35'\n\\item 'TAC1'\n\\item 'TEKT2'\n\\item 'TLE6'\n\\item 'TMEM95'\n\\item 'TRIM27'\n\\item 'YBX2'\n\\end{enumerate*}\n\n\\item[\\$`GO:0000122`] \\begin{enumerate*}\n\\item 'ARID5B'\n\\item 'BARX2'\n\\item 'CCNE1'\n\\item 'CTBP1'\n\\item 'CUX2'\n\\item 'EHMT2'\n\\item 'ESR1'\n\\item 'GLIS3'\n\\item 'GRIP1'\n\\item 'HIF1AN'\n\\item 'HOPX'\n\\item 'HOXA7'\n\\item 'LMO1'\n\\item 'NR2F6'\n\\item 'OTUD7B'\n\\item 'OVOL1'\n\\item 'RTF1'\n\\item 'RUNX3'\n\\item 'SP100'\n\\item 'SPDEF'\n\\item 'SREBF1'\n\\item 'TAF1'\n\\item 'TAL1'\n\\item 'TGIF2'\n\\item 'TLE6'\n\\item 'TMPRSS6'\n\\item 'TPR'\n\\item 'TRIM27'\n\\item 'TRIM37'\n\\item 'WWC2'\n\\item 'WWTR1'\n\\item 'ZBTB45'\n\\item 'ZC3H8'\n\\item 'ZNF345'\n\\end{enumerate*}\n\n\\item[\\$`GO:0000165`] \\begin{enumerate*}\n\\item 'ADRB3'\n\\item 'BRF1'\n\\item 'CCL22'\n\\item 'CLEC7A'\n\\item 'COPS5'\n\\item 'FGD2'\n\\item 'FGF18'\n\\item 'FGF4'\n\\item 'HGF'\n\\item 'LILRA5'\n\\item 'MAP4K1'\n\\item 'NCF1'\n\\item 'NENF'\n\\item 'P2RY6'\n\\item 'PRDX2'\n\\item 'PRMT1'\n\\item 'RAP2A'\n\\item 'RB1CC1'\n\\item 'SERPINF2'\n\\item 'SLAMF1'\n\\item 'STYX'\n\\item 'TEK'\n\\item 'TNIP1'\n\\item 'WNK2'\n\\end{enumerate*}\n\n\\item[\\$`GO:0000226`] \\begin{enumerate*}\n\\item 'ANKFN1'\n\\item 'ARHGEF7'\n\\item 'ATF5'\n\\item 'CCDC40'\n\\item 'CCNB1'\n\\item 'CDC14A'\n\\item 'CFAP100'\n\\item 'CFAP157'\n\\item 'CNTROB'\n\\item 'DCLK2'\n\\item 'DCTN1'\n\\item 'DNAAF8'\n\\item 'DST'\n\\item 'GAS2L2'\n\\item 'RAE1'\n\\item 'TACC3'\n\\item 'TEKT2'\n\\item 'TLE6'\n\\item 'TPR'\n\\item 'TRAF3IP1'\n\\item 'TRIM37'\n\\item 'TUBB4B'\n\\item 'ZMYND10'\n\\item 'ZPR1'\n\\end{enumerate*}\n\n\\item[\\$`GO:0000278`] \\begin{enumerate*}\n\\item 'ANKFN1'\n\\item 'BRF1'\n\\item 'CCNB1'\n\\item 'CCNE1'\n\\item 'CDC14A'\n\\item 'CDC5L'\n\\item 'CNTROB'\n\\item 'DCTN1'\n\\item 'DCTN3'\n\\item 'DSCC1'\n\\item 'FBXL17'\n\\item 'GSPT1'\n\\item 'HASPIN'\n\\item 'HGF'\n\\item 'OVOL1'\n\\item 'PBRM1'\n\\item 'PML'\n\\item 'RAE1'\n\\item 'SMC5'\n\\item 'SPTBN1'\n\\item 'TACC3'\n\\item 'TAL1'\n\\item 'TPR'\n\\item 'TRIAP1'\n\\item 'TUBB4B'\n\\item 'VCPIP1'\n\\item 'ZPR1'\n\\end{enumerate*}\n\n\\end{description}\n",
      "text/plain": "$`GO:0000003`\n [1] \"ALDOA\"   \"ALKBH1\"  \"ARID5B\"  \"ATP2B2\"  \"B4GALT1\" \"BRF1\"    \"CACNA1H\"\n [8] \"CCDC40\"  \"CCNB1\"   \"CCNE1\"   \"CD9\"     \"CFAP157\" \"CFAP54\"  \"CYLC1\"  \n[15] \"EHMT2\"   \"ESR1\"    \"FAM170A\" \"FKBP6\"   \"FOLR2\"   \"FUT10\"   \"GAMT\"   \n[22] \"HGF\"     \"HYAL3\"   \"IGFBP7\"  \"LY6K\"    \"MYCBPAP\" \"OAZ3\"    \"OVOL1\"  \n[29] \"PCDH12\"  \"QRICH2\"  \"SIX5\"    \"SLX4\"    \"SPATA6L\" \"ST14\"    \"STK11\"  \n[36] \"STK35\"   \"TAC1\"    \"TEKT2\"   \"TLE6\"    \"TMEM95\"  \"TRIM27\"  \"YBX2\"   \n\n$`GO:0000122`\n [1] \"ARID5B\"  \"BARX2\"   \"CCNE1\"   \"CTBP1\"   \"CUX2\"    \"EHMT2\"   \"ESR1\"   \n [8] \"GLIS3\"   \"GRIP1\"   \"HIF1AN\"  \"HOPX\"    \"HOXA7\"   \"LMO1\"    \"NR2F6\"  \n[15] \"OTUD7B\"  \"OVOL1\"   \"RTF1\"    \"RUNX3\"   \"SP100\"   \"SPDEF\"   \"SREBF1\" \n[22] \"TAF1\"    \"TAL1\"    \"TGIF2\"   \"TLE6\"    \"TMPRSS6\" \"TPR\"     \"TRIM27\" \n[29] \"TRIM37\"  \"WWC2\"    \"WWTR1\"   \"ZBTB45\"  \"ZC3H8\"   \"ZNF345\" \n\n$`GO:0000165`\n [1] \"ADRB3\"    \"BRF1\"     \"CCL22\"    \"CLEC7A\"   \"COPS5\"    \"FGD2\"    \n [7] \"FGF18\"    \"FGF4\"     \"HGF\"      \"LILRA5\"   \"MAP4K1\"   \"NCF1\"    \n[13] \"NENF\"     \"P2RY6\"    \"PRDX2\"    \"PRMT1\"    \"RAP2A\"    \"RB1CC1\"  \n[19] \"SERPINF2\" \"SLAMF1\"   \"STYX\"     \"TEK\"      \"TNIP1\"    \"WNK2\"    \n\n$`GO:0000226`\n [1] \"ANKFN1\"   \"ARHGEF7\"  \"ATF5\"     \"CCDC40\"   \"CCNB1\"    \"CDC14A\"  \n [7] \"CFAP100\"  \"CFAP157\"  \"CNTROB\"   \"DCLK2\"    \"DCTN1\"    \"DNAAF8\"  \n[13] \"DST\"      \"GAS2L2\"   \"RAE1\"     \"TACC3\"    \"TEKT2\"    \"TLE6\"    \n[19] \"TPR\"      \"TRAF3IP1\" \"TRIM37\"   \"TUBB4B\"   \"ZMYND10\"  \"ZPR1\"    \n\n$`GO:0000278`\n [1] \"ANKFN1\" \"BRF1\"   \"CCNB1\"  \"CCNE1\"  \"CDC14A\" \"CDC5L\"  \"CNTROB\" \"DCTN1\" \n [9] \"DCTN3\"  \"DSCC1\"  \"FBXL17\" \"GSPT1\"  \"HASPIN\" \"HGF\"    \"OVOL1\"  \"PBRM1\" \n[17] \"PML\"    \"RAE1\"   \"SMC5\"   \"SPTBN1\" \"TACC3\"  \"TAL1\"   \"TPR\"    \"TRIAP1\"\n[25] \"TUBB4B\" \"VCPIP1\" \"ZPR1\"  \n"
     },
     "metadata": {},
     "output_type": "display_data"
    }
   ],
   "source": [
    "allGO[1:5]"
   ],
   "metadata": {
    "collapsed": false,
    "pycharm": {
     "name": "#%%\n"
    }
   }
  },
  {
   "cell_type": "code",
   "execution_count": 31,
   "outputs": [],
   "source": [
    "library(GO.db)"
   ],
   "metadata": {
    "collapsed": false,
    "pycharm": {
     "name": "#%%\n"
    }
   }
  },
  {
   "cell_type": "code",
   "execution_count": 35,
   "outputs": [],
   "source": [
    "writeGMT <- function(genesets, descriptions, outfile) {\n",
    "\n",
    "  if (file.exists(outfile)) {\n",
    "    message(paste(outfile, \"exists, removing...\"))\n",
    "    file.remove(outfile)\n",
    "  }\n",
    "  for (gs in names(genesets)) {\n",
    "    write(c(gs, gsub(\"\\t\", \" \", descriptions[[gs]]), genesets[[gs]]), file=outfile, sep=\"\\t\", append=TRUE, ncolumns=length(genesets[[gs]]) + 2)\n",
    "  }\n",
    "}"
   ],
   "metadata": {
    "collapsed": false,
    "pycharm": {
     "name": "#%%\n"
    }
   }
  },
  {
   "cell_type": "code",
   "execution_count": 33,
   "outputs": [],
   "source": [
    "terms <- names(allGO)\n",
    "descriptions <-lapply(Term(terms), `[[`, 1)"
   ],
   "metadata": {
    "collapsed": false,
    "pycharm": {
     "name": "#%%\n"
    }
   }
  },
  {
   "cell_type": "code",
   "execution_count": null,
   "outputs": [],
   "source": [],
   "metadata": {
    "collapsed": false,
    "pycharm": {
     "name": "#%%\n"
    }
   }
  },
  {
   "cell_type": "code",
   "execution_count": 37,
   "outputs": [
    {
     "name": "stderr",
     "output_type": "stream",
     "text": [
      "./data/GO_terms.gmt exists, removing...\n",
      "\n"
     ]
    }
   ],
   "source": [
    "outfile <- \"./data/GO_terms.gmt\"\n",
    "writeGMT(allGO, descriptions, outfile)"
   ],
   "metadata": {
    "collapsed": false,
    "pycharm": {
     "name": "#%%\n"
    }
   }
  },
  {
   "cell_type": "markdown",
   "source": [],
   "metadata": {
    "collapsed": false,
    "pycharm": {
     "name": "#%% md\n"
    }
   }
  },
  {
   "cell_type": "markdown",
   "source": [
    "## Kyoto Encyclopedia of Genes and Genomes (KEGG)\n",
    "### Overview\n",
    "KEGG is a collection of databases dealing with genomes, biological pathways, diseases, drugs, and chemical substances. KEGG is utilized for bioinformatics research and education, including data analysis in genomics, metagenomics, metabolomics and other omics studies, modeling and simulation in systems biology, and translational research in drug development. The KEGG database project was initiated in 1995 by Minoru Kanehisa, professor at the Institute for Chemical Research, Kyoto University, under the then ongoing Japanese Human Genome Program. Foreseeing the need for a computerized resource that can be used for biological interpretation of genome sequence data, he started developing the KEGG PATHWAY database. It is a collection of manually drawn KEGG pathway maps representing experimental knowledge on metabolism and various other functions of the cell and the organism. Each pathway map contains a network of molecular interactions and reactions and is designed to link genes in the genome to gene products (mostly proteins) in the pathway. This has enabled the analysis called KEGG pathway mapping, whereby the gene content in the genome is compared with the KEGG PATHWAY database to examine which pathways and associated functions are likely to be encoded in the genome. KEGG is a \"computer representation\" of the biological system. It integrates building blocks and wiring diagrams of the system—more specifically, genetic building blocks of genes and proteins, chemical building blocks of small molecules and reactions, and wiring diagrams of molecular interaction and reaction networks. The illustrative structure of KEGG is presented as figure below.\n",
    "![](./images/Module3/KEGG.jpg)"
   ],
   "metadata": {
    "collapsed": false,
    "pycharm": {
     "name": "#%% md\n"
    }
   }
  },
  {
   "cell_type": "code",
   "execution_count": null,
   "outputs": [],
   "source": [],
   "metadata": {
    "collapsed": false,
    "pycharm": {
     "name": "#%%\n"
    }
   }
  },
  {
   "cell_type": "markdown",
   "id": "109bf945",
   "metadata": {
    "pycharm": {
     "name": "#%% md\n"
    }
   },
   "source": [
    "\n",
    "This concept is realized in the following databases of KEGG, which are categorized into systems, genomic, chemical, and health information.\n"
   ]
  }
 ],
 "metadata": {
  "celltoolbar": "Tags",
  "environment": {
   "kernel": "ir",
   "name": "r-cpu.4-1.m93",
   "type": "gcloud",
   "uri": "gcr.io/deeplearning-platform-release/r-cpu.4-1:m93"
  },
  "kernelspec": {
   "display_name": "R",
   "language": "R",
   "name": "ir"
  },
  "language_info": {
   "codemirror_mode": "r",
   "file_extension": ".r",
   "mimetype": "text/x-r-source",
   "name": "R",
   "pygments_lexer": "r",
   "version": "4.1.3"
  },
  "toc-showcode": true,
  "widgets": {
   "application/vnd.jupyter.widget-state+json": {
    "state": {},
    "version_major": 2,
    "version_minor": 0
   }
  }
 },
 "nbformat": 4,
 "nbformat_minor": 5
}