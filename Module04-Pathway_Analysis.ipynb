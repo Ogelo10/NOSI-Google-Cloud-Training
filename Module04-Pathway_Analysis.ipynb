{
 "cells": [
  {
   "cell_type": "markdown",
   "source": [
    "# Pathway Analysis\n",
    "\n",
    "The primary goal of Pathway Analysis (PA) is to assess data collected from high-throughput technologies, discovering meaningful group of genes that are altered in case samples when compared to a control. In this approach, PA methods attempt to overcome the challenge of comprehending a huge lists of important, but isolated genes detached from biological context, which are the principal output of differential expression analysis. Pathway enrichment analysis is a common strategy to tackling this problem that summarizes the large gene list as a smaller list of more clearly interpretable pathways. Pathways are statistically tested for over-representation in the experimental gene list relative to what would be expected by chance, using several common statistical tests that take into account the number of genes detected in the experiment, their relative ranking, and the number of genes annotated to a pathway of interest.\n",
    "\n",
    "A good technique to analyze gene sets is to compare them to well-annotated gene sets (biological pathways). For example, Over-representation Analysis (ORA) counts the number of similar genes shared by an input gene set and each annotated gene set and applies a statistical test to evaluate the overlap's statistical significance. A p-value cutoff, e.g. 0.05, is used to identify annotated gene sets with significant overlaps to the input gene set. Gene Set Enrichment Analysis (GSEA) seeks to avoid the necessity for an ad hoc cutoff (e.g. expression fold change) in identifying the input gene set. GSEA ranks all genes in the genome by differential expression level and checks if any annotated gene set is scored unexpectedly high or low.\n",
    "\n",
    "## Learning Objectives:\n",
    "1. Introduction to enrichment analysis\n",
    "3. Enrichment analysis using different methods.\n",
    "4. Saving results."
   ],
   "metadata": {
    "collapsed": false,
    "pycharm": {
     "name": "#%% md\n"
    }
   }
  },
  {
   "cell_type": "markdown",
   "source": [
    "## Enrichment analysis\n",
    " Gene Set Enrichment Analysis methods help gain insight into obtained gene lists by identifying pathways that are enriched in a gene list more than would be expected by chance. The three major steps involved the process include; definition of a gene list from omics data, determination of statistically enriched pathways, and visualization and interpretation of the results."
   ],
   "metadata": {
    "collapsed": false,
    "pycharm": {
     "name": "#%% md\n"
    }
   }
  },
  {
   "cell_type": "markdown",
   "source": [
    "## Enrichment analysis using ORA\n",
    "Over-representation (or enrichment) analysis is a statistical method that determines whether genes from pre-defined sets (ex: those belonging to a specific GO term or KEGG pathway) are present more than would be expected (over-represented) in a subset of your data. The p-value can be calculated by hyper-geometric distribution.\n",
    "\n",
    "![](./images/Module4/ora_p_value.png)\n",
    "\n",
    "where N is the total number of genes in the background distribution, M is the number of genes within that distribution that are annotated (either directly or indirectly) to the gene set of interest, n is the size of the list of genes of interest and k is the number of genes within that list which are annotated to the gene set. The background distribution by default is all the genes that have annotation."
   ],
   "metadata": {
    "collapsed": false,
    "pycharm": {
     "name": "#%% md\n"
    }
   }
  },
  {
   "cell_type": "markdown",
   "source": [
    "### Over Representation Analysis Using GO"
   ],
   "metadata": {
    "collapsed": false,
    "pycharm": {
     "name": "#%% md\n"
    }
   }
  },
  {
   "cell_type": "code",
   "execution_count": 35,
   "outputs": [
    {
     "data": {
      "text/html": "<table class=\"dataframe\">\n<caption>A data.frame: 6 × 9</caption>\n<thead>\n\t<tr><th></th><th scope=col>X</th><th scope=col>ID</th><th scope=col>adj.P.Val</th><th scope=col>P.Value</th><th scope=col>t</th><th scope=col>B</th><th scope=col>logFC</th><th scope=col>Gene.symbol</th><th scope=col>Gene.title</th></tr>\n\t<tr><th></th><th scope=col>&lt;chr&gt;</th><th scope=col>&lt;chr&gt;</th><th scope=col>&lt;dbl&gt;</th><th scope=col>&lt;dbl&gt;</th><th scope=col>&lt;dbl&gt;</th><th scope=col>&lt;dbl&gt;</th><th scope=col>&lt;dbl&gt;</th><th scope=col>&lt;chr&gt;</th><th scope=col>&lt;chr&gt;</th></tr>\n</thead>\n<tbody>\n\t<tr><th scope=row>222178_s_at</th><td>222178_s_at</td><td>222178_s_at</td><td>2.962397e-50</td><td>5.418192e-55</td><td>-71.93947</td><td>81.51371</td><td>-1.7504690</td><td>       </td><td>                                          </td></tr>\n\t<tr><th scope=row>224687_at</th><td>224687_at  </td><td>224687_at  </td><td>1.575045e-38</td><td>5.761483e-43</td><td>-42.51195</td><td>71.37488</td><td>-5.0270459</td><td>ANKIB1 </td><td>ankyrin repeat and IBR domain containing 1</td></tr>\n\t<tr><th scope=row>207488_at</th><td>207488_at  </td><td>207488_at  </td><td>1.328826e-35</td><td>7.291224e-40</td><td>-37.04099</td><td>67.63002</td><td>-1.0532279</td><td>       </td><td>                                          </td></tr>\n\t<tr><th scope=row>239226_at</th><td>239226_at  </td><td>239226_at  </td><td>5.317826e-31</td><td>3.890499e-35</td><td> 29.94059</td><td>61.01151</td><td> 0.7890331</td><td>       </td><td>                                          </td></tr>\n\t<tr><th scope=row>216490_x_at</th><td>216490_x_at</td><td>216490_x_at</td><td>2.320159e-28</td><td>2.121773e-32</td><td> 26.41134</td><td>56.70533</td><td> 1.0811623</td><td>       </td><td>                                          </td></tr>\n\t<tr><th scope=row>234109_x_at</th><td>234109_x_at</td><td>234109_x_at</td><td>3.581024e-28</td><td>3.929793e-32</td><td>-26.08643</td><td>56.26670</td><td>-0.5401491</td><td>ONECUT3</td><td>one cut homeobox 3                        </td></tr>\n</tbody>\n</table>\n",
      "text/markdown": "\nA data.frame: 6 × 9\n\n| <!--/--> | X &lt;chr&gt; | ID &lt;chr&gt; | adj.P.Val &lt;dbl&gt; | P.Value &lt;dbl&gt; | t &lt;dbl&gt; | B &lt;dbl&gt; | logFC &lt;dbl&gt; | Gene.symbol &lt;chr&gt; | Gene.title &lt;chr&gt; |\n|---|---|---|---|---|---|---|---|---|---|\n| 222178_s_at | 222178_s_at | 222178_s_at | 2.962397e-50 | 5.418192e-55 | -71.93947 | 81.51371 | -1.7504690 | <!----> | <!----> |\n| 224687_at | 224687_at   | 224687_at   | 1.575045e-38 | 5.761483e-43 | -42.51195 | 71.37488 | -5.0270459 | ANKIB1  | ankyrin repeat and IBR domain containing 1 |\n| 207488_at | 207488_at   | 207488_at   | 1.328826e-35 | 7.291224e-40 | -37.04099 | 67.63002 | -1.0532279 | <!----> | <!----> |\n| 239226_at | 239226_at   | 239226_at   | 5.317826e-31 | 3.890499e-35 |  29.94059 | 61.01151 |  0.7890331 | <!----> | <!----> |\n| 216490_x_at | 216490_x_at | 216490_x_at | 2.320159e-28 | 2.121773e-32 |  26.41134 | 56.70533 |  1.0811623 | <!----> | <!----> |\n| 234109_x_at | 234109_x_at | 234109_x_at | 3.581024e-28 | 3.929793e-32 | -26.08643 | 56.26670 | -0.5401491 | ONECUT3 | one cut homeobox 3                         |\n\n",
      "text/latex": "A data.frame: 6 × 9\n\\begin{tabular}{r|lllllllll}\n  & X & ID & adj.P.Val & P.Value & t & B & logFC & Gene.symbol & Gene.title\\\\\n  & <chr> & <chr> & <dbl> & <dbl> & <dbl> & <dbl> & <dbl> & <chr> & <chr>\\\\\n\\hline\n\t222178\\_s\\_at & 222178\\_s\\_at & 222178\\_s\\_at & 2.962397e-50 & 5.418192e-55 & -71.93947 & 81.51371 & -1.7504690 &         &                                           \\\\\n\t224687\\_at & 224687\\_at   & 224687\\_at   & 1.575045e-38 & 5.761483e-43 & -42.51195 & 71.37488 & -5.0270459 & ANKIB1  & ankyrin repeat and IBR domain containing 1\\\\\n\t207488\\_at & 207488\\_at   & 207488\\_at   & 1.328826e-35 & 7.291224e-40 & -37.04099 & 67.63002 & -1.0532279 &         &                                           \\\\\n\t239226\\_at & 239226\\_at   & 239226\\_at   & 5.317826e-31 & 3.890499e-35 &  29.94059 & 61.01151 &  0.7890331 &         &                                           \\\\\n\t216490\\_x\\_at & 216490\\_x\\_at & 216490\\_x\\_at & 2.320159e-28 & 2.121773e-32 &  26.41134 & 56.70533 &  1.0811623 &         &                                           \\\\\n\t234109\\_x\\_at & 234109\\_x\\_at & 234109\\_x\\_at & 3.581024e-28 & 3.929793e-32 & -26.08643 & 56.26670 & -0.5401491 & ONECUT3 & one cut homeobox 3                        \\\\\n\\end{tabular}\n",
      "text/plain": "            X           ID          adj.P.Val    P.Value      t        \n222178_s_at 222178_s_at 222178_s_at 2.962397e-50 5.418192e-55 -71.93947\n224687_at   224687_at   224687_at   1.575045e-38 5.761483e-43 -42.51195\n207488_at   207488_at   207488_at   1.328826e-35 7.291224e-40 -37.04099\n239226_at   239226_at   239226_at   5.317826e-31 3.890499e-35  29.94059\n216490_x_at 216490_x_at 216490_x_at 2.320159e-28 2.121773e-32  26.41134\n234109_x_at 234109_x_at 234109_x_at 3.581024e-28 3.929793e-32 -26.08643\n            B        logFC      Gene.symbol\n222178_s_at 81.51371 -1.7504690            \n224687_at   71.37488 -5.0270459 ANKIB1     \n207488_at   67.63002 -1.0532279            \n239226_at   61.01151  0.7890331            \n216490_x_at 56.70533  1.0811623            \n234109_x_at 56.26670 -0.5401491 ONECUT3    \n            Gene.title                                \n222178_s_at                                           \n224687_at   ankyrin repeat and IBR domain containing 1\n207488_at                                             \n239226_at                                             \n216490_x_at                                           \n234109_x_at one cut homeobox 3                        "
     },
     "metadata": {},
     "output_type": "display_data"
    }
   ],
   "source": [
    "data <- read.csv(\"./data/DE_genes.csv\")\n",
    "rownames(data) <- data$ID\n",
    "head(data)"
   ],
   "metadata": {
    "collapsed": false,
    "pycharm": {
     "name": "#%%\n"
    }
   }
  },
  {
   "cell_type": "code",
   "execution_count": 67,
   "outputs": [],
   "source": [
    "mask <- data$adj.P.Val < 0.05 &\n",
    "        abs(data$logFC) > log2(2)\n",
    "deGenes <- rownames(data[mask,])"
   ],
   "metadata": {
    "collapsed": false,
    "pycharm": {
     "name": "#%%\n"
    }
   }
  },
  {
   "cell_type": "code",
   "execution_count": 68,
   "outputs": [],
   "source": [
    "geneUniverse <- rownames(data)"
   ],
   "metadata": {
    "collapsed": false,
    "pycharm": {
     "name": "#%%\n"
    }
   }
  },
  {
   "cell_type": "code",
   "execution_count": 69,
   "outputs": [
    {
     "ename": "ERROR",
     "evalue": "Error in UseMethod(\"select\"): no applicable method for 'select' applied to an object of class \"c('ChipDb', 'AnnotationDb', 'envRefClass', '.environment', 'refClass', 'environment', 'refObject', 'AssayData')\"\n",
     "output_type": "error",
     "traceback": [
      "Error in UseMethod(\"select\"): no applicable method for 'select' applied to an object of class \"c('ChipDb', 'AnnotationDb', 'envRefClass', '.environment', 'refClass', 'environment', 'refObject', 'AssayData')\"\nTraceback:\n",
      "1. select(hgu133plus2.db, deGenes, \"entrezgene\")"
     ]
    }
   ],
   "source": [
    "library(\"hgu133plus2.db\")\n",
    "# Map gene IDs to gene symbols\n",
    "deGenes <- select(hgu133plus2.db, deGenes, \"entrezgene\")\n",
    "# Remove duplicated gene IDs\n",
    "deGenes <- deGenes[!duplicated(deGenes[,1]),]\n",
    "deGenes <-deGenes$SYMBOL\n",
    "\n",
    "geneUniverse <- select(hgu133plus2.db, geneUniverse, \"entrezgene\")\n",
    "# Remove duplicated gene IDs\n",
    "geneUniverse <- geneUniverse[!duplicated(geneUniverse[,1]),]\n",
    "geneUniverse <-geneUniverse$SYMBOL"
   ],
   "metadata": {
    "collapsed": false,
    "pycharm": {
     "name": "#%%\n"
    }
   }
  },
  {
   "cell_type": "code",
   "execution_count": 54,
   "outputs": [
    {
     "data": {
      "text/html": "14",
      "text/markdown": "14",
      "text/latex": "14",
      "text/plain": "[1] 14"
     },
     "metadata": {},
     "output_type": "display_data"
    },
    {
     "data": {
      "text/html": "250",
      "text/markdown": "250",
      "text/latex": "250",
      "text/plain": "[1] 250"
     },
     "metadata": {},
     "output_type": "display_data"
    }
   ],
   "source": [
    "length(deGenes)\n",
    "length(geneUniverse)"
   ],
   "metadata": {
    "collapsed": false,
    "pycharm": {
     "name": "#%%\n"
    }
   }
  },
  {
   "cell_type": "code",
   "execution_count": 56,
   "outputs": [
    {
     "name": "stderr",
     "output_type": "stream",
     "text": [
      "'getOption(\"repos\")' replaces Bioconductor standard repositories, see\n",
      "'?repositories' for details\n",
      "\n",
      "replacement repositories:\n",
      "    CRAN: https://cran.r-project.org\n",
      "\n",
      "\n",
      "Bioconductor version 3.15 (BiocManager 1.30.18), R 4.2.1 (2022-06-23 ucrt)\n",
      "\n",
      "Installing package(s) 'clusterProfiler'\n",
      "\n",
      "also installing the dependencies 'stringi', 'gridGraphics', 'tweenr', 'polyclip', 'systemfonts', 'lazyeval', 'fastmatch', 'stringr', 'ggfun', 'ggplotify', 'patchwork', 'ggforce', 'ggrepel', 'viridis', 'tidygraph', 'graphlayouts', 'ape', 'tidytree', 'treeio', 'DO.db', 'fgsea', 'reshape2', 'aplot', 'ggraph', 'igraph', 'scatterpie', 'shadowtext', 'ggtree', 'downloader', 'DOSE', 'enrichplot', 'GOSemSim', 'plyr', 'qvalue', 'yulab.utils'\n",
      "\n",
      "\n"
     ]
    },
    {
     "name": "stdout",
     "output_type": "stream",
     "text": [
      "\n",
      "  There are binary versions available but the source versions are later:\n",
      "             binary source needs_compilation\n",
      "ggforce       0.3.4  0.4.0              TRUE\n",
      "graphlayouts  0.8.1  0.8.2              TRUE\n",
      "\n",
      "package 'stringi' successfully unpacked and MD5 sums checked\n",
      "package 'gridGraphics' successfully unpacked and MD5 sums checked\n",
      "package 'tweenr' successfully unpacked and MD5 sums checked\n",
      "package 'polyclip' successfully unpacked and MD5 sums checked\n",
      "package 'systemfonts' successfully unpacked and MD5 sums checked\n",
      "package 'lazyeval' successfully unpacked and MD5 sums checked\n",
      "package 'fastmatch' successfully unpacked and MD5 sums checked\n",
      "package 'stringr' successfully unpacked and MD5 sums checked\n",
      "package 'ggfun' successfully unpacked and MD5 sums checked\n",
      "package 'ggplotify' successfully unpacked and MD5 sums checked\n",
      "package 'patchwork' successfully unpacked and MD5 sums checked\n",
      "package 'ggrepel' successfully unpacked and MD5 sums checked\n",
      "package 'viridis' successfully unpacked and MD5 sums checked\n",
      "package 'tidygraph' successfully unpacked and MD5 sums checked\n",
      "package 'ape' successfully unpacked and MD5 sums checked\n",
      "package 'tidytree' successfully unpacked and MD5 sums checked\n",
      "package 'treeio' successfully unpacked and MD5 sums checked\n",
      "package 'fgsea' successfully unpacked and MD5 sums checked\n",
      "package 'reshape2' successfully unpacked and MD5 sums checked\n",
      "package 'aplot' successfully unpacked and MD5 sums checked\n",
      "package 'ggraph' successfully unpacked and MD5 sums checked\n",
      "package 'igraph' successfully unpacked and MD5 sums checked\n",
      "package 'scatterpie' successfully unpacked and MD5 sums checked\n",
      "package 'shadowtext' successfully unpacked and MD5 sums checked\n",
      "package 'ggtree' successfully unpacked and MD5 sums checked\n",
      "package 'downloader' successfully unpacked and MD5 sums checked\n",
      "package 'DOSE' successfully unpacked and MD5 sums checked\n",
      "package 'enrichplot' successfully unpacked and MD5 sums checked\n",
      "package 'GOSemSim' successfully unpacked and MD5 sums checked\n",
      "package 'plyr' successfully unpacked and MD5 sums checked\n",
      "package 'qvalue' successfully unpacked and MD5 sums checked\n",
      "package 'yulab.utils' successfully unpacked and MD5 sums checked\n",
      "package 'clusterProfiler' successfully unpacked and MD5 sums checked\n",
      "\n",
      "The downloaded binary packages are in\n",
      "\tC:\\Users\\bangt\\AppData\\Local\\Temp\\Rtmpg5Jjxf\\downloaded_packages\n"
     ]
    },
    {
     "name": "stderr",
     "output_type": "stream",
     "text": [
      "installing the source packages 'ggforce', 'graphlayouts', 'DO.db'\n",
      "\n",
      "\n",
      "Old packages: 'babelgene', 'cli', 'crayon', 'dplyr', 'ISOcodes', 'limma',\n",
      "  'raster', 'rlang', 'RSQLite', 'vctrs', 'AnnotationDbi', 'Biobase',\n",
      "  'BiocGenerics', 'BiocVersion', 'Biostrings', 'cluster', 'evaluate',\n",
      "  'foreign', 'GenomeInfoDb', 'GenomeInfoDbData', 'GO.db', 'graph', 'htmltools',\n",
      "  'IRanges', 'KEGGREST', 'lifecycle', 'MASS', 'Matrix', 'nlme', 'nnet',\n",
      "  'openssl', 'org.Hs.eg.db', 'pillar', 'S4Vectors', 'survival', 'topGO',\n",
      "  'XVector', 'zlibbioc'\n",
      "\n"
     ]
    }
   ],
   "source": [
    "if (!require(\"BiocManager\", quietly = TRUE))\n",
    "    install.packages(\"BiocManager\")\n",
    "\n",
    "BiocManager::install(\"clusterProfiler\")"
   ],
   "metadata": {
    "collapsed": false,
    "pycharm": {
     "name": "#%%\n"
    }
   }
  },
  {
   "cell_type": "code",
   "execution_count": 70,
   "outputs": [],
   "source": [
    "library(clusterProfiler)"
   ],
   "metadata": {
    "collapsed": false,
    "pycharm": {
     "name": "#%%\n"
    }
   }
  },
  {
   "cell_type": "markdown",
   "source": [],
   "metadata": {
    "collapsed": false,
    "pycharm": {
     "name": "#%% md\n"
    }
   }
  },
  {
   "cell_type": "code",
   "execution_count": 57,
   "outputs": [
    {
     "name": "stderr",
     "output_type": "stream",
     "text": [
      "\n",
      "\n",
      "clusterProfiler v4.4.4  For help: https://yulab-smu.top/biomedical-knowledge-mining-book/\n",
      "\n",
      "If you use clusterProfiler in published research, please cite:\n",
      "T Wu, E Hu, S Xu, M Chen, P Guo, Z Dai, T Feng, L Zhou, W Tang, L Zhan, X Fu, S Liu, X Bo, and G Yu. clusterProfiler 4.0: A universal enrichment tool for interpreting omics data. The Innovation. 2021, 2(3):100141\n",
      "\n",
      "\n",
      "Attaching package: 'clusterProfiler'\n",
      "\n",
      "\n",
      "The following object is masked from 'package:AnnotationDbi':\n",
      "\n",
      "    select\n",
      "\n",
      "\n",
      "The following object is masked from 'package:IRanges':\n",
      "\n",
      "    slice\n",
      "\n",
      "\n",
      "The following object is masked from 'package:S4Vectors':\n",
      "\n",
      "    rename\n",
      "\n",
      "\n",
      "The following object is masked from 'package:stats':\n",
      "\n",
      "    filter\n",
      "\n",
      "\n",
      "--> No gene can be mapped....\n",
      "\n",
      "--> Expected input gene ID: 23424,7349,219793,9466,898,10468\n",
      "\n",
      "--> return NULL...\n",
      "\n"
     ]
    },
    {
     "ename": "ERROR",
     "evalue": "Error in eval(e, x, parent.frame()): object 'Count' not found\n",
     "output_type": "error",
     "traceback": [
      "Error in eval(e, x, parent.frame()): object 'Count' not found\nTraceback:\n",
      "1. subset(tab.go, Count > 5)",
      "2. subset(tab.go, Count > 5)",
      "3. subset.data.frame(tab.go, Count > 5)",
      "4. eval(e, x, parent.frame())",
      "5. eval(e, x, parent.frame())"
     ]
    }
   ],
   "source": [
    "\n",
    "ans.go <- enrichGO(gene = deGenes, ont = \"BP\",\n",
    "                   OrgDb =\"org.Hs.eg.db\",\n",
    "                   universe = geneUniverse,\n",
    "                   readable=TRUE,\n",
    "                   pvalueCutoff = 0.05)"
   ],
   "metadata": {
    "collapsed": false,
    "pycharm": {
     "name": "#%%\n"
    }
   }
  },
  {
   "cell_type": "code",
   "execution_count": 60,
   "outputs": [],
   "source": [
    "tab.go <- as.data.frame(ans.go)"
   ],
   "metadata": {
    "collapsed": false,
    "pycharm": {
     "name": "#%%\n"
    }
   }
  },
  {
   "cell_type": "code",
   "execution_count": 61,
   "outputs": [
    {
     "data": {
      "text/plain": "NULL"
     },
     "metadata": {},
     "output_type": "display_data"
    }
   ],
   "source": [
    "ans.go"
   ],
   "metadata": {
    "collapsed": false,
    "pycharm": {
     "name": "#%%\n"
    }
   }
  },
  {
   "cell_type": "code",
   "execution_count": null,
   "outputs": [],
   "source": [
    "tab.go<- subset(tab.go, Count>5)\n",
    "tab.go[1:5, 1:6]"
   ],
   "metadata": {
    "collapsed": false,
    "pycharm": {
     "name": "#%%\n"
    }
   }
  },
  {
   "cell_type": "markdown",
   "source": [
    "In order to assess functional enrichment, both DE gene list and gene universe must be annotated in Entrez IDs:\n"
   ],
   "metadata": {
    "collapsed": false,
    "pycharm": {
     "name": "#%% md\n"
    }
   }
  },
  {
   "cell_type": "code",
   "execution_count": 39,
   "outputs": [],
   "source": [
    "library(org.Hs.eg.db)\n",
    "deGenes <- unlist(mget(deGenes, envir=org.Hs.egENSEMBL2EG,\n",
    "                       ifnotfound = NA))\n",
    "\n",
    "geneUniverse <- unlist(mget(geneUniverse, envir=org.Hs.egENSEMBL2EG,\n",
    "                            ifnotfound = NA))"
   ],
   "metadata": {
    "collapsed": false,
    "pycharm": {
     "name": "#%%\n"
    }
   }
  },
  {
   "cell_type": "code",
   "execution_count": 40,
   "outputs": [
    {
     "data": {
      "text/html": "<style>\n.dl-inline {width: auto; margin:0; padding: 0}\n.dl-inline>dt, .dl-inline>dd {float: none; width: auto; display: inline-block}\n.dl-inline>dt::after {content: \":\\0020\"; padding-right: .5ex}\n.dl-inline>dt:not(:first-of-type) {padding-left: .5ex}\n</style><dl class=dl-inline><dt>222178_s_at</dt><dd>&lt;NA&gt;</dd><dt>224687_at</dt><dd>&lt;NA&gt;</dd><dt>207488_at</dt><dd>&lt;NA&gt;</dd><dt>216490_x_at</dt><dd>&lt;NA&gt;</dd><dt>230832_at</dt><dd>&lt;NA&gt;</dd><dt>236977_at</dt><dd>&lt;NA&gt;</dd><dt>211318_s_at</dt><dd>&lt;NA&gt;</dd><dt>212833_at</dt><dd>&lt;NA&gt;</dd><dt>1569478_s_at</dt><dd>&lt;NA&gt;</dd><dt>1558620_at</dt><dd>&lt;NA&gt;</dd><dt>206552_s_at</dt><dd>&lt;NA&gt;</dd><dt>1566964_at</dt><dd>&lt;NA&gt;</dd><dt>1553191_at</dt><dd>&lt;NA&gt;</dd><dt>1553505_at</dt><dd>&lt;NA&gt;</dd></dl>\n",
      "text/markdown": "222178_s_at\n:   &lt;NA&gt;224687_at\n:   &lt;NA&gt;207488_at\n:   &lt;NA&gt;216490_x_at\n:   &lt;NA&gt;230832_at\n:   &lt;NA&gt;236977_at\n:   &lt;NA&gt;211318_s_at\n:   &lt;NA&gt;212833_at\n:   &lt;NA&gt;1569478_s_at\n:   &lt;NA&gt;1558620_at\n:   &lt;NA&gt;206552_s_at\n:   &lt;NA&gt;1566964_at\n:   &lt;NA&gt;1553191_at\n:   &lt;NA&gt;1553505_at\n:   &lt;NA&gt;\n\n",
      "text/latex": "\\begin{description*}\n\\item[222178\\textbackslash{}\\_s\\textbackslash{}\\_at] <NA>\n\\item[224687\\textbackslash{}\\_at] <NA>\n\\item[207488\\textbackslash{}\\_at] <NA>\n\\item[216490\\textbackslash{}\\_x\\textbackslash{}\\_at] <NA>\n\\item[230832\\textbackslash{}\\_at] <NA>\n\\item[236977\\textbackslash{}\\_at] <NA>\n\\item[211318\\textbackslash{}\\_s\\textbackslash{}\\_at] <NA>\n\\item[212833\\textbackslash{}\\_at] <NA>\n\\item[1569478\\textbackslash{}\\_s\\textbackslash{}\\_at] <NA>\n\\item[1558620\\textbackslash{}\\_at] <NA>\n\\item[206552\\textbackslash{}\\_s\\textbackslash{}\\_at] <NA>\n\\item[1566964\\textbackslash{}\\_at] <NA>\n\\item[1553191\\textbackslash{}\\_at] <NA>\n\\item[1553505\\textbackslash{}\\_at] <NA>\n\\end{description*}\n",
      "text/plain": " 222178_s_at    224687_at    207488_at  216490_x_at    230832_at    236977_at \n          NA           NA           NA           NA           NA           NA \n 211318_s_at    212833_at 1569478_s_at   1558620_at  206552_s_at   1566964_at \n          NA           NA           NA           NA           NA           NA \n  1553191_at   1553505_at \n          NA           NA "
     },
     "metadata": {},
     "output_type": "display_data"
    }
   ],
   "source": [
    "deGenes\n"
   ],
   "metadata": {
    "collapsed": false,
    "pycharm": {
     "name": "#%%\n"
    }
   }
  },
  {
   "cell_type": "code",
   "execution_count": null,
   "outputs": [],
   "source": [
    "\n"
   ],
   "metadata": {
    "collapsed": false,
    "pycharm": {
     "name": "#%%\n"
    }
   }
  },
  {
   "cell_type": "markdown",
   "source": [
    "The GO enrichment analysis using clusterProfiler is performed by\n"
   ],
   "metadata": {
    "collapsed": false,
    "pycharm": {
     "name": "#%% md\n"
    }
   }
  },
  {
   "cell_type": "code",
   "execution_count": null,
   "outputs": [],
   "source": [
    "library(clusterProfiler)\n"
   ],
   "metadata": {
    "collapsed": false,
    "pycharm": {
     "name": "#%%\n"
    }
   }
  },
  {
   "cell_type": "code",
   "execution_count": null,
   "outputs": [],
   "source": [
    "ans.go <- enrichGO(gene = deGenes, ont = \"BP\",\n",
    "                   OrgDb =\"org.Hs.eg.db\",\n",
    "                   universe = geneUniverse,\n",
    "                   readable=TRUE,\n",
    "                   pvalueCutoff = 0.05)"
   ],
   "metadata": {
    "collapsed": false,
    "pycharm": {
     "name": "#%%\n"
    }
   }
  },
  {
   "cell_type": "code",
   "execution_count": null,
   "outputs": [],
   "source": [
    "tab.go <- as.data.frame(ans.go)\n"
   ],
   "metadata": {
    "collapsed": false,
    "pycharm": {
     "name": "#%%\n"
    }
   }
  },
  {
   "cell_type": "code",
   "execution_count": null,
   "outputs": [],
   "source": [
    "tab.go<- subset(tab.go, Count>5)\n"
   ],
   "metadata": {
    "collapsed": false,
    "pycharm": {
     "name": "#%%\n"
    }
   }
  },
  {
   "cell_type": "code",
   "execution_count": null,
   "outputs": [],
   "source": [
    "tab.go[1:5, 1:6]\n"
   ],
   "metadata": {
    "collapsed": false,
    "pycharm": {
     "name": "#%%\n"
    }
   }
  },
  {
   "cell_type": "markdown",
   "source": [
    "## Visualization\n"
   ],
   "metadata": {
    "collapsed": false,
    "pycharm": {
     "name": "#%% md\n"
    }
   }
  },
  {
   "cell_type": "markdown",
   "source": [
    "All analyses performed with clusterProfiler can be visualized by different plots:\n"
   ],
   "metadata": {
    "collapsed": false,
    "pycharm": {
     "name": "#%% md\n"
    }
   }
  },
  {
   "cell_type": "code",
   "execution_count": null,
   "outputs": [],
   "source": [
    "library(enrichplot)\n"
   ],
   "metadata": {
    "collapsed": false,
    "pycharm": {
     "name": "#%%\n"
    }
   }
  },
  {
   "cell_type": "code",
   "execution_count": null,
   "outputs": [],
   "source": [
    "p1 <- barplot(ans.dis, showCategory=10)\n"
   ],
   "metadata": {
    "collapsed": false,
    "pycharm": {
     "name": "#%%\n"
    }
   }
  },
  {
   "cell_type": "code",
   "execution_count": null,
   "outputs": [],
   "source": [
    "p1"
   ],
   "metadata": {
    "collapsed": false,
    "pycharm": {
     "name": "#%%\n"
    }
   }
  },
  {
   "cell_type": "code",
   "execution_count": null,
   "outputs": [],
   "source": [
    "p2 <- dotplot(ans.kegg, showCategory=20) + ggtitle(\"KEGG\")\n",
    "p3 <- dotplot(ans.dis, showCategory=20) + ggtitle(\"Disease\")\n"
   ],
   "metadata": {
    "collapsed": false,
    "pycharm": {
     "name": "#%%\n"
    }
   }
  },
  {
   "cell_type": "code",
   "execution_count": null,
   "outputs": [],
   "source": [
    "plot_grid(p2, p3, nrow=2)\n"
   ],
   "metadata": {
    "collapsed": false,
    "pycharm": {
     "name": "#%%\n"
    }
   }
  },
  {
   "cell_type": "code",
   "execution_count": null,
   "outputs": [],
   "source": [
    "p4 <- upsetplot(ans.dis)\n"
   ],
   "metadata": {
    "collapsed": false,
    "pycharm": {
     "name": "#%%\n"
    }
   }
  },
  {
   "cell_type": "code",
   "execution_count": null,
   "outputs": [],
   "source": [
    "p4"
   ],
   "metadata": {
    "collapsed": false,
    "pycharm": {
     "name": "#%%\n"
    }
   }
  },
  {
   "cell_type": "code",
   "execution_count": null,
   "outputs": [],
   "source": [
    "p5 <- emapplot(ans.kegg)\n"
   ],
   "metadata": {
    "collapsed": false,
    "pycharm": {
     "name": "#%%\n"
    }
   }
  },
  {
   "cell_type": "code",
   "execution_count": null,
   "outputs": [],
   "source": [
    "p5"
   ],
   "metadata": {
    "collapsed": false,
    "pycharm": {
     "name": "#%%\n"
    }
   }
  },
  {
   "cell_type": "code",
   "execution_count": null,
   "outputs": [],
   "source": [
    " install.packages(\"cowplot\")"
   ],
   "metadata": {
    "collapsed": false,
    "pycharm": {
     "name": "#%%\n"
    }
   }
  },
  {
   "cell_type": "code",
   "execution_count": null,
   "outputs": [],
   "source": [
    "cowplot::plot_grid(p1, p3, p5, ncol=2, labels=LETTERS[1:3])\n"
   ],
   "metadata": {
    "collapsed": false,
    "pycharm": {
     "name": "#%%\n"
    }
   }
  },
  {
   "cell_type": "code",
   "execution_count": null,
   "outputs": [],
   "source": [],
   "metadata": {
    "collapsed": false,
    "pycharm": {
     "name": "#%%\n"
    }
   }
  },
  {
   "cell_type": "markdown",
   "source": [],
   "metadata": {
    "collapsed": false,
    "pycharm": {
     "name": "#%% md\n"
    }
   }
  },
  {
   "cell_type": "markdown",
   "source": [
    "## Enrichment Analysis using FGSEA\n"
   ],
   "metadata": {
    "collapsed": false,
    "pycharm": {
     "name": "#%% md\n"
    }
   }
  },
  {
   "cell_type": "markdown",
   "source": [
    "This submodule describes FGSEA, one of the tools for evaluating pathway enrichment in transcriptional data and it stands for Fast preranked Gene Set Enrichment Analysis (GSEA). It can quickly and accurately calculate arbitrarily low GSEA P-values for a collection of gene sets based on an adaptive multi-level split Monte-Carlo scheme.\n",
    "\n",
    " Typical experimental design consists in comparing two conditions with several replicates using a differential gene expression test followed by preranked GSEA performed against a collection of hundreds and thousands of pathways. However, the reference implementation of this method cannot accurately estimate small P-values, which significantly limits its sensitivity due to multiple hypotheses correction procedure. FGSEA, on the other hand, is able to estimate arbitrarily low GSEA P-values with a high accuracy in a matter of minutes or even seconds.\n"
   ],
   "metadata": {
    "collapsed": false,
    "pycharm": {
     "name": "#%% md\n"
    }
   }
  },
  {
   "cell_type": "markdown",
   "source": [
    "## GSEA Enrichment Analysis\n",
    "# Inputs:\n",
    "gene_list = Ranked gene list ( numeric vector, names of vector should be gene names)\n",
    "GO_file= Path to the “gmt” GO file on your system.\n",
    "pval = P-value threshold for returning results\n"
   ],
   "metadata": {
    "collapsed": false,
    "pycharm": {
     "name": "#%% md\n"
    }
   }
  },
  {
   "cell_type": "markdown",
   "source": [
    "# Steps\n",
    "1. Run GSEA (package: fgsea)\n",
    "2. Collapse redundant GO terms using a permutation test\n",
    "3. Return GSEA plot and data.frame of results"
   ],
   "metadata": {
    "collapsed": false,
    "pycharm": {
     "name": "#%% md\n"
    }
   }
  },
  {
   "cell_type": "markdown",
   "source": [
    "# FGSEA Using GO"
   ],
   "metadata": {
    "collapsed": false,
    "pycharm": {
     "name": "#%% md\n"
    }
   }
  },
  {
   "cell_type": "code",
   "execution_count": null,
   "outputs": [],
   "source": [
    "library(tidyverse)\n"
   ],
   "metadata": {
    "collapsed": false,
    "pycharm": {
     "name": "#%%\n"
    }
   }
  },
  {
   "cell_type": "code",
   "execution_count": null,
   "outputs": [],
   "source": [
    "data <- read_csv(\"./data/DE_genes.csv\")\n"
   ],
   "metadata": {
    "collapsed": false,
    "pycharm": {
     "name": "#%%\n"
    }
   }
  },
  {
   "cell_type": "code",
   "execution_count": null,
   "outputs": [],
   "source": [
    "data"
   ],
   "metadata": {
    "collapsed": false,
    "pycharm": {
     "name": "#%%\n"
    }
   }
  },
  {
   "cell_type": "code",
   "execution_count": null,
   "outputs": [],
   "source": [
    "mask <- data$adj.P.Val < 0.05 &\n",
    "  abs(data$logFC) > log2(2)"
   ],
   "metadata": {
    "collapsed": false,
    "pycharm": {
     "name": "#%%\n"
    }
   }
  },
  {
   "cell_type": "code",
   "execution_count": null,
   "outputs": [],
   "source": [
    "deGenes <- rownames(data[mask,])\n"
   ],
   "metadata": {
    "collapsed": false,
    "pycharm": {
     "name": "#%%\n"
    }
   }
  },
  {
   "cell_type": "code",
   "execution_count": null,
   "outputs": [],
   "source": [
    "deGenes"
   ],
   "metadata": {
    "collapsed": false,
    "pycharm": {
     "name": "#%%\n"
    }
   }
  },
  {
   "cell_type": "code",
   "execution_count": null,
   "outputs": [],
   "source": [
    "length(deGenes)\n"
   ],
   "metadata": {
    "collapsed": false,
    "pycharm": {
     "name": "#%%\n"
    }
   }
  },
  {
   "cell_type": "code",
   "execution_count": null,
   "outputs": [],
   "source": [
    "geneUniverse <- rownames(data)\n"
   ],
   "metadata": {
    "collapsed": false,
    "pycharm": {
     "name": "#%%\n"
    }
   }
  },
  {
   "cell_type": "code",
   "execution_count": null,
   "outputs": [],
   "source": [
    "length(geneUniverse)\n"
   ],
   "metadata": {
    "collapsed": false,
    "pycharm": {
     "name": "#%%\n"
    }
   }
  },
  {
   "cell_type": "markdown",
   "source": [
    "## The FGSEA Analysis Procedure (from the author)\n",
    "Loading Libraries\n"
   ],
   "metadata": {
    "collapsed": false,
    "pycharm": {
     "name": "#%% md\n"
    }
   }
  },
  {
   "cell_type": "code",
   "execution_count": null,
   "outputs": [],
   "source": [
    "library(data.table)\n"
   ],
   "metadata": {
    "collapsed": false,
    "pycharm": {
     "name": "#%%\n"
    }
   }
  },
  {
   "cell_type": "code",
   "execution_count": null,
   "outputs": [],
   "source": [
    "library(fgsea)\n"
   ],
   "metadata": {
    "collapsed": false,
    "pycharm": {
     "name": "#%%\n"
    }
   }
  },
  {
   "cell_type": "code",
   "execution_count": null,
   "outputs": [],
   "source": [
    "library(ggplot2)\n"
   ],
   "metadata": {
    "collapsed": false,
    "pycharm": {
     "name": "#%%\n"
    }
   }
  },
  {
   "cell_type": "markdown",
   "source": [
    "Loading example pathways and gene-level statistics:\n"
   ],
   "metadata": {
    "collapsed": false,
    "pycharm": {
     "name": "#%% md\n"
    }
   }
  },
  {
   "cell_type": "code",
   "execution_count": null,
   "outputs": [],
   "source": [
    "data(examplePathways)\n"
   ],
   "metadata": {
    "collapsed": false,
    "pycharm": {
     "name": "#%%\n"
    }
   }
  },
  {
   "cell_type": "code",
   "execution_count": null,
   "outputs": [],
   "source": [
    "data(exampleRanks)\n"
   ],
   "metadata": {
    "collapsed": false,
    "pycharm": {
     "name": "#%%\n"
    }
   }
  },
  {
   "cell_type": "markdown",
   "source": [
    "#fgsea has a default lower bound eps=1e-10 for estimating P-values. If you need to estimate P-value more accurately, you can set the eps argument to zero in the fgsea function.\n"
   ],
   "metadata": {
    "collapsed": false,
    "pycharm": {
     "name": "#%% md\n"
    }
   }
  },
  {
   "cell_type": "code",
   "execution_count": null,
   "outputs": [],
   "source": [
    "fgseaRes <- fgsea(pathways = examplePathways,\n",
    "                  stats    = exampleRanks,\n",
    "                  eps      = 0.0,\n",
    "                  minSize  = 15,\n",
    "                  maxSize  = 500)"
   ],
   "metadata": {
    "collapsed": false,
    "pycharm": {
     "name": "#%%\n"
    }
   }
  },
  {
   "cell_type": "code",
   "execution_count": null,
   "outputs": [],
   "source": [
    "head(fgseaRes[order(pval), ])\n"
   ],
   "metadata": {
    "collapsed": false,
    "pycharm": {
     "name": "#%%\n"
    }
   }
  },
  {
   "cell_type": "markdown",
   "source": [
    "# One can make an enrichment plot for a pathway:\n"
   ],
   "metadata": {
    "collapsed": false,
    "pycharm": {
     "name": "#%% md\n"
    }
   }
  },
  {
   "cell_type": "code",
   "execution_count": null,
   "outputs": [],
   "source": [
    "plotEnrichment(examplePathways[[\"5991130_Programmed_Cell_Death\"]],\n",
    "               exampleRanks) + labs(title=\"Programmed Cell Death\")\n"
   ],
   "metadata": {
    "collapsed": false,
    "pycharm": {
     "name": "#%%\n"
    }
   }
  },
  {
   "cell_type": "markdown",
   "source": [
    "# Or make a table plot for a bunch of selected pathways:\n"
   ],
   "metadata": {
    "collapsed": false,
    "pycharm": {
     "name": "#%% md\n"
    }
   }
  },
  {
   "cell_type": "code",
   "execution_count": null,
   "outputs": [],
   "source": [
    "topPathwaysUp <- fgseaRes[ES > 0][head(order(pval), n=10), pathway]\n"
   ],
   "metadata": {
    "collapsed": false,
    "pycharm": {
     "name": "#%%\n"
    }
   }
  },
  {
   "cell_type": "code",
   "execution_count": null,
   "outputs": [],
   "source": [
    "topPathwaysDown <- fgseaRes[ES < 0][head(order(pval), n=10), pathway]\n"
   ],
   "metadata": {
    "collapsed": false,
    "pycharm": {
     "name": "#%%\n"
    }
   }
  },
  {
   "cell_type": "code",
   "execution_count": null,
   "outputs": [],
   "source": [
    "topPathways <- c(topPathwaysUp, rev(topPathwaysDown))\n"
   ],
   "metadata": {
    "collapsed": false,
    "pycharm": {
     "name": "#%%\n"
    }
   }
  },
  {
   "cell_type": "code",
   "execution_count": null,
   "outputs": [],
   "source": [
    "plotGseaTable(examplePathways[topPathways], exampleRanks, fgseaRes,\n",
    "              gseaParam=0.5)"
   ],
   "metadata": {
    "collapsed": false,
    "pycharm": {
     "name": "#%%\n"
    }
   }
  },
  {
   "cell_type": "code",
   "execution_count": null,
   "outputs": [],
   "source": [],
   "metadata": {
    "collapsed": false,
    "pycharm": {
     "name": "#%%\n"
    }
   }
  },
  {
   "cell_type": "code",
   "execution_count": null,
   "outputs": [],
   "source": [],
   "metadata": {
    "collapsed": false,
    "pycharm": {
     "name": "#%%\n"
    }
   }
  },
  {
   "cell_type": "code",
   "execution_count": null,
   "outputs": [],
   "source": [],
   "metadata": {
    "collapsed": false,
    "pycharm": {
     "name": "#%%\n"
    }
   }
  },
  {
   "cell_type": "markdown",
   "source": [
    "## FGSEA Enrichment Analysis With KEGG Data"
   ],
   "metadata": {
    "collapsed": false,
    "pycharm": {
     "name": "#%% md\n"
    }
   }
  },
  {
   "cell_type": "code",
   "execution_count": null,
   "outputs": [],
   "source": [
    "# To load the GMT file for enrichment analysis, we can use GSA.read.gmt function available in the GSA R package. Here is the code to install the package and load the GMT file\n",
    "\n",
    "suppressMessages({\n",
    "  suppressWarnings(install.packages(\"GSA\"))\n",
    "  suppressPackageStartupMessages({\n",
    "    suppressWarnings(library(GSA))\n",
    "  })\n",
    "})"
   ],
   "metadata": {
    "collapsed": false,
    "pycharm": {
     "name": "#%%\n"
    }
   }
  },
  {
   "cell_type": "code",
   "execution_count": null,
   "outputs": [],
   "source": [
    "# Load the GMT file from disk, we use \"invisible\" function to supress the excessive output message from the \"GSA.read.gmt\" function\n",
    "\n",
    "invisible(capture.output(pathways <- GSA::GSA.read.gmt(\"./data/KEGG_pathways.gmt\")))"
   ],
   "metadata": {
    "collapsed": false,
    "pycharm": {
     "name": "#%%\n"
    }
   }
  },
  {
   "cell_type": "code",
   "execution_count": null,
   "outputs": [],
   "source": [
    "# View first five pathways and related gene sets\n",
    "pathways$genesets[1:5]"
   ],
   "metadata": {
    "collapsed": false,
    "pycharm": {
     "name": "#%%\n"
    }
   }
  },
  {
   "cell_type": "code",
   "execution_count": null,
   "outputs": [],
   "source": [
    "# View the name of the pathways\n",
    "pathways$geneset.names[1:5]"
   ],
   "metadata": {
    "collapsed": false,
    "pycharm": {
     "name": "#%%\n"
    }
   }
  },
  {
   "cell_type": "code",
   "execution_count": null,
   "outputs": [],
   "source": [
    "# View the description of each pathway\n",
    "pathways$geneset.descriptions[1:5]"
   ],
   "metadata": {
    "collapsed": false,
    "pycharm": {
     "name": "#%%\n"
    }
   }
  },
  {
   "cell_type": "markdown",
   "source": [
    "# FGSEA Using KEGG\n",
    "\n",
    "# To load the GMT file for enrichment analysis, we can use GSA.read.gmt function available in the GSA R package. Here is the code to install the package and load the GMT file\n",
    "\n",
    "suppressMessages({\n",
    "  suppressWarnings(install.packages(\"GSA\"))\n",
    "  suppressPackageStartupMessages({\n",
    "    suppressWarnings(library(GSA))\n",
    "  })\n",
    "})\n",
    "\n",
    "\n",
    "# Load the GMT file from disk, we use \"invisible\" function to supress the excessive output message from the \"GSA.read.gmt\" function\n",
    "\n",
    "invisible(capture.output(pathways <- GSA::GSA.read.gmt(\"./data/KEGG_pathways.gmt\")))\n",
    "pathways\n",
    "# View first five pathways and related gene sets\n",
    "pathways$genesets[1:5]\n",
    "\n",
    "# View the name of the pathways\n",
    "pathways$geneset.names[1:5]\n",
    "\n",
    "# View the description of each pathway\n",
    "pathways$geneset.descriptions[1:5]\n",
    "\n",
    "#//GeneList\n",
    "DE <- readRDS(\"./data/DE_genes.rds\")\n",
    "\n",
    "# Get p-value from DE results\n",
    "gene_list <- DE$adj.P.Val\n",
    "#// Gene List\n",
    "gene_list\n",
    "GSEA = function(gene_list, pathways, pval) {\n",
    "  set.seed(54321)\n",
    "\n",
    "  library(dplyr)\n",
    "  library(fgsea)\n",
    "  if ( any( duplicated(names(gene_list)) )  ) {\n",
    "    warning(\"Duplicates in gene names\")\n",
    "    gene_list = gene_list[!duplicated(names(gene_list))]\n",
    "  }\n",
    "  if  ( !all( order(gene_list, decreasing = TRUE) == 1:length(gene_list)) ){\n",
    "    warning(\"Gene list not sorted\")\n",
    "    gene_list = sort(gene_list, decreasing = TRUE)\n",
    "  }\n",
    "\n",
    "  myGO = fgsea::gmtPathways(pathways)\n",
    "\n",
    "  fgRes <- fgsea::fgsea(pathways = myGO,\n",
    "                        stats = gene_list,\n",
    "                        minSize=15, ## minimum gene set size\n",
    "                        maxSize=400, ## maximum gene set size\n",
    "                        nperm=10000) %>%\n",
    "    as.data.frame() %>%\n",
    "    dplyr::filter(padj < !!pval) %>%\n",
    "    arrange(desc(NES))\n",
    "  message(paste(\"Number of signficant gene sets =\", nrow(fgRes)))\n",
    "\n",
    "\n",
    "  message(\"Collapsing Pathways -----\")\n",
    "  concise_pathways = collapsePathways(data.table::as.data.table(fgRes),\n",
    "                                      pathways = myGO,\n",
    "                                      stats = gene_list)\n",
    "  fgRes = fgRes[fgRes$pathway %in% concise_pathways$mainPathways, ]\n",
    "  message(paste(\"Number of gene sets after collapsing =\", nrow(fgRes)))\n",
    "\n",
    "  fgRes$Enrichment = ifelse(fgRes$NES > 0, \"Up-regulated\", \"Down-regulated\")\n",
    "  filtRes = rbind(head(fgRes, n = 10),\n",
    "                  tail(fgRes, n = 10 ))\n",
    "\n",
    "\n",
    "  total_up = sum(fgRes$Enrichment == \"Up-regulated\")\n",
    "  total_down = sum(fgRes$Enrichment == \"Down-regulated\")\n",
    "  header = paste0(\"Top 10 (Total pathways: Up=\", total_up,\", Down=\",    total_down, \")\")\n",
    "\n",
    "\n",
    "  colos = setNames(c(\"firebrick2\", \"dodgerblue2\"),\n",
    "                   c(\"Up-regulated\", \"Down-regulated\"))\n",
    "\n",
    "\n",
    "  g1= ggplot(filtRes, aes(reorder(pathway, NES), NES)) +\n",
    "    geom_point( aes(fill = Enrichment, size = size), shape=21) +\n",
    "    scale_fill_manual(values = colos ) +\n",
    "    scale_size_continuous(range = c(2,10)) +\n",
    "    geom_hline(yintercept = 0) +\n",
    "    coord_flip() +\n",
    "    labs(x=\"Pathway\", y=\"Normalized Enrichment Score\",\n",
    "         title=header) +\n",
    "    th\n",
    "\n",
    "  output = list(\"Results\" = fgRes, \"Plot\" = g1)\n",
    "  return(output)\n",
    "}\n",
    "\n"
   ],
   "metadata": {
    "collapsed": false,
    "pycharm": {
     "name": "#%% md\n"
    }
   }
  },
  {
   "cell_type": "code",
   "execution_count": null,
   "outputs": [],
   "source": [],
   "metadata": {
    "collapsed": false,
    "pycharm": {
     "name": "#%%\n"
    }
   }
  },
  {
   "cell_type": "code",
   "execution_count": null,
   "outputs": [],
   "source": [
    "## Enrichment analysis using gsa\n"
   ],
   "metadata": {
    "collapsed": false,
    "pycharm": {
     "name": "#%%\n"
    }
   }
  },
  {
   "cell_type": "code",
   "execution_count": null,
   "outputs": [],
   "source": [
    "# // GSA using GO"
   ],
   "metadata": {
    "collapsed": false,
    "pycharm": {
     "name": "#%%\n"
    }
   }
  },
  {
   "cell_type": "code",
   "execution_count": null,
   "outputs": [],
   "source": [],
   "metadata": {
    "collapsed": false,
    "pycharm": {
     "name": "#%%\n"
    }
   }
  },
  {
   "cell_type": "code",
   "execution_count": null,
   "outputs": [],
   "source": [
    "# // GSA with KEGG"
   ],
   "metadata": {
    "collapsed": false,
    "pycharm": {
     "name": "#%%\n"
    }
   }
  },
  {
   "cell_type": "code",
   "execution_count": null,
   "outputs": [],
   "source": [],
   "metadata": {
    "collapsed": false,
    "pycharm": {
     "name": "#%%\n"
    }
   }
  },
  {
   "cell_type": "markdown",
   "source": [
    "# FGSEA Using GO"
   ],
   "metadata": {
    "collapsed": false
   }
  },
  {
   "cell_type": "code",
   "execution_count": null,
   "outputs": [],
   "source": [
    "library(tidyverse)\n"
   ],
   "metadata": {
    "collapsed": false
   }
  },
  {
   "cell_type": "code",
   "execution_count": null,
   "outputs": [],
   "source": [
    "data <- read_csv(\"./data/DE_genes.csv\")\n"
   ],
   "metadata": {
    "collapsed": false,
    "pycharm": {
     "is_executing": true
    }
   }
  },
  {
   "cell_type": "code",
   "execution_count": null,
   "outputs": [],
   "source": [
    "data"
   ],
   "metadata": {
    "collapsed": false
   }
  },
  {
   "cell_type": "code",
   "execution_count": null,
   "outputs": [],
   "source": [
    "mask <- data$adj.P.Val < 0.05 &\n",
    "  abs(data$logFC) > log2(2)"
   ],
   "metadata": {
    "collapsed": false
   }
  },
  {
   "cell_type": "code",
   "execution_count": null,
   "outputs": [],
   "source": [
    "deGenes <- rownames(data[mask,])\n"
   ],
   "metadata": {
    "collapsed": false
   }
  },
  {
   "cell_type": "code",
   "execution_count": null,
   "outputs": [],
   "source": [
    "deGenes"
   ],
   "metadata": {
    "collapsed": false
   }
  },
  {
   "cell_type": "code",
   "execution_count": null,
   "outputs": [],
   "source": [
    "length(deGenes)\n"
   ],
   "metadata": {
    "collapsed": false
   }
  },
  {
   "cell_type": "code",
   "execution_count": null,
   "outputs": [],
   "source": [
    "geneUniverse <- rownames(data)\n"
   ],
   "metadata": {
    "collapsed": false
   }
  },
  {
   "cell_type": "code",
   "execution_count": null,
   "outputs": [],
   "source": [
    "length(geneUniverse)\n"
   ],
   "metadata": {
    "collapsed": false
   }
  },
  {
   "cell_type": "markdown",
   "source": [
    "## The FGSEA Analysis Procedure (from the author)\n",
    "Loading Libraries\n"
   ],
   "metadata": {
    "collapsed": false
   }
  },
  {
   "cell_type": "code",
   "execution_count": null,
   "outputs": [],
   "source": [
    "library(data.table)\n"
   ],
   "metadata": {
    "collapsed": false
   }
  },
  {
   "cell_type": "code",
   "execution_count": null,
   "outputs": [],
   "source": [
    "library(fgsea)\n"
   ],
   "metadata": {
    "collapsed": false
   }
  },
  {
   "cell_type": "code",
   "execution_count": null,
   "outputs": [],
   "source": [
    "library(ggplot2)\n"
   ],
   "metadata": {
    "collapsed": false
   }
  },
  {
   "cell_type": "markdown",
   "source": [
    "Loading example pathways and gene-level statistics:\n"
   ],
   "metadata": {
    "collapsed": false
   }
  },
  {
   "cell_type": "code",
   "execution_count": null,
   "outputs": [],
   "source": [
    "data(examplePathways)\n"
   ],
   "metadata": {
    "collapsed": false
   }
  },
  {
   "cell_type": "code",
   "execution_count": null,
   "outputs": [],
   "source": [
    "data(exampleRanks)\n"
   ],
   "metadata": {
    "collapsed": false
   }
  },
  {
   "cell_type": "markdown",
   "source": [
    "#fgsea has a default lower bound eps=1e-10 for estimating P-values. If you need to estimate P-value more accurately, you can set the eps argument to zero in the fgsea function.\n"
   ],
   "metadata": {
    "collapsed": false
   }
  },
  {
   "cell_type": "code",
   "execution_count": null,
   "outputs": [],
   "source": [
    "fgseaRes <- fgsea(pathways = examplePathways,\n",
    "                  stats    = exampleRanks,\n",
    "                  eps      = 0.0,\n",
    "                  minSize  = 15,\n",
    "                  maxSize  = 500)"
   ],
   "metadata": {
    "collapsed": false
   }
  },
  {
   "cell_type": "code",
   "execution_count": null,
   "outputs": [],
   "source": [
    "head(fgseaRes[order(pval), ])\n"
   ],
   "metadata": {
    "collapsed": false
   }
  },
  {
   "cell_type": "markdown",
   "source": [
    "# One can make an enrichment plot for a pathway:\n"
   ],
   "metadata": {
    "collapsed": false
   }
  },
  {
   "cell_type": "code",
   "execution_count": null,
   "outputs": [],
   "source": [
    "plotEnrichment(examplePathways[[\"5991130_Programmed_Cell_Death\"]],\n",
    "               exampleRanks) + labs(title=\"Programmed Cell Death\")\n"
   ],
   "metadata": {
    "collapsed": false
   }
  },
  {
   "cell_type": "markdown",
   "source": [
    "# Or make a table plot for a bunch of selected pathways:\n"
   ],
   "metadata": {
    "collapsed": false
   }
  },
  {
   "cell_type": "code",
   "execution_count": null,
   "outputs": [],
   "source": [
    "topPathwaysUp <- fgseaRes[ES > 0][head(order(pval), n=10), pathway]\n"
   ],
   "metadata": {
    "collapsed": false
   }
  },
  {
   "cell_type": "code",
   "execution_count": null,
   "outputs": [],
   "source": [
    "topPathwaysDown <- fgseaRes[ES < 0][head(order(pval), n=10), pathway]\n"
   ],
   "metadata": {
    "collapsed": false
   }
  },
  {
   "cell_type": "code",
   "execution_count": null,
   "outputs": [],
   "source": [
    "topPathways <- c(topPathwaysUp, rev(topPathwaysDown))\n"
   ],
   "metadata": {
    "collapsed": false
   }
  },
  {
   "cell_type": "code",
   "execution_count": null,
   "outputs": [],
   "source": [
    "plotGseaTable(examplePathways[topPathways], exampleRanks, fgseaRes,\n",
    "              gseaParam=0.5)"
   ],
   "metadata": {
    "collapsed": false
   }
  },
  {
   "cell_type": "code",
   "execution_count": null,
   "outputs": [],
   "source": [],
   "metadata": {
    "collapsed": false
   }
  },
  {
   "cell_type": "code",
   "execution_count": null,
   "outputs": [],
   "source": [],
   "metadata": {
    "collapsed": false
   }
  },
  {
   "cell_type": "code",
   "execution_count": null,
   "outputs": [],
   "source": [],
   "metadata": {
    "collapsed": false
   }
  },
  {
   "cell_type": "markdown",
   "source": [
    "## FGSEA Enrichment Analysis With KEGG Data"
   ],
   "metadata": {
    "collapsed": false
   }
  },
  {
   "cell_type": "code",
   "execution_count": null,
   "outputs": [],
   "source": [
    "# To load the GMT file for enrichment analysis, we can use GSA.read.gmt function available in the GSA R package. Here is the code to install the package and load the GMT file\n",
    "\n",
    "suppressMessages({\n",
    "  suppressWarnings(install.packages(\"GSA\"))\n",
    "  suppressPackageStartupMessages({\n",
    "    suppressWarnings(library(GSA))\n",
    "  })\n",
    "})"
   ],
   "metadata": {
    "collapsed": false
   }
  },
  {
   "cell_type": "code",
   "execution_count": null,
   "outputs": [],
   "source": [
    "# Load the GMT file from disk, we use \"invisible\" function to supress the excessive output message from the \"GSA.read.gmt\" function\n",
    "\n",
    "invisible(capture.output(pathways <- GSA::GSA.read.gmt(\"./data/KEGG_pathways.gmt\")))"
   ],
   "metadata": {
    "collapsed": false,
    "pycharm": {
     "is_executing": true
    }
   }
  },
  {
   "cell_type": "code",
   "execution_count": null,
   "outputs": [],
   "source": [
    "# View first five pathways and related gene sets\n",
    "pathways$genesets[1:5]"
   ],
   "metadata": {
    "collapsed": false
   }
  },
  {
   "cell_type": "code",
   "execution_count": null,
   "outputs": [],
   "source": [
    "# View the name of the pathways\n",
    "pathways$geneset.names[1:5]"
   ],
   "metadata": {
    "collapsed": false
   }
  },
  {
   "cell_type": "code",
   "execution_count": null,
   "outputs": [],
   "source": [
    "# View the description of each pathway\n",
    "pathways$geneset.descriptions[1:5]"
   ],
   "metadata": {
    "collapsed": false
   }
  },
  {
   "cell_type": "markdown",
   "source": [
    "# FGSEA Using KEGG\n",
    "\n",
    "# To load the GMT file for enrichment analysis, we can use GSA.read.gmt function available in the GSA R package. Here is the code to install the package and load the GMT file\n",
    "\n",
    "suppressMessages({\n",
    "  suppressWarnings(install.packages(\"GSA\"))\n",
    "  suppressPackageStartupMessages({\n",
    "    suppressWarnings(library(GSA))\n",
    "  })\n",
    "})\n",
    "\n",
    "\n",
    "# Load the GMT file from disk, we use \"invisible\" function to supress the excessive output message from the \"GSA.read.gmt\" function\n",
    "\n",
    "invisible(capture.output(pathways <- GSA::GSA.read.gmt(\"./data/KEGG_pathways.gmt\")))\n",
    "pathways\n",
    "# View first five pathways and related gene sets\n",
    "pathways$genesets[1:5]\n",
    "\n",
    "# View the name of the pathways\n",
    "pathways$geneset.names[1:5]\n",
    "\n",
    "# View the description of each pathway\n",
    "pathways$geneset.descriptions[1:5]\n",
    "\n",
    "#//GeneList\n",
    "DE <- readRDS(\"./data/DE_genes.rds\")\n",
    "\n",
    "# Get p-value from DE results\n",
    "gene_list <- DE$adj.P.Val\n",
    "#// Gene List\n",
    "gene_list\n",
    "GSEA = function(gene_list, pathways, pval) {\n",
    "  set.seed(54321)\n",
    "\n",
    "  library(dplyr)\n",
    "  library(fgsea)\n",
    "  if ( any( duplicated(names(gene_list)) )  ) {\n",
    "    warning(\"Duplicates in gene names\")\n",
    "    gene_list = gene_list[!duplicated(names(gene_list))]\n",
    "  }\n",
    "  if  ( !all( order(gene_list, decreasing = TRUE) == 1:length(gene_list)) ){\n",
    "    warning(\"Gene list not sorted\")\n",
    "    gene_list = sort(gene_list, decreasing = TRUE)\n",
    "  }\n",
    "\n",
    "  myGO = fgsea::gmtPathways(pathways)\n",
    "\n",
    "  fgRes <- fgsea::fgsea(pathways = myGO,\n",
    "                        stats = gene_list,\n",
    "                        minSize=15, ## minimum gene set size\n",
    "                        maxSize=400, ## maximum gene set size\n",
    "                        nperm=10000) %>%\n",
    "    as.data.frame() %>%\n",
    "    dplyr::filter(padj < !!pval) %>%\n",
    "    arrange(desc(NES))\n",
    "  message(paste(\"Number of signficant gene sets =\", nrow(fgRes)))\n",
    "\n",
    "\n",
    "  message(\"Collapsing Pathways -----\")\n",
    "  concise_pathways = collapsePathways(data.table::as.data.table(fgRes),\n",
    "                                      pathways = myGO,\n",
    "                                      stats = gene_list)\n",
    "  fgRes = fgRes[fgRes$pathway %in% concise_pathways$mainPathways, ]\n",
    "  message(paste(\"Number of gene sets after collapsing =\", nrow(fgRes)))\n",
    "\n",
    "  fgRes$Enrichment = ifelse(fgRes$NES > 0, \"Up-regulated\", \"Down-regulated\")\n",
    "  filtRes = rbind(head(fgRes, n = 10),\n",
    "                  tail(fgRes, n = 10 ))\n",
    "\n",
    "\n",
    "  total_up = sum(fgRes$Enrichment == \"Up-regulated\")\n",
    "  total_down = sum(fgRes$Enrichment == \"Down-regulated\")\n",
    "  header = paste0(\"Top 10 (Total pathways: Up=\", total_up,\", Down=\",    total_down, \")\")\n",
    "\n",
    "\n",
    "  colos = setNames(c(\"firebrick2\", \"dodgerblue2\"),\n",
    "                   c(\"Up-regulated\", \"Down-regulated\"))\n",
    "\n",
    "\n",
    "  g1= ggplot(filtRes, aes(reorder(pathway, NES), NES)) +\n",
    "    geom_point( aes(fill = Enrichment, size = size), shape=21) +\n",
    "    scale_fill_manual(values = colos ) +\n",
    "    scale_size_continuous(range = c(2,10)) +\n",
    "    geom_hline(yintercept = 0) +\n",
    "    coord_flip() +\n",
    "    labs(x=\"Pathway\", y=\"Normalized Enrichment Score\",\n",
    "         title=header) +\n",
    "    th\n",
    "\n",
    "  output = list(\"Results\" = fgRes, \"Plot\" = g1)\n",
    "  return(output)\n",
    "}\n",
    "\n"
   ],
   "metadata": {
    "collapsed": false
   }
  },
  {
   "cell_type": "code",
   "execution_count": null,
   "outputs": [],
   "source": [],
   "metadata": {
    "collapsed": false
   }
  },
  {
   "cell_type": "code",
   "execution_count": null,
   "outputs": [],
   "source": [
    "## Enrichment analysis using gsa\n"
   ],
   "metadata": {
    "collapsed": false
   }
  },
  {
   "cell_type": "code",
   "execution_count": null,
   "outputs": [],
   "source": [
    "# // GSA using GO"
   ],
   "metadata": {
    "collapsed": false
   }
  },
  {
   "cell_type": "code",
   "execution_count": null,
   "outputs": [],
   "source": [],
   "metadata": {
    "collapsed": false
   }
  },
  {
   "cell_type": "code",
   "execution_count": null,
   "outputs": [],
   "source": [
    "# // GSA with KEGG"
   ],
   "metadata": {
    "collapsed": false
   }
  },
  {
   "cell_type": "code",
   "execution_count": null,
   "outputs": [],
   "source": [],
   "metadata": {
    "collapsed": false
   }
  }
 ],
 "metadata": {
  "celltoolbar": "Tags",
  "environment": {
   "kernel": "ir",
   "name": "r-cpu.4-1.m93",
   "type": "gcloud",
   "uri": "gcr.io/deeplearning-platform-release/r-cpu.4-1:m93"
  },
  "kernelspec": {
   "display_name": "R",
   "language": "R",
   "name": "ir"
  },
  "language_info": {
   "codemirror_mode": "r",
   "file_extension": ".r",
   "mimetype": "text/x-r-source",
   "name": "R",
   "pygments_lexer": "r",
   "version": "4.1.3"
  },
  "toc-showcode": true,
  "widgets": {
   "application/vnd.jupyter.widget-state+json": {
    "state": {},
    "version_major": 2,
    "version_minor": 0
   }
  }
 },
 "nbformat": 4,
 "nbformat_minor": 5
}