{
 "cells": [
  {
   "cell_type": "markdown",
   "source": [
    "# Pathway Analysis\n",
    "\n",
    "The primary goal of Pathway Analysis (PA) is to assess data collected from high-throughput technologies, discovering meaningful group of genes that are altered in case samples when compared to a control. In this approach, PA methods attempt to overcome the challenge of comprehending a huge lists of important, but isolated genes detached from biological context, which are the principal output of differential expression analysis. Pathway enrichment analysis is a common strategy to tackling this problem that summarizes the large gene list as a smaller list of more clearly interpretable pathways. Pathways are statistically tested for over-representation in the experimental gene list relative to what would be expected by chance, using several common statistical tests that take into account the number of genes detected in the experiment, their relative ranking, and the number of genes annotated to a pathway of interest.\n",
    "\n",
    "A good technique to analyze gene sets is to compare them to well-annotated gene sets (biological pathways). For example, Over-representation Analysis (ORA) counts the number of similar genes shared by an input gene set and each annotated gene set and applies a statistical test to evaluate the overlap's statistical significance. A p-value cutoff, e.g. 0.05, is used to identify annotated gene sets with significant overlaps to the input gene set. Gene Set Enrichment Analysis (GSEA) seeks to avoid the necessity for an ad hoc cutoff (e.g. expression fold change) in identifying the input gene set. GSEA ranks all genes in the genome by differential expression level and checks if any annotated gene set is scored unexpectedly high or low.\n",
    "\n",
    "## Learning Objectives:\n",
    "1. Introduction to enrichment analysis\n",
    "3. Enrichment analysis using different methods.\n",
    "4. Saving results."
   ],
   "metadata": {
    "collapsed": false,
    "pycharm": {
     "name": "#%% md\n"
    }
   }
  },
  {
   "cell_type": "markdown",
   "source": [
    "## Enrichment analysis\n",
    " Gene Set Enrichment Analysis methods help gain insight into obtained gene lists by identifying pathways that are enriched in a gene list more than would be expected by chance. The three major steps involved the process include; definition of a gene list from omics data, determination of statistically enriched pathways, and visualization and interpretation of the results."
   ],
   "metadata": {
    "collapsed": false,
    "pycharm": {
     "name": "#%% md\n"
    }
   }
  },
  {
   "cell_type": "markdown",
   "source": [
    "### Loading and mapping DE genes"
   ],
   "metadata": {
    "collapsed": false,
    "pycharm": {
     "name": "#%% md\n"
    }
   }
  },
  {
   "cell_type": "code",
   "execution_count": 59,
   "outputs": [
    {
     "data": {
      "text/html": "<table class=\"dataframe\">\n<caption>A data.frame: 6 × 7</caption>\n<thead>\n\t<tr><th></th><th scope=col>PROBEID</th><th scope=col>logFC</th><th scope=col>AveExpr</th><th scope=col>t</th><th scope=col>P.Value</th><th scope=col>adj.P.Val</th><th scope=col>B</th></tr>\n\t<tr><th></th><th scope=col>&lt;chr&gt;</th><th scope=col>&lt;dbl&gt;</th><th scope=col>&lt;dbl&gt;</th><th scope=col>&lt;dbl&gt;</th><th scope=col>&lt;dbl&gt;</th><th scope=col>&lt;dbl&gt;</th><th scope=col>&lt;dbl&gt;</th></tr>\n</thead>\n<tbody>\n\t<tr><th scope=row>222178_s_at</th><td>222178_s_at</td><td>-0.4473780</td><td>0.3653633</td><td>-73.01106</td><td>4.019112e-55</td><td>2.197450e-50</td><td>81.05538</td></tr>\n\t<tr><th scope=row>224687_at</th><td>224687_at  </td><td>-4.1431631</td><td>2.2572347</td><td>-48.92036</td><td>5.489424e-46</td><td>1.500671e-41</td><td>74.18354</td></tr>\n\t<tr><th scope=row>207488_at</th><td>207488_at  </td><td>-0.4017530</td><td>0.6243144</td><td>-39.29933</td><td>4.735684e-41</td><td>8.630785e-37</td><td>68.83493</td></tr>\n\t<tr><th scope=row>239226_at</th><td>239226_at  </td><td> 0.4483302</td><td>1.3245501</td><td> 28.36499</td><td>7.626558e-34</td><td>1.042455e-29</td><td>58.84908</td></tr>\n\t<tr><th scope=row>234109_x_at</th><td>234109_x_at</td><td>-0.2289726</td><td>0.7508256</td><td>-27.67010</td><td>2.635337e-33</td><td>2.881741e-29</td><td>58.00438</td></tr>\n\t<tr><th scope=row>212833_at</th><td>212833_at  </td><td>-2.5976592</td><td>1.7308944</td><td>-24.01172</td><td>2.914912e-30</td><td>2.656213e-26</td><td>52.99567</td></tr>\n</tbody>\n</table>\n",
      "text/markdown": "\nA data.frame: 6 × 7\n\n| <!--/--> | PROBEID &lt;chr&gt; | logFC &lt;dbl&gt; | AveExpr &lt;dbl&gt; | t &lt;dbl&gt; | P.Value &lt;dbl&gt; | adj.P.Val &lt;dbl&gt; | B &lt;dbl&gt; |\n|---|---|---|---|---|---|---|---|\n| 222178_s_at | 222178_s_at | -0.4473780 | 0.3653633 | -73.01106 | 4.019112e-55 | 2.197450e-50 | 81.05538 |\n| 224687_at | 224687_at   | -4.1431631 | 2.2572347 | -48.92036 | 5.489424e-46 | 1.500671e-41 | 74.18354 |\n| 207488_at | 207488_at   | -0.4017530 | 0.6243144 | -39.29933 | 4.735684e-41 | 8.630785e-37 | 68.83493 |\n| 239226_at | 239226_at   |  0.4483302 | 1.3245501 |  28.36499 | 7.626558e-34 | 1.042455e-29 | 58.84908 |\n| 234109_x_at | 234109_x_at | -0.2289726 | 0.7508256 | -27.67010 | 2.635337e-33 | 2.881741e-29 | 58.00438 |\n| 212833_at | 212833_at   | -2.5976592 | 1.7308944 | -24.01172 | 2.914912e-30 | 2.656213e-26 | 52.99567 |\n\n",
      "text/latex": "A data.frame: 6 × 7\n\\begin{tabular}{r|lllllll}\n  & PROBEID & logFC & AveExpr & t & P.Value & adj.P.Val & B\\\\\n  & <chr> & <dbl> & <dbl> & <dbl> & <dbl> & <dbl> & <dbl>\\\\\n\\hline\n\t222178\\_s\\_at & 222178\\_s\\_at & -0.4473780 & 0.3653633 & -73.01106 & 4.019112e-55 & 2.197450e-50 & 81.05538\\\\\n\t224687\\_at & 224687\\_at   & -4.1431631 & 2.2572347 & -48.92036 & 5.489424e-46 & 1.500671e-41 & 74.18354\\\\\n\t207488\\_at & 207488\\_at   & -0.4017530 & 0.6243144 & -39.29933 & 4.735684e-41 & 8.630785e-37 & 68.83493\\\\\n\t239226\\_at & 239226\\_at   &  0.4483302 & 1.3245501 &  28.36499 & 7.626558e-34 & 1.042455e-29 & 58.84908\\\\\n\t234109\\_x\\_at & 234109\\_x\\_at & -0.2289726 & 0.7508256 & -27.67010 & 2.635337e-33 & 2.881741e-29 & 58.00438\\\\\n\t212833\\_at & 212833\\_at   & -2.5976592 & 1.7308944 & -24.01172 & 2.914912e-30 & 2.656213e-26 & 52.99567\\\\\n\\end{tabular}\n",
      "text/plain": "            PROBEID     logFC      AveExpr   t         P.Value     \n222178_s_at 222178_s_at -0.4473780 0.3653633 -73.01106 4.019112e-55\n224687_at   224687_at   -4.1431631 2.2572347 -48.92036 5.489424e-46\n207488_at   207488_at   -0.4017530 0.6243144 -39.29933 4.735684e-41\n239226_at   239226_at    0.4483302 1.3245501  28.36499 7.626558e-34\n234109_x_at 234109_x_at -0.2289726 0.7508256 -27.67010 2.635337e-33\n212833_at   212833_at   -2.5976592 1.7308944 -24.01172 2.914912e-30\n            adj.P.Val    B       \n222178_s_at 2.197450e-50 81.05538\n224687_at   1.500671e-41 74.18354\n207488_at   8.630785e-37 68.83493\n239226_at   1.042455e-29 58.84908\n234109_x_at 2.881741e-29 58.00438\n212833_at   2.656213e-26 52.99567"
     },
     "metadata": {},
     "output_type": "display_data"
    },
    {
     "data": {
      "text/html": "<style>\n.list-inline {list-style: none; margin:0; padding: 0}\n.list-inline>li {display: inline-block}\n.list-inline>li:not(:last-child)::after {content: \"\\00b7\"; padding: 0 .5ex}\n</style>\n<ol class=list-inline><li>54675</li><li>7</li></ol>\n",
      "text/markdown": "1. 54675\n2. 7\n\n\n",
      "text/latex": "\\begin{enumerate*}\n\\item 54675\n\\item 7\n\\end{enumerate*}\n",
      "text/plain": "[1] 54675     7"
     },
     "metadata": {},
     "output_type": "display_data"
    }
   ],
   "source": [
    "data <- readRDS(\"./data/DE_genes.rds\")\n",
    "rownames(data) <- data$PROBEID\n",
    "head(data)\n",
    "dim(data)"
   ],
   "metadata": {
    "collapsed": false,
    "pycharm": {
     "name": "#%%\n"
    }
   }
  },
  {
   "cell_type": "code",
   "execution_count": 60,
   "outputs": [],
   "source": [
    "suppressMessages({\n",
    "  library(hgu133plus2.db)\n",
    "  library(AnnotationDbi)\n",
    "})"
   ],
   "metadata": {
    "collapsed": false,
    "pycharm": {
     "name": "#%%\n"
    }
   }
  },
  {
   "cell_type": "code",
   "execution_count": 61,
   "outputs": [],
   "source": [
    "probeIDs = data$PROBEID"
   ],
   "metadata": {
    "collapsed": false,
    "pycharm": {
     "name": "#%%\n"
    }
   }
  },
  {
   "cell_type": "code",
   "execution_count": 62,
   "outputs": [],
   "source": [
    "suppressMessages({\n",
    "annotLookup <- AnnotationDbi::select(hgu133plus2.db, keys = probeIDs, columns = c('PROBEID','GENENAME','SYMBOL'))\n",
    "})"
   ],
   "metadata": {
    "collapsed": false,
    "pycharm": {
     "name": "#%%\n"
    }
   }
  },
  {
   "cell_type": "code",
   "execution_count": 63,
   "outputs": [
    {
     "data": {
      "text/html": "<table class=\"dataframe\">\n<caption>A data.frame: 6 × 3</caption>\n<thead>\n\t<tr><th></th><th scope=col>PROBEID</th><th scope=col>GENENAME</th><th scope=col>SYMBOL</th></tr>\n\t<tr><th></th><th scope=col>&lt;chr&gt;</th><th scope=col>&lt;chr&gt;</th><th scope=col>&lt;chr&gt;</th></tr>\n</thead>\n<tbody>\n\t<tr><th scope=row>1</th><td>222178_s_at</td><td>NA                                        </td><td>NA      </td></tr>\n\t<tr><th scope=row>2</th><td>224687_at  </td><td>ankyrin repeat and IBR domain containing 1</td><td>ANKIB1  </td></tr>\n\t<tr><th scope=row>3</th><td>207488_at  </td><td>NA                                        </td><td>NA      </td></tr>\n\t<tr><th scope=row>4</th><td>239226_at  </td><td>NA                                        </td><td>NA      </td></tr>\n\t<tr><th scope=row>5</th><td>234109_x_at</td><td>one cut homeobox 3                        </td><td>ONECUT3 </td></tr>\n\t<tr><th scope=row>6</th><td>212833_at  </td><td>solute carrier family 25 member 46        </td><td>SLC25A46</td></tr>\n</tbody>\n</table>\n",
      "text/markdown": "\nA data.frame: 6 × 3\n\n| <!--/--> | PROBEID &lt;chr&gt; | GENENAME &lt;chr&gt; | SYMBOL &lt;chr&gt; |\n|---|---|---|---|\n| 1 | 222178_s_at | NA                                         | NA       |\n| 2 | 224687_at   | ankyrin repeat and IBR domain containing 1 | ANKIB1   |\n| 3 | 207488_at   | NA                                         | NA       |\n| 4 | 239226_at   | NA                                         | NA       |\n| 5 | 234109_x_at | one cut homeobox 3                         | ONECUT3  |\n| 6 | 212833_at   | solute carrier family 25 member 46         | SLC25A46 |\n\n",
      "text/latex": "A data.frame: 6 × 3\n\\begin{tabular}{r|lll}\n  & PROBEID & GENENAME & SYMBOL\\\\\n  & <chr> & <chr> & <chr>\\\\\n\\hline\n\t1 & 222178\\_s\\_at & NA                                         & NA      \\\\\n\t2 & 224687\\_at   & ankyrin repeat and IBR domain containing 1 & ANKIB1  \\\\\n\t3 & 207488\\_at   & NA                                         & NA      \\\\\n\t4 & 239226\\_at   & NA                                         & NA      \\\\\n\t5 & 234109\\_x\\_at & one cut homeobox 3                         & ONECUT3 \\\\\n\t6 & 212833\\_at   & solute carrier family 25 member 46         & SLC25A46\\\\\n\\end{tabular}\n",
      "text/plain": "  PROBEID     GENENAME                                   SYMBOL  \n1 222178_s_at NA                                         NA      \n2 224687_at   ankyrin repeat and IBR domain containing 1 ANKIB1  \n3 207488_at   NA                                         NA      \n4 239226_at   NA                                         NA      \n5 234109_x_at one cut homeobox 3                         ONECUT3 \n6 212833_at   solute carrier family 25 member 46         SLC25A46"
     },
     "metadata": {},
     "output_type": "display_data"
    }
   ],
   "source": [
    "head(annotLookup)"
   ],
   "metadata": {
    "collapsed": false,
    "pycharm": {
     "name": "#%%\n"
    }
   }
  },
  {
   "cell_type": "code",
   "execution_count": 64,
   "outputs": [],
   "source": [
    "# Merge DE result  data frame with annotation table\n",
    "data = merge(annotLookup, data, by=\"PROBEID\")"
   ],
   "metadata": {
    "collapsed": false,
    "pycharm": {
     "name": "#%%\n"
    }
   }
  },
  {
   "cell_type": "code",
   "execution_count": 65,
   "outputs": [
    {
     "data": {
      "text/html": "<table class=\"dataframe\">\n<caption>A data.frame: 6 × 9</caption>\n<thead>\n\t<tr><th></th><th scope=col>PROBEID</th><th scope=col>GENENAME</th><th scope=col>SYMBOL</th><th scope=col>logFC</th><th scope=col>AveExpr</th><th scope=col>t</th><th scope=col>P.Value</th><th scope=col>adj.P.Val</th><th scope=col>B</th></tr>\n\t<tr><th></th><th scope=col>&lt;chr&gt;</th><th scope=col>&lt;chr&gt;</th><th scope=col>&lt;chr&gt;</th><th scope=col>&lt;dbl&gt;</th><th scope=col>&lt;dbl&gt;</th><th scope=col>&lt;dbl&gt;</th><th scope=col>&lt;dbl&gt;</th><th scope=col>&lt;dbl&gt;</th><th scope=col>&lt;dbl&gt;</th></tr>\n</thead>\n<tbody>\n\t<tr><th scope=row>1</th><td>1007_s_at</td><td>discoidin domain receptor tyrosine kinase 1 </td><td>DDR1  </td><td>-0.23858465</td><td>1.0967772</td><td>-2.08257585</td><td>0.04210211</td><td>0.2531265</td><td>-4.284228</td></tr>\n\t<tr><th scope=row>2</th><td>1053_at  </td><td>replication factor C subunit 2              </td><td>RFC2  </td><td> 0.05830367</td><td>0.9657758</td><td> 1.42311356</td><td>0.16052793</td><td>0.4674726</td><td>-5.359907</td></tr>\n\t<tr><th scope=row>3</th><td>117_at   </td><td>heat shock protein family A (Hsp70) member 6</td><td>HSPA6 </td><td>-0.01138494</td><td>1.1501582</td><td>-0.08100885</td><td>0.93573821</td><td>0.9861536</td><td>-6.337785</td></tr>\n\t<tr><th scope=row>4</th><td>121_at   </td><td>paired box 8                                </td><td>PAX8  </td><td> 0.02301084</td><td>1.0581847</td><td> 0.87166663</td><td>0.38729816</td><td>0.7236528</td><td>-5.968512</td></tr>\n\t<tr><th scope=row>5</th><td>1255_g_at</td><td>guanylate cyclase activator 1A              </td><td>GUCA1A</td><td> 0.36999950</td><td>1.4080351</td><td> 1.78615022</td><td>0.07976123</td><td>0.3351480</td><td>-4.812134</td></tr>\n\t<tr><th scope=row>6</th><td>1294_at  </td><td>ubiquitin like modifier activating enzyme 7 </td><td>UBA7  </td><td>-0.11221434</td><td>1.0859983</td><td>-1.61593670</td><td>0.11200995</td><td>0.3925252</td><td>-5.082923</td></tr>\n</tbody>\n</table>\n",
      "text/markdown": "\nA data.frame: 6 × 9\n\n| <!--/--> | PROBEID &lt;chr&gt; | GENENAME &lt;chr&gt; | SYMBOL &lt;chr&gt; | logFC &lt;dbl&gt; | AveExpr &lt;dbl&gt; | t &lt;dbl&gt; | P.Value &lt;dbl&gt; | adj.P.Val &lt;dbl&gt; | B &lt;dbl&gt; |\n|---|---|---|---|---|---|---|---|---|---|\n| 1 | 1007_s_at | discoidin domain receptor tyrosine kinase 1  | DDR1   | -0.23858465 | 1.0967772 | -2.08257585 | 0.04210211 | 0.2531265 | -4.284228 |\n| 2 | 1053_at   | replication factor C subunit 2               | RFC2   |  0.05830367 | 0.9657758 |  1.42311356 | 0.16052793 | 0.4674726 | -5.359907 |\n| 3 | 117_at    | heat shock protein family A (Hsp70) member 6 | HSPA6  | -0.01138494 | 1.1501582 | -0.08100885 | 0.93573821 | 0.9861536 | -6.337785 |\n| 4 | 121_at    | paired box 8                                 | PAX8   |  0.02301084 | 1.0581847 |  0.87166663 | 0.38729816 | 0.7236528 | -5.968512 |\n| 5 | 1255_g_at | guanylate cyclase activator 1A               | GUCA1A |  0.36999950 | 1.4080351 |  1.78615022 | 0.07976123 | 0.3351480 | -4.812134 |\n| 6 | 1294_at   | ubiquitin like modifier activating enzyme 7  | UBA7   | -0.11221434 | 1.0859983 | -1.61593670 | 0.11200995 | 0.3925252 | -5.082923 |\n\n",
      "text/latex": "A data.frame: 6 × 9\n\\begin{tabular}{r|lllllllll}\n  & PROBEID & GENENAME & SYMBOL & logFC & AveExpr & t & P.Value & adj.P.Val & B\\\\\n  & <chr> & <chr> & <chr> & <dbl> & <dbl> & <dbl> & <dbl> & <dbl> & <dbl>\\\\\n\\hline\n\t1 & 1007\\_s\\_at & discoidin domain receptor tyrosine kinase 1  & DDR1   & -0.23858465 & 1.0967772 & -2.08257585 & 0.04210211 & 0.2531265 & -4.284228\\\\\n\t2 & 1053\\_at   & replication factor C subunit 2               & RFC2   &  0.05830367 & 0.9657758 &  1.42311356 & 0.16052793 & 0.4674726 & -5.359907\\\\\n\t3 & 117\\_at    & heat shock protein family A (Hsp70) member 6 & HSPA6  & -0.01138494 & 1.1501582 & -0.08100885 & 0.93573821 & 0.9861536 & -6.337785\\\\\n\t4 & 121\\_at    & paired box 8                                 & PAX8   &  0.02301084 & 1.0581847 &  0.87166663 & 0.38729816 & 0.7236528 & -5.968512\\\\\n\t5 & 1255\\_g\\_at & guanylate cyclase activator 1A               & GUCA1A &  0.36999950 & 1.4080351 &  1.78615022 & 0.07976123 & 0.3351480 & -4.812134\\\\\n\t6 & 1294\\_at   & ubiquitin like modifier activating enzyme 7  & UBA7   & -0.11221434 & 1.0859983 & -1.61593670 & 0.11200995 & 0.3925252 & -5.082923\\\\\n\\end{tabular}\n",
      "text/plain": "  PROBEID   GENENAME                                     SYMBOL logFC      \n1 1007_s_at discoidin domain receptor tyrosine kinase 1  DDR1   -0.23858465\n2 1053_at   replication factor C subunit 2               RFC2    0.05830367\n3 117_at    heat shock protein family A (Hsp70) member 6 HSPA6  -0.01138494\n4 121_at    paired box 8                                 PAX8    0.02301084\n5 1255_g_at guanylate cyclase activator 1A               GUCA1A  0.36999950\n6 1294_at   ubiquitin like modifier activating enzyme 7  UBA7   -0.11221434\n  AveExpr   t           P.Value    adj.P.Val B        \n1 1.0967772 -2.08257585 0.04210211 0.2531265 -4.284228\n2 0.9657758  1.42311356 0.16052793 0.4674726 -5.359907\n3 1.1501582 -0.08100885 0.93573821 0.9861536 -6.337785\n4 1.0581847  0.87166663 0.38729816 0.7236528 -5.968512\n5 1.4080351  1.78615022 0.07976123 0.3351480 -4.812134\n6 1.0859983 -1.61593670 0.11200995 0.3925252 -5.082923"
     },
     "metadata": {},
     "output_type": "display_data"
    }
   ],
   "source": [
    "head(data)"
   ],
   "metadata": {
    "collapsed": false,
    "pycharm": {
     "name": "#%%\n"
    }
   }
  },
  {
   "cell_type": "markdown",
   "source": [
    "### Enrichment analysis using ORA\n",
    "Over-representation (or enrichment) analysis is a statistical method that determines whether genes from pre-defined sets (ex: those belonging to a specific GO term or KEGG pathway) are present more than would be expected (over-represented) in a subset of your data. The p-value can be calculated by hyper-geometric distribution.\n",
    "\n",
    "where N is the total number of genes in the background distribution, M is the number of genes within that distribution that are annotated (either directly or indirectly) to the gene set of interest, n is the size of the list of genes of interest and k is the number of genes within that list which are annotated to the gene set. The background distribution by default is all the genes that have annotation."
   ],
   "metadata": {
    "collapsed": false,
    "pycharm": {
     "name": "#%% md\n"
    }
   }
  },
  {
   "cell_type": "markdown",
   "source": [
    "### Over Representation Analysis Using GO and KEGG\n",
    "Getting the DE genes from  `limma` result"
   ],
   "metadata": {
    "collapsed": false,
    "pycharm": {
     "name": "#%% md\n"
    }
   }
  },
  {
   "cell_type": "code",
   "execution_count": 66,
   "outputs": [
    {
     "data": {
      "text/html": "546",
      "text/markdown": "546",
      "text/latex": "546",
      "text/plain": "[1] 546"
     },
     "metadata": {},
     "output_type": "display_data"
    }
   ],
   "source": [
    "# Getting a list of DE genes\n",
    "DEGenes <- data[!is.na(data$adj.P.Val) & data$adj.P.Val <= 0.05,]\n",
    "# Select gene symbol\n",
    "DEGenes <- DEGenes$SYMBOL\n",
    "# Remove gene with NA symbol\n",
    "DEGenes <- na.omit(DEGenes)\n",
    "# Remove duplicated genes\n",
    "DEGenes <- unique(DEGenes)\n",
    "length(DEGenes)"
   ],
   "metadata": {
    "collapsed": false,
    "pycharm": {
     "name": "#%%\n"
    }
   }
  },
  {
   "cell_type": "code",
   "execution_count": 67,
   "outputs": [
    {
     "data": {
      "text/html": "22242",
      "text/markdown": "22242",
      "text/latex": "22242",
      "text/plain": "[1] 22242"
     },
     "metadata": {},
     "output_type": "display_data"
    }
   ],
   "source": [
    "#Defining background set\n",
    "backgroundSet <- data$SYMBOL\n",
    "backgroundSet <- na.omit(backgroundSet)\n",
    "backgroundSet <- unique(backgroundSet)\n",
    "length(backgroundSet)"
   ],
   "metadata": {
    "collapsed": false,
    "pycharm": {
     "name": "#%%\n"
    }
   }
  },
  {
   "cell_type": "code",
   "execution_count": 128,
   "outputs": [],
   "source": [
    "suppressMessages({\n",
    "  library(tidyverse)\n",
    "})"
   ],
   "metadata": {
    "collapsed": false,
    "pycharm": {
     "name": "#%%\n"
    }
   }
  },
  {
   "cell_type": "code",
   "execution_count": 129,
   "outputs": [],
   "source": [
    "gmt2geneset <- function(path){\n",
    "  genesets <- read_tsv(path, col_names = F) %>% apply(MARGIN = 1, function(r){\n",
    "    genes = unique(r[-(1:2)])\n",
    "    list(\n",
    "      id = r[1],\n",
    "      description = r[2],\n",
    "      genes = genes[!is.na(genes)]\n",
    "    )\n",
    "  })\n",
    "\n",
    "  gs <- lapply(genesets, function(g) g$genes %>% as.character())\n",
    "  names(gs) <- lapply(genesets, function(g) g$id)\n",
    "  gs\n",
    "}"
   ],
   "metadata": {
    "collapsed": false,
    "pycharm": {
     "name": "#%%\n"
    }
   }
  },
  {
   "cell_type": "code",
   "execution_count": 130,
   "outputs": [
    {
     "name": "stderr",
     "output_type": "stream",
     "text": [
      "Warning message:\n",
      "\"One or more parsing issues, see `problems()` for details\"\n"
     ]
    }
   ],
   "source": [
    "suppressMessages({geneset <- gmt2geneset(\"./data/GO_terms.gmt\")})"
   ],
   "metadata": {
    "collapsed": false,
    "pycharm": {
     "name": "#%%\n"
    }
   }
  },
  {
   "cell_type": "markdown",
   "source": [
    "Perform over-representation analysis"
   ],
   "metadata": {
    "collapsed": false,
    "pycharm": {
     "name": "#%% md\n"
    }
   }
  },
  {
   "cell_type": "code",
   "execution_count": 132,
   "outputs": [],
   "source": [
    "res <- sapply(geneset, function(gs){\n",
    "  # hypergeomestric test\n",
    "  wBallDraw <- intersect(gs, DEGenes) %>%  length() - 1\n",
    "  if (wBallDraw < 0) return(1)\n",
    "  wBall <- length(DEGenes)\n",
    "  bBall <- nrow(data) - length(DEGenes)\n",
    "  ballDraw <- length(intersect(gs, backgroundSet))\n",
    "  1 - phyper(wBallDraw, wBall, bBall, ballDraw)\n",
    "})"
   ],
   "metadata": {
    "collapsed": false,
    "pycharm": {
     "name": "#%%\n"
    }
   }
  },
  {
   "cell_type": "code",
   "execution_count": 136,
   "outputs": [],
   "source": [
    "res.df <- data.frame(\n",
    "  pathway = names(res),\n",
    "  pvalue = res\n",
    ")"
   ],
   "metadata": {
    "collapsed": false,
    "pycharm": {
     "name": "#%%\n"
    }
   }
  },
  {
   "cell_type": "code",
   "execution_count": 140,
   "outputs": [
    {
     "data": {
      "text/html": "<table class=\"dataframe\">\n<caption>A data.frame: 6 × 3</caption>\n<thead>\n\t<tr><th></th><th scope=col>pathway</th><th scope=col>pvalue</th><th scope=col>pvalue.adj</th></tr>\n\t<tr><th></th><th scope=col>&lt;chr&gt;</th><th scope=col>&lt;dbl&gt;</th><th scope=col>&lt;dbl&gt;</th></tr>\n</thead>\n<tbody>\n\t<tr><th scope=row>GO:0007015</th><td>GO:0007015</td><td>1.110223e-16</td><td>1.540542e-16</td></tr>\n\t<tr><th scope=row>GO:0007409</th><td>GO:0007409</td><td>1.110223e-16</td><td>1.540542e-16</td></tr>\n\t<tr><th scope=row>GO:0009150</th><td>GO:0009150</td><td>1.110223e-16</td><td>1.540542e-16</td></tr>\n\t<tr><th scope=row>GO:0009259</th><td>GO:0009259</td><td>1.110223e-16</td><td>1.540542e-16</td></tr>\n\t<tr><th scope=row>GO:0019693</th><td>GO:0019693</td><td>1.110223e-16</td><td>1.540542e-16</td></tr>\n\t<tr><th scope=row>GO:0031098</th><td>GO:0031098</td><td>1.110223e-16</td><td>1.540542e-16</td></tr>\n</tbody>\n</table>\n",
      "text/markdown": "\nA data.frame: 6 × 3\n\n| <!--/--> | pathway &lt;chr&gt; | pvalue &lt;dbl&gt; | pvalue.adj &lt;dbl&gt; |\n|---|---|---|---|\n| GO:0007015 | GO:0007015 | 1.110223e-16 | 1.540542e-16 |\n| GO:0007409 | GO:0007409 | 1.110223e-16 | 1.540542e-16 |\n| GO:0009150 | GO:0009150 | 1.110223e-16 | 1.540542e-16 |\n| GO:0009259 | GO:0009259 | 1.110223e-16 | 1.540542e-16 |\n| GO:0019693 | GO:0019693 | 1.110223e-16 | 1.540542e-16 |\n| GO:0031098 | GO:0031098 | 1.110223e-16 | 1.540542e-16 |\n\n",
      "text/latex": "A data.frame: 6 × 3\n\\begin{tabular}{r|lll}\n  & pathway & pvalue & pvalue.adj\\\\\n  & <chr> & <dbl> & <dbl>\\\\\n\\hline\n\tGO:0007015 & GO:0007015 & 1.110223e-16 & 1.540542e-16\\\\\n\tGO:0007409 & GO:0007409 & 1.110223e-16 & 1.540542e-16\\\\\n\tGO:0009150 & GO:0009150 & 1.110223e-16 & 1.540542e-16\\\\\n\tGO:0009259 & GO:0009259 & 1.110223e-16 & 1.540542e-16\\\\\n\tGO:0019693 & GO:0019693 & 1.110223e-16 & 1.540542e-16\\\\\n\tGO:0031098 & GO:0031098 & 1.110223e-16 & 1.540542e-16\\\\\n\\end{tabular}\n",
      "text/plain": "           pathway    pvalue       pvalue.adj  \nGO:0007015 GO:0007015 1.110223e-16 1.540542e-16\nGO:0007409 GO:0007409 1.110223e-16 1.540542e-16\nGO:0009150 GO:0009150 1.110223e-16 1.540542e-16\nGO:0009259 GO:0009259 1.110223e-16 1.540542e-16\nGO:0019693 GO:0019693 1.110223e-16 1.540542e-16\nGO:0031098 GO:0031098 1.110223e-16 1.540542e-16"
     },
     "metadata": {},
     "output_type": "display_data"
    }
   ],
   "source": [
    "res.df$pvalue.adj <- p.adjust(res.df$pvalue, method = \"fdr\")\n",
    "res.df <- res.df[order(!res.df$pvalue.adj),]\n",
    "head(res.df)"
   ],
   "metadata": {
    "collapsed": false,
    "pycharm": {
     "name": "#%%\n"
    }
   }
  },
  {
   "cell_type": "code",
   "execution_count": 158,
   "outputs": [
    {
     "name": "stderr",
     "output_type": "stream",
     "text": [
      "Warning message:\n",
      "\"One or more parsing issues, see `problems()` for details\"\n"
     ]
    }
   ],
   "source": [
    "suppressMessages({geneset <- gmt2geneset(\"./data/KEGG_pathways.gmt\")})"
   ],
   "metadata": {
    "collapsed": false,
    "pycharm": {
     "name": "#%%\n"
    }
   }
  },
  {
   "cell_type": "code",
   "execution_count": 159,
   "outputs": [
    {
     "data": {
      "text/html": "<table class=\"dataframe\">\n<caption>A data.frame: 6 × 3</caption>\n<thead>\n\t<tr><th></th><th scope=col>pathway</th><th scope=col>pvalue</th><th scope=col>pvalue.adj</th></tr>\n\t<tr><th></th><th scope=col>&lt;chr&gt;</th><th scope=col>&lt;dbl&gt;</th><th scope=col>&lt;dbl&gt;</th></tr>\n</thead>\n<tbody>\n\t<tr><th scope=row>hsa00010</th><td>hsa00010</td><td>0.003514458</td><td>0.03722398</td></tr>\n\t<tr><th scope=row>hsa00020</th><td>hsa00020</td><td>0.033191479</td><td>0.15959191</td></tr>\n\t<tr><th scope=row>hsa00030</th><td>hsa00030</td><td>0.033191479</td><td>0.15959191</td></tr>\n\t<tr><th scope=row>hsa00040</th><td>hsa00040</td><td>0.257329575</td><td>0.61864850</td></tr>\n\t<tr><th scope=row>hsa00051</th><td>hsa00051</td><td>0.003817844</td><td>0.03722398</td></tr>\n\t<tr><th scope=row>hsa00052</th><td>hsa00052</td><td>0.257329575</td><td>0.61864850</td></tr>\n</tbody>\n</table>\n",
      "text/markdown": "\nA data.frame: 6 × 3\n\n| <!--/--> | pathway &lt;chr&gt; | pvalue &lt;dbl&gt; | pvalue.adj &lt;dbl&gt; |\n|---|---|---|---|\n| hsa00010 | hsa00010 | 0.003514458 | 0.03722398 |\n| hsa00020 | hsa00020 | 0.033191479 | 0.15959191 |\n| hsa00030 | hsa00030 | 0.033191479 | 0.15959191 |\n| hsa00040 | hsa00040 | 0.257329575 | 0.61864850 |\n| hsa00051 | hsa00051 | 0.003817844 | 0.03722398 |\n| hsa00052 | hsa00052 | 0.257329575 | 0.61864850 |\n\n",
      "text/latex": "A data.frame: 6 × 3\n\\begin{tabular}{r|lll}\n  & pathway & pvalue & pvalue.adj\\\\\n  & <chr> & <dbl> & <dbl>\\\\\n\\hline\n\thsa00010 & hsa00010 & 0.003514458 & 0.03722398\\\\\n\thsa00020 & hsa00020 & 0.033191479 & 0.15959191\\\\\n\thsa00030 & hsa00030 & 0.033191479 & 0.15959191\\\\\n\thsa00040 & hsa00040 & 0.257329575 & 0.61864850\\\\\n\thsa00051 & hsa00051 & 0.003817844 & 0.03722398\\\\\n\thsa00052 & hsa00052 & 0.257329575 & 0.61864850\\\\\n\\end{tabular}\n",
      "text/plain": "         pathway  pvalue      pvalue.adj\nhsa00010 hsa00010 0.003514458 0.03722398\nhsa00020 hsa00020 0.033191479 0.15959191\nhsa00030 hsa00030 0.033191479 0.15959191\nhsa00040 hsa00040 0.257329575 0.61864850\nhsa00051 hsa00051 0.003817844 0.03722398\nhsa00052 hsa00052 0.257329575 0.61864850"
     },
     "metadata": {},
     "output_type": "display_data"
    }
   ],
   "source": [
    "res <- sapply(geneset, function(gs){\n",
    "  # hypergeomestric test\n",
    "  wBallDraw <- intersect(gs, DEGenes) %>%  length() - 1\n",
    "  if (wBallDraw < 0) return(1)\n",
    "  wBall <- length(DEGenes)\n",
    "  bBall <- nrow(data) - length(DEGenes)\n",
    "  ballDraw <- length(intersect(gs, backgroundSet))\n",
    "  1 - phyper(wBallDraw, wBall, bBall, ballDraw)\n",
    "})\n",
    "\n",
    "res.df <- data.frame(\n",
    "  pathway = names(res),\n",
    "  pvalue = res\n",
    ")\n",
    "\n",
    "res.df$pvalue.adj <- p.adjust(res.df$pvalue, method = \"fdr\")\n",
    "res.df <- res.df[order(!res.df$pvalue.adj),]\n",
    "head(res.df)"
   ],
   "metadata": {
    "collapsed": false,
    "pycharm": {
     "name": "#%%\n"
    }
   }
  },
  {
   "cell_type": "markdown",
   "source": [],
   "metadata": {
    "collapsed": false,
    "pycharm": {
     "name": "#%% md\n"
    }
   }
  },
  {
   "cell_type": "markdown",
   "source": [
    "## Enrichment Analysis using FGSEA\n"
   ],
   "metadata": {
    "collapsed": false,
    "pycharm": {
     "name": "#%% md\n"
    }
   }
  },
  {
   "cell_type": "markdown",
   "source": [
    "This submodule describes FGSEA, one of the tools for evaluating pathway enrichment in transcriptional data and it stands for Fast preranked Gene Set Enrichment Analysis (GSEA). It can quickly and accurately calculate arbitrarily low GSEA P-values for a collection of gene sets based on an adaptive multi-level split Monte-Carlo scheme.\n",
    "\n",
    " Typical experimental design consists in comparing two conditions with several replicates using a differential gene expression test followed by preranked GSEA performed against a collection of hundreds and thousands of pathways. However, the reference implementation of this method cannot accurately estimate small P-values, which significantly limits its sensitivity due to multiple hypotheses correction procedure. FGSEA, on the other hand, is able to estimate arbitrarily low GSEA P-values with a high accuracy in a matter of minutes or even seconds.\n"
   ],
   "metadata": {
    "collapsed": false,
    "pycharm": {
     "name": "#%% md\n"
    }
   }
  },
  {
   "cell_type": "code",
   "execution_count": null,
   "outputs": [],
   "source": [
    "# Install the fgsea package\n",
    "suppressMessages({if (!require(\"BiocManager\", quietly = TRUE))\n",
    "        install.packages(\"BiocManager\")\n",
    "  suppressWarnings(BiocManager::install(\"fgsea\", update = F))\n",
    "})"
   ],
   "metadata": {
    "collapsed": false,
    "pycharm": {
     "name": "#%%\n"
    }
   }
  },
  {
   "cell_type": "code",
   "execution_count": null,
   "outputs": [],
   "source": [
    "# Loading the package\n",
    "suppressPackageStartupMessages({\n",
    "  library(\"fgsea\")\n",
    "})"
   ],
   "metadata": {
    "collapsed": false,
    "pycharm": {
     "name": "#%%\n"
    }
   }
  },
  {
   "cell_type": "code",
   "execution_count": null,
   "outputs": [],
   "source": [
    "# Get the gene list and their statistic from DE results\n",
    "#genes <- data.frame(SYMBOL = data$SYMBOL, stat= data$adj.P.Val)\n",
    "\n",
    "stats = data$adj.P.Val\n",
    "names(stats) = data$SYMBOL\n",
    "head(stats)"
   ],
   "metadata": {
    "collapsed": false,
    "pycharm": {
     "name": "#%%\n"
    }
   }
  },
  {
   "cell_type": "markdown",
   "source": [
    "### FGSEA Using GO"
   ],
   "metadata": {
    "collapsed": false,
    "pycharm": {
     "name": "#%% md\n"
    }
   }
  },
  {
   "cell_type": "markdown",
   "source": [
    "The package `fgsea` has its own function named `gmtPathways` to load the genesets from the `gmt` file. It is recommended to use this function for compatibility."
   ],
   "metadata": {
    "collapsed": false,
    "pycharm": {
     "name": "#%% md\n"
    }
   }
  },
  {
   "cell_type": "code",
   "execution_count": 37,
   "outputs": [
    {
     "data": {
      "text/html": "<dl>\n\t<dt>$`GO:0000003`</dt>\n\t\t<dd><style>\n.list-inline {list-style: none; margin:0; padding: 0}\n.list-inline>li {display: inline-block}\n.list-inline>li:not(:last-child)::after {content: \"\\00b7\"; padding: 0 .5ex}\n</style>\n<ol class=list-inline><li>'ADAM28'</li><li>'ALDOA'</li><li>'ALKBH1'</li><li>'ARID5B'</li><li>'ATP2B2'</li><li>'B4GALT1'</li></ol>\n</dd>\n\t<dt>$`GO:0000122`</dt>\n\t\t<dd><style>\n.list-inline {list-style: none; margin:0; padding: 0}\n.list-inline>li {display: inline-block}\n.list-inline>li:not(:last-child)::after {content: \"\\00b7\"; padding: 0 .5ex}\n</style>\n<ol class=list-inline><li>'ARID5B'</li><li>'ATF7IP'</li><li>'BARX2'</li><li>'BHLHE41'</li><li>'CCNE1'</li><li>'CTBP1'</li></ol>\n</dd>\n\t<dt>$`GO:0000165`</dt>\n\t\t<dd><style>\n.list-inline {list-style: none; margin:0; padding: 0}\n.list-inline>li {display: inline-block}\n.list-inline>li:not(:last-child)::after {content: \"\\00b7\"; padding: 0 .5ex}\n</style>\n<ol class=list-inline><li>'ADRB3'</li><li>'ANGPT1'</li><li>'BRF1'</li><li>'CAMKK2'</li><li>'CCL22'</li><li>'CLEC7A'</li></ol>\n</dd>\n\t<dt>$`GO:0000226`</dt>\n\t\t<dd><style>\n.list-inline {list-style: none; margin:0; padding: 0}\n.list-inline>li {display: inline-block}\n.list-inline>li:not(:last-child)::after {content: \"\\00b7\"; padding: 0 .5ex}\n</style>\n<ol class=list-inline><li>'ANKFN1'</li><li>'ARHGEF7'</li><li>'ATF5'</li><li>'BMERB1'</li><li>'CCDC40'</li><li>'CCNB1'</li></ol>\n</dd>\n\t<dt>$`GO:0000278`</dt>\n\t\t<dd><style>\n.list-inline {list-style: none; margin:0; padding: 0}\n.list-inline>li {display: inline-block}\n.list-inline>li:not(:last-child)::after {content: \"\\00b7\"; padding: 0 .5ex}\n</style>\n<ol class=list-inline><li>'ANKFN1'</li><li>'ATAD5'</li><li>'BABAM2'</li><li>'BRF1'</li><li>'CCNB1'</li><li>'CCNE1'</li></ol>\n</dd>\n</dl>\n",
      "text/markdown": "$`GO:0000003`\n:   1. 'ADAM28'\n2. 'ALDOA'\n3. 'ALKBH1'\n4. 'ARID5B'\n5. 'ATP2B2'\n6. 'B4GALT1'\n\n\n\n$`GO:0000122`\n:   1. 'ARID5B'\n2. 'ATF7IP'\n3. 'BARX2'\n4. 'BHLHE41'\n5. 'CCNE1'\n6. 'CTBP1'\n\n\n\n$`GO:0000165`\n:   1. 'ADRB3'\n2. 'ANGPT1'\n3. 'BRF1'\n4. 'CAMKK2'\n5. 'CCL22'\n6. 'CLEC7A'\n\n\n\n$`GO:0000226`\n:   1. 'ANKFN1'\n2. 'ARHGEF7'\n3. 'ATF5'\n4. 'BMERB1'\n5. 'CCDC40'\n6. 'CCNB1'\n\n\n\n$`GO:0000278`\n:   1. 'ANKFN1'\n2. 'ATAD5'\n3. 'BABAM2'\n4. 'BRF1'\n5. 'CCNB1'\n6. 'CCNE1'\n\n\n\n\n\n",
      "text/latex": "\\begin{description}\n\\item[\\$`GO:0000003`] \\begin{enumerate*}\n\\item 'ADAM28'\n\\item 'ALDOA'\n\\item 'ALKBH1'\n\\item 'ARID5B'\n\\item 'ATP2B2'\n\\item 'B4GALT1'\n\\end{enumerate*}\n\n\\item[\\$`GO:0000122`] \\begin{enumerate*}\n\\item 'ARID5B'\n\\item 'ATF7IP'\n\\item 'BARX2'\n\\item 'BHLHE41'\n\\item 'CCNE1'\n\\item 'CTBP1'\n\\end{enumerate*}\n\n\\item[\\$`GO:0000165`] \\begin{enumerate*}\n\\item 'ADRB3'\n\\item 'ANGPT1'\n\\item 'BRF1'\n\\item 'CAMKK2'\n\\item 'CCL22'\n\\item 'CLEC7A'\n\\end{enumerate*}\n\n\\item[\\$`GO:0000226`] \\begin{enumerate*}\n\\item 'ANKFN1'\n\\item 'ARHGEF7'\n\\item 'ATF5'\n\\item 'BMERB1'\n\\item 'CCDC40'\n\\item 'CCNB1'\n\\end{enumerate*}\n\n\\item[\\$`GO:0000278`] \\begin{enumerate*}\n\\item 'ANKFN1'\n\\item 'ATAD5'\n\\item 'BABAM2'\n\\item 'BRF1'\n\\item 'CCNB1'\n\\item 'CCNE1'\n\\end{enumerate*}\n\n\\end{description}\n",
      "text/plain": "$`GO:0000003`\n[1] \"ADAM28\"  \"ALDOA\"   \"ALKBH1\"  \"ARID5B\"  \"ATP2B2\"  \"B4GALT1\"\n\n$`GO:0000122`\n[1] \"ARID5B\"  \"ATF7IP\"  \"BARX2\"   \"BHLHE41\" \"CCNE1\"   \"CTBP1\"  \n\n$`GO:0000165`\n[1] \"ADRB3\"  \"ANGPT1\" \"BRF1\"   \"CAMKK2\" \"CCL22\"  \"CLEC7A\"\n\n$`GO:0000226`\n[1] \"ANKFN1\"  \"ARHGEF7\" \"ATF5\"    \"BMERB1\"  \"CCDC40\"  \"CCNB1\"  \n\n$`GO:0000278`\n[1] \"ANKFN1\" \"ATAD5\"  \"BABAM2\" \"BRF1\"   \"CCNB1\"  \"CCNE1\" \n"
     },
     "metadata": {},
     "output_type": "display_data"
    }
   ],
   "source": [
    "# Load the pathways into a named list\n",
    "GO_term_hallmark <- gmtPathways(\"./data/GO_terms.gmt\")\n",
    "\n",
    "# Show the first few GO terms, and within those, show only the first few genes.\n",
    "tmp = lapply(GO_term_hallmark,head)\n",
    "tmp[1:5]"
   ],
   "metadata": {
    "collapsed": false,
    "pycharm": {
     "name": "#%%\n"
    }
   }
  },
  {
   "cell_type": "code",
   "execution_count": 39,
   "outputs": [
    {
     "name": "stderr",
     "output_type": "stream",
     "text": [
      "Warning message in preparePathwaysAndStats(pathways, stats, minSize, maxSize, gseaParam, :\n",
      "\"There are ties in the preranked stats (62.67% of the list).\n",
      "The order of those tied genes will be arbitrary, which may produce unexpected results.\"\n",
      "Warning message in preparePathwaysAndStats(pathways, stats, minSize, maxSize, gseaParam, :\n",
      "\"There are duplicate gene names, fgsea may produce unexpected results.\"\n",
      "Warning message in preparePathwaysAndStats(pathways, stats, minSize, maxSize, gseaParam, :\n",
      "\"All values in the stats vector are greater than zero and scoreType is \"std\", maybe you should switch to scoreType = \"pos\".\"\n",
      "Warning message in fgseaMultilevel(...):\n",
      "\"There were 2 pathways for which P-values were not calculated properly due to unbalanced (positive and negative) gene-level statistic values. For such pathways pval, padj, NES, log2err are set to NA. You can try to increase the value of the argument nPermSimple (for example set it nPermSimple = 10000)\"\n"
     ]
    }
   ],
   "source": [
    "# Running fgsea\n",
    "fgseaRes <- fgsea(pathways = GO_term_hallmark,\n",
    "                  stats    = stats,\n",
    "                  minSize  = 15,\n",
    "                  maxSize  = 500)"
   ],
   "metadata": {
    "collapsed": false,
    "pycharm": {
     "name": "#%%\n"
    }
   }
  },
  {
   "cell_type": "code",
   "execution_count": 45,
   "outputs": [
    {
     "data": {
      "text/html": "<table class=\"dataframe\">\n<caption>A data.table: 6 × 7</caption>\n<thead>\n\t<tr><th scope=col>pathway</th><th scope=col>pval</th><th scope=col>padj</th><th scope=col>log2err</th><th scope=col>ES</th><th scope=col>NES</th><th scope=col>size</th></tr>\n\t<tr><th scope=col>&lt;chr&gt;</th><th scope=col>&lt;dbl&gt;</th><th scope=col>&lt;dbl&gt;</th><th scope=col>&lt;dbl&gt;</th><th scope=col>&lt;dbl&gt;</th><th scope=col>&lt;dbl&gt;</th><th scope=col>&lt;int&gt;</th></tr>\n</thead>\n<tbody>\n\t<tr><td>GO:0065007</td><td>2.546484e-11</td><td>1.589006e-08</td><td>0.8634154</td><td>0.3431229</td><td>1.538333</td><td>459</td></tr>\n\t<tr><td>GO:0050789</td><td>7.479736e-10</td><td>2.333678e-07</td><td>0.8012156</td><td>0.3388931</td><td>1.514710</td><td>432</td></tr>\n\t<tr><td>GO:0050794</td><td>1.598783e-09</td><td>3.325469e-07</td><td>0.7881868</td><td>0.3366914</td><td>1.502073</td><td>414</td></tr>\n\t<tr><td>GO:0032501</td><td>4.659098e-09</td><td>7.177948e-07</td><td>0.7614608</td><td>0.3641697</td><td>1.592389</td><td>269</td></tr>\n\t<tr><td>GO:0050896</td><td>5.751561e-09</td><td>7.177948e-07</td><td>0.7614608</td><td>0.3535281</td><td>1.556321</td><td>313</td></tr>\n\t<tr><td>GO:0032502</td><td>1.143077e-08</td><td>1.188800e-06</td><td>0.7477397</td><td>0.3665868</td><td>1.599132</td><td>253</td></tr>\n</tbody>\n</table>\n",
      "text/markdown": "\nA data.table: 6 × 7\n\n| pathway &lt;chr&gt; | pval &lt;dbl&gt; | padj &lt;dbl&gt; | log2err &lt;dbl&gt; | ES &lt;dbl&gt; | NES &lt;dbl&gt; | size &lt;int&gt; |\n|---|---|---|---|---|---|---|\n| GO:0065007 | 2.546484e-11 | 1.589006e-08 | 0.8634154 | 0.3431229 | 1.538333 | 459 |\n| GO:0050789 | 7.479736e-10 | 2.333678e-07 | 0.8012156 | 0.3388931 | 1.514710 | 432 |\n| GO:0050794 | 1.598783e-09 | 3.325469e-07 | 0.7881868 | 0.3366914 | 1.502073 | 414 |\n| GO:0032501 | 4.659098e-09 | 7.177948e-07 | 0.7614608 | 0.3641697 | 1.592389 | 269 |\n| GO:0050896 | 5.751561e-09 | 7.177948e-07 | 0.7614608 | 0.3535281 | 1.556321 | 313 |\n| GO:0032502 | 1.143077e-08 | 1.188800e-06 | 0.7477397 | 0.3665868 | 1.599132 | 253 |\n\n",
      "text/latex": "A data.table: 6 × 7\n\\begin{tabular}{lllllll}\n pathway & pval & padj & log2err & ES & NES & size\\\\\n <chr> & <dbl> & <dbl> & <dbl> & <dbl> & <dbl> & <int>\\\\\n\\hline\n\t GO:0065007 & 2.546484e-11 & 1.589006e-08 & 0.8634154 & 0.3431229 & 1.538333 & 459\\\\\n\t GO:0050789 & 7.479736e-10 & 2.333678e-07 & 0.8012156 & 0.3388931 & 1.514710 & 432\\\\\n\t GO:0050794 & 1.598783e-09 & 3.325469e-07 & 0.7881868 & 0.3366914 & 1.502073 & 414\\\\\n\t GO:0032501 & 4.659098e-09 & 7.177948e-07 & 0.7614608 & 0.3641697 & 1.592389 & 269\\\\\n\t GO:0050896 & 5.751561e-09 & 7.177948e-07 & 0.7614608 & 0.3535281 & 1.556321 & 313\\\\\n\t GO:0032502 & 1.143077e-08 & 1.188800e-06 & 0.7477397 & 0.3665868 & 1.599132 & 253\\\\\n\\end{tabular}\n",
      "text/plain": "  pathway    pval         padj         log2err   ES        NES      size\n1 GO:0065007 2.546484e-11 1.589006e-08 0.8634154 0.3431229 1.538333 459 \n2 GO:0050789 7.479736e-10 2.333678e-07 0.8012156 0.3388931 1.514710 432 \n3 GO:0050794 1.598783e-09 3.325469e-07 0.7881868 0.3366914 1.502073 414 \n4 GO:0032501 4.659098e-09 7.177948e-07 0.7614608 0.3641697 1.592389 269 \n5 GO:0050896 5.751561e-09 7.177948e-07 0.7614608 0.3535281 1.556321 313 \n6 GO:0032502 1.143077e-08 1.188800e-06 0.7477397 0.3665868 1.599132 253 "
     },
     "metadata": {},
     "output_type": "display_data"
    }
   ],
   "source": [
    "head(fgseaRes[order(pval), ][,-8])"
   ],
   "metadata": {
    "collapsed": false,
    "pycharm": {
     "name": "#%%\n"
    }
   }
  },
  {
   "cell_type": "code",
   "execution_count": 49,
   "outputs": [
    {
     "data": {
      "text/plain": "plot without title",
      "image/png": "[encoded data removed]"
     },
     "metadata": {
      "image/png": {
       "width": 420,
       "height": 420
      }
     },
     "output_type": "display_data"
    }
   ],
   "source": [
    "topPathwaysUp <- fgseaRes[ES > 0][head(order(pval), n=10), pathway]\n",
    "topPathwaysDown <- fgseaRes[ES < 0][head(order(pval), n=10), pathway]\n",
    "topPathways <- c(topPathwaysUp, rev(topPathwaysDown))\n",
    "plotGseaTable(GO_term_hallmark[topPathways], stats, fgseaRes,\n",
    "              gseaParam=0.5)"
   ],
   "metadata": {
    "collapsed": false,
    "pycharm": {
     "name": "#%%\n"
    }
   }
  },
  {
   "cell_type": "markdown",
   "source": [
    "### FGSEA Using KEGG"
   ],
   "metadata": {
    "collapsed": false,
    "pycharm": {
     "name": "#%% md\n"
    }
   }
  },
  {
   "cell_type": "code",
   "execution_count": 50,
   "outputs": [
    {
     "data": {
      "text/html": "<dl>\n\t<dt>$hsa00010</dt>\n\t\t<dd><style>\n.list-inline {list-style: none; margin:0; padding: 0}\n.list-inline>li {display: inline-block}\n.list-inline>li:not(:last-child)::after {content: \"\\00b7\"; padding: 0 .5ex}\n</style>\n<ol class=list-inline><li>'HK3'</li><li>'HK1'</li><li>'HK2'</li><li>'HKDC1'</li><li>'GCK'</li><li>'GPI'</li></ol>\n</dd>\n\t<dt>$hsa00020</dt>\n\t\t<dd><style>\n.list-inline {list-style: none; margin:0; padding: 0}\n.list-inline>li {display: inline-block}\n.list-inline>li:not(:last-child)::after {content: \"\\00b7\"; padding: 0 .5ex}\n</style>\n<ol class=list-inline><li>'CS'</li><li>'ACLY'</li><li>'ACO2'</li><li>'ACO1'</li><li>'IDH1'</li><li>'IDH2'</li></ol>\n</dd>\n\t<dt>$hsa00030</dt>\n\t\t<dd><style>\n.list-inline {list-style: none; margin:0; padding: 0}\n.list-inline>li {display: inline-block}\n.list-inline>li:not(:last-child)::after {content: \"\\00b7\"; padding: 0 .5ex}\n</style>\n<ol class=list-inline><li>'GPI'</li><li>'G6PD'</li><li>'PGLS'</li><li>'H6PD'</li><li>'PGD'</li><li>'RPE'</li></ol>\n</dd>\n\t<dt>$hsa00040</dt>\n\t\t<dd><style>\n.list-inline {list-style: none; margin:0; padding: 0}\n.list-inline>li {display: inline-block}\n.list-inline>li:not(:last-child)::after {content: \"\\00b7\"; padding: 0 .5ex}\n</style>\n<ol class=list-inline><li>'GUSB'</li><li>'KL'</li><li>'UGT2A1'</li><li>'UGT2A3'</li><li>'UGT2B17'</li><li>'UGT2B11'</li></ol>\n</dd>\n\t<dt>$hsa00051</dt>\n\t\t<dd><style>\n.list-inline {list-style: none; margin:0; padding: 0}\n.list-inline>li {display: inline-block}\n.list-inline>li:not(:last-child)::after {content: \"\\00b7\"; padding: 0 .5ex}\n</style>\n<ol class=list-inline><li>'MPI'</li><li>'PMM2'</li><li>'PMM1'</li><li>'GMPPB'</li><li>'GMPPA'</li><li>'GMDS'</li></ol>\n</dd>\n</dl>\n",
      "text/markdown": "$hsa00010\n:   1. 'HK3'\n2. 'HK1'\n3. 'HK2'\n4. 'HKDC1'\n5. 'GCK'\n6. 'GPI'\n\n\n\n$hsa00020\n:   1. 'CS'\n2. 'ACLY'\n3. 'ACO2'\n4. 'ACO1'\n5. 'IDH1'\n6. 'IDH2'\n\n\n\n$hsa00030\n:   1. 'GPI'\n2. 'G6PD'\n3. 'PGLS'\n4. 'H6PD'\n5. 'PGD'\n6. 'RPE'\n\n\n\n$hsa00040\n:   1. 'GUSB'\n2. 'KL'\n3. 'UGT2A1'\n4. 'UGT2A3'\n5. 'UGT2B17'\n6. 'UGT2B11'\n\n\n\n$hsa00051\n:   1. 'MPI'\n2. 'PMM2'\n3. 'PMM1'\n4. 'GMPPB'\n5. 'GMPPA'\n6. 'GMDS'\n\n\n\n\n\n",
      "text/latex": "\\begin{description}\n\\item[\\$hsa00010] \\begin{enumerate*}\n\\item 'HK3'\n\\item 'HK1'\n\\item 'HK2'\n\\item 'HKDC1'\n\\item 'GCK'\n\\item 'GPI'\n\\end{enumerate*}\n\n\\item[\\$hsa00020] \\begin{enumerate*}\n\\item 'CS'\n\\item 'ACLY'\n\\item 'ACO2'\n\\item 'ACO1'\n\\item 'IDH1'\n\\item 'IDH2'\n\\end{enumerate*}\n\n\\item[\\$hsa00030] \\begin{enumerate*}\n\\item 'GPI'\n\\item 'G6PD'\n\\item 'PGLS'\n\\item 'H6PD'\n\\item 'PGD'\n\\item 'RPE'\n\\end{enumerate*}\n\n\\item[\\$hsa00040] \\begin{enumerate*}\n\\item 'GUSB'\n\\item 'KL'\n\\item 'UGT2A1'\n\\item 'UGT2A3'\n\\item 'UGT2B17'\n\\item 'UGT2B11'\n\\end{enumerate*}\n\n\\item[\\$hsa00051] \\begin{enumerate*}\n\\item 'MPI'\n\\item 'PMM2'\n\\item 'PMM1'\n\\item 'GMPPB'\n\\item 'GMPPA'\n\\item 'GMDS'\n\\end{enumerate*}\n\n\\end{description}\n",
      "text/plain": "$hsa00010\n[1] \"HK3\"   \"HK1\"   \"HK2\"   \"HKDC1\" \"GCK\"   \"GPI\"  \n\n$hsa00020\n[1] \"CS\"   \"ACLY\" \"ACO2\" \"ACO1\" \"IDH1\" \"IDH2\"\n\n$hsa00030\n[1] \"GPI\"  \"G6PD\" \"PGLS\" \"H6PD\" \"PGD\"  \"RPE\" \n\n$hsa00040\n[1] \"GUSB\"    \"KL\"      \"UGT2A1\"  \"UGT2A3\"  \"UGT2B17\" \"UGT2B11\"\n\n$hsa00051\n[1] \"MPI\"   \"PMM2\"  \"PMM1\"  \"GMPPB\" \"GMPPA\" \"GMDS\" \n"
     },
     "metadata": {},
     "output_type": "display_data"
    }
   ],
   "source": [
    "# Load the pathways into a named list\n",
    "KEGG_hallmark <- gmtPathways(\"./data/KEGG_pathways.gmt\")\n",
    "\n",
    "# Show the first few GO terms, and within those, show only the first few genes.\n",
    "tmp = lapply(KEGG_hallmark,head)\n",
    "tmp[1:5]"
   ],
   "metadata": {
    "collapsed": false,
    "pycharm": {
     "name": "#%%\n"
    }
   }
  },
  {
   "cell_type": "code",
   "execution_count": 51,
   "outputs": [
    {
     "name": "stderr",
     "output_type": "stream",
     "text": [
      "Warning message in preparePathwaysAndStats(pathways, stats, minSize, maxSize, gseaParam, :\n",
      "\"There are ties in the preranked stats (62.67% of the list).\n",
      "The order of those tied genes will be arbitrary, which may produce unexpected results.\"\n",
      "Warning message in preparePathwaysAndStats(pathways, stats, minSize, maxSize, gseaParam, :\n",
      "\"There are duplicate gene names, fgsea may produce unexpected results.\"\n",
      "Warning message in preparePathwaysAndStats(pathways, stats, minSize, maxSize, gseaParam, :\n",
      "\"All values in the stats vector are greater than zero and scoreType is \"std\", maybe you should switch to scoreType = \"pos\".\"\n"
     ]
    }
   ],
   "source": [
    "# Running fgsea\n",
    "fgseaRes <- fgsea(pathways = KEGG_hallmark,\n",
    "                  stats    = stats,\n",
    "                  minSize  = 15,\n",
    "                  maxSize  = 500)"
   ],
   "metadata": {
    "collapsed": false,
    "pycharm": {
     "name": "#%%\n"
    }
   }
  },
  {
   "cell_type": "code",
   "execution_count": 52,
   "outputs": [
    {
     "data": {
      "text/html": "<table class=\"dataframe\">\n<caption>A data.table: 6 × 7</caption>\n<thead>\n\t<tr><th scope=col>pathway</th><th scope=col>pval</th><th scope=col>padj</th><th scope=col>log2err</th><th scope=col>ES</th><th scope=col>NES</th><th scope=col>size</th></tr>\n\t<tr><th scope=col>&lt;chr&gt;</th><th scope=col>&lt;dbl&gt;</th><th scope=col>&lt;dbl&gt;</th><th scope=col>&lt;dbl&gt;</th><th scope=col>&lt;dbl&gt;</th><th scope=col>&lt;dbl&gt;</th><th scope=col>&lt;int&gt;</th></tr>\n</thead>\n<tbody>\n\t<tr><td>hsa05168</td><td>9.927117e-14</td><td>3.156823e-11</td><td>0.9545416</td><td>0.3559273</td><td>1.591875</td><td>468</td></tr>\n\t<tr><td>hsa04060</td><td>2.105054e-13</td><td>3.347035e-11</td><td>0.9436322</td><td>0.3884407</td><td>1.707546</td><td>291</td></tr>\n\t<tr><td>hsa04151</td><td>1.479326e-10</td><td>1.568086e-08</td><td>0.8266573</td><td>0.3566070</td><td>1.578857</td><td>353</td></tr>\n\t<tr><td>hsa04530</td><td>9.306426e-10</td><td>7.398608e-08</td><td>0.8012156</td><td>0.4137364</td><td>1.757101</td><td>164</td></tr>\n\t<tr><td>hsa04510</td><td>5.558773e-09</td><td>3.535380e-07</td><td>0.7614608</td><td>0.3850561</td><td>1.658115</td><td>199</td></tr>\n\t<tr><td>hsa05202</td><td>2.349362e-08</td><td>1.245162e-06</td><td>0.7337620</td><td>0.3821628</td><td>1.639908</td><td>188</td></tr>\n</tbody>\n</table>\n",
      "text/markdown": "\nA data.table: 6 × 7\n\n| pathway &lt;chr&gt; | pval &lt;dbl&gt; | padj &lt;dbl&gt; | log2err &lt;dbl&gt; | ES &lt;dbl&gt; | NES &lt;dbl&gt; | size &lt;int&gt; |\n|---|---|---|---|---|---|---|\n| hsa05168 | 9.927117e-14 | 3.156823e-11 | 0.9545416 | 0.3559273 | 1.591875 | 468 |\n| hsa04060 | 2.105054e-13 | 3.347035e-11 | 0.9436322 | 0.3884407 | 1.707546 | 291 |\n| hsa04151 | 1.479326e-10 | 1.568086e-08 | 0.8266573 | 0.3566070 | 1.578857 | 353 |\n| hsa04530 | 9.306426e-10 | 7.398608e-08 | 0.8012156 | 0.4137364 | 1.757101 | 164 |\n| hsa04510 | 5.558773e-09 | 3.535380e-07 | 0.7614608 | 0.3850561 | 1.658115 | 199 |\n| hsa05202 | 2.349362e-08 | 1.245162e-06 | 0.7337620 | 0.3821628 | 1.639908 | 188 |\n\n",
      "text/latex": "A data.table: 6 × 7\n\\begin{tabular}{lllllll}\n pathway & pval & padj & log2err & ES & NES & size\\\\\n <chr> & <dbl> & <dbl> & <dbl> & <dbl> & <dbl> & <int>\\\\\n\\hline\n\t hsa05168 & 9.927117e-14 & 3.156823e-11 & 0.9545416 & 0.3559273 & 1.591875 & 468\\\\\n\t hsa04060 & 2.105054e-13 & 3.347035e-11 & 0.9436322 & 0.3884407 & 1.707546 & 291\\\\\n\t hsa04151 & 1.479326e-10 & 1.568086e-08 & 0.8266573 & 0.3566070 & 1.578857 & 353\\\\\n\t hsa04530 & 9.306426e-10 & 7.398608e-08 & 0.8012156 & 0.4137364 & 1.757101 & 164\\\\\n\t hsa04510 & 5.558773e-09 & 3.535380e-07 & 0.7614608 & 0.3850561 & 1.658115 & 199\\\\\n\t hsa05202 & 2.349362e-08 & 1.245162e-06 & 0.7337620 & 0.3821628 & 1.639908 & 188\\\\\n\\end{tabular}\n",
      "text/plain": "  pathway  pval         padj         log2err   ES        NES      size\n1 hsa05168 9.927117e-14 3.156823e-11 0.9545416 0.3559273 1.591875 468 \n2 hsa04060 2.105054e-13 3.347035e-11 0.9436322 0.3884407 1.707546 291 \n3 hsa04151 1.479326e-10 1.568086e-08 0.8266573 0.3566070 1.578857 353 \n4 hsa04530 9.306426e-10 7.398608e-08 0.8012156 0.4137364 1.757101 164 \n5 hsa04510 5.558773e-09 3.535380e-07 0.7614608 0.3850561 1.658115 199 \n6 hsa05202 2.349362e-08 1.245162e-06 0.7337620 0.3821628 1.639908 188 "
     },
     "metadata": {},
     "output_type": "display_data"
    }
   ],
   "source": [
    "head(fgseaRes[order(pval), ][,-8])"
   ],
   "metadata": {
    "collapsed": false,
    "pycharm": {
     "name": "#%%\n"
    }
   }
  },
  {
   "cell_type": "code",
   "execution_count": 54,
   "outputs": [
    {
     "data": {
      "text/plain": "plot without title",
      "image/png": "[encoded data removed]"
     },
     "metadata": {
      "image/png": {
       "width": 420,
       "height": 420
      }
     },
     "output_type": "display_data"
    }
   ],
   "source": [
    "topPathwaysUp <- fgseaRes[ES > 0][head(order(pval), n=10), pathway]\n",
    "topPathwaysDown <- fgseaRes[ES < 0][head(order(pval), n=10), pathway]\n",
    "topPathways <- c(topPathwaysUp, rev(topPathwaysDown))\n",
    "plotGseaTable(KEGG_hallmark[topPathways], stats, fgseaRes,\n",
    "              gseaParam=0.5)"
   ],
   "metadata": {
    "collapsed": false,
    "pycharm": {
     "name": "#%%\n"
    }
   }
  },
  {
   "cell_type": "markdown",
   "source": [
    "## Pathway analysis using GSA package\n",
    "### Data preparation"
   ],
   "metadata": {
    "collapsed": false,
    "pycharm": {
     "name": "#%% md\n"
    }
   }
  },
  {
   "cell_type": "code",
   "execution_count": 70,
   "outputs": [],
   "source": [
    "# Install GSA from CRAN\n",
    "suppressMessages({if (!require(\"GSA\"))\n",
    "        suppressWarnings(install.packages(\"GSA\"))\n",
    "})"
   ],
   "metadata": {
    "collapsed": false,
    "pycharm": {
     "name": "#%%\n"
    }
   }
  },
  {
   "cell_type": "code",
   "execution_count": 102,
   "outputs": [],
   "source": [
    "# Loading expression data with groups\n",
    "data <- readRDS(\"./data/GSE48350.rds\")\n",
    "expression_data <- data$expression_data\n",
    "norm_expression_data <- data$norm_expression_data\n",
    "groups <- data$groups"
   ],
   "metadata": {
    "collapsed": false,
    "pycharm": {
     "name": "#%%\n"
    }
   }
  },
  {
   "cell_type": "code",
   "execution_count": 103,
   "outputs": [],
   "source": [
    "expression_data$PROBEID <- rownames(expression_data)"
   ],
   "metadata": {
    "collapsed": false,
    "pycharm": {
     "name": "#%%\n"
    }
   }
  },
  {
   "cell_type": "code",
   "execution_count": 104,
   "outputs": [],
   "source": [
    "probeIDs <- rownames(expression_data)"
   ],
   "metadata": {
    "collapsed": false,
    "pycharm": {
     "name": "#%%\n"
    }
   }
  },
  {
   "cell_type": "code",
   "execution_count": 105,
   "outputs": [],
   "source": [
    "suppressMessages({\n",
    "  annotLookup <- AnnotationDbi::select(hgu133plus2.db, keys = probeIDs, columns = c('PROBEID', 'GENENAME', 'SYMBOL'))\n",
    "})"
   ],
   "metadata": {
    "collapsed": false,
    "pycharm": {
     "name": "#%%\n"
    }
   }
  },
  {
   "cell_type": "code",
   "execution_count": 108,
   "outputs": [],
   "source": [
    "# Merge DE result  data frame with annotation table\n",
    "new_expression_data = merge(annotLookup, expression_data, by=\"PROBEID\")"
   ],
   "metadata": {
    "collapsed": false,
    "pycharm": {
     "name": "#%%\n"
    }
   }
  },
  {
   "cell_type": "code",
   "execution_count": 109,
   "outputs": [],
   "source": [
    "# Remove NA value\n",
    "new_expression_data <- new_expression_data[!is.na(new_expression_data$SYMBOL),]\n",
    "# Remove duplicated genes symbol\n",
    "new_expression_data <-  new_expression_data[!duplicated(new_expression_data$SYMBOL,fromLast=FALSE),]\n",
    "rownames(new_expression_data) <- new_expression_data$SYMBOL"
   ],
   "metadata": {
    "collapsed": false,
    "pycharm": {
     "name": "#%%\n"
    }
   }
  },
  {
   "cell_type": "code",
   "execution_count": 112,
   "outputs": [],
   "source": [
    "# Drop PROBEID, GENENAME, and SYMBOL columns\n",
    "new_expression_data <- new_expression_data[,-c(1:3)]"
   ],
   "metadata": {
    "collapsed": false,
    "pycharm": {
     "name": "#%%\n"
    }
   }
  },
  {
   "cell_type": "code",
   "execution_count": 115,
   "outputs": [],
   "source": [
    "genenames= rownames(new_expression_data)"
   ],
   "metadata": {
    "collapsed": false,
    "pycharm": {
     "name": "#%%\n"
    }
   }
  },
  {
   "cell_type": "markdown",
   "source": [
    "### Enrichment analysis using GSA and GO terms"
   ],
   "metadata": {
    "collapsed": false,
    "pycharm": {
     "name": "#%% md\n"
    }
   }
  },
  {
   "cell_type": "code",
   "execution_count": 116,
   "outputs": [],
   "source": [
    "genesets = GO_term_hallmark\n",
    "GSA.obj<-GSA(as.matrix(new_expression_data),as.numeric(groups$groups), genenames=genenames, genesets=genesets, resp.type=\"Two class unpaired\", nperms=100)"
   ],
   "metadata": {
    "collapsed": false,
    "pycharm": {
     "name": "#%%\n"
    }
   }
  },
  {
   "cell_type": "code",
   "execution_count": null,
   "outputs": [],
   "source": [
    "# List the results from a GSA analysis\n",
    "res <- GSA.listsets(GSA.obj, geneset.names=names(genesets),FDRcut=.5)"
   ],
   "metadata": {
    "collapsed": false,
    "pycharm": {
     "name": "#%%\n"
    }
   }
  },
  {
   "cell_type": "markdown",
   "source": [
    "A table of the negative gene sets. “Negative” means that lower expression of most genes in the gene set correlates with higher values of the phenotype y. Eg for two classes coded 1,2, lower expression correlates with class 2. For survival data, lower expression correlates with higher risk, i.e shorter survival (Be careful, this can be confusing!"
   ],
   "metadata": {
    "collapsed": false,
    "pycharm": {
     "name": "#%% md\n"
    }
   }
  },
  {
   "cell_type": "code",
   "execution_count": null,
   "outputs": [],
   "source": [
    "neg.table <-res$negative\n",
    "neg.table"
   ],
   "metadata": {
    "collapsed": false,
    "pycharm": {
     "name": "#%%\n"
    }
   }
  },
  {
   "cell_type": "markdown",
   "source": [
    "A table of the positive gene sets. \"Positive\" means that higher expression of most genes in the gene set correlates with higher values of the phenotype y. See \"negative\" above for more info."
   ],
   "metadata": {
    "collapsed": false,
    "pycharm": {
     "name": "#%% md\n"
    }
   }
  },
  {
   "cell_type": "markdown",
   "source": [
    "A table of the positive gene sets. \"Positive\" means that higher expression of most genes in the gene set correlates with higher values of the phenotype y. See \"negative\" above for more info."
   ],
   "metadata": {
    "collapsed": false,
    "pycharm": {
     "name": "#%% md\n"
    }
   }
  },
  {
   "cell_type": "code",
   "execution_count": null,
   "outputs": [],
   "source": [
    "pos.table <-res$positive\n",
    "pos.table"
   ],
   "metadata": {
    "collapsed": false,
    "pycharm": {
     "name": "#%%\n"
    }
   }
  },
  {
   "cell_type": "code",
   "execution_count": null,
   "outputs": [],
   "source": [
    "# Individual gene scores from a gene set analysis\n",
    "# look at 10th gene set\n",
    "GSA.genescores(10, genesets, GSA.obj, genenames)"
   ],
   "metadata": {
    "collapsed": false,
    "pycharm": {
     "name": "#%%\n"
    }
   }
  },
  {
   "cell_type": "code",
   "execution_count": null,
   "outputs": [],
   "source": [
    "# Plot the result, this function makes a plot of the significant gene sets, based on a call to the GSA (Gene set analysis) function.\n",
    "GSA.plot(GSA.obj, fac=1, FDRcut = 0.5)"
   ],
   "metadata": {
    "collapsed": false,
    "pycharm": {
     "name": "#%%\n"
    }
   }
  },
  {
   "cell_type": "markdown",
   "source": [
    "### Enrichment analysis using GSA and KEGG pathways"
   ],
   "metadata": {
    "collapsed": false,
    "pycharm": {
     "name": "#%% md\n"
    }
   }
  },
  {
   "cell_type": "code",
   "execution_count": 130,
   "outputs": [
    {
     "name": "stdout",
     "output_type": "stream",
     "text": [
      "perm= 10 / 100 \n",
      "perm= 20 / 100 \n",
      "perm= 30 / 100 \n",
      "perm= 40 / 100 \n",
      "perm= 50 / 100 \n",
      "perm= 60 / 100 \n",
      "perm= 70 / 100 \n",
      "perm= 80 / 100 \n",
      "perm= 90 / 100 \n",
      "perm= 100 / 100 \n"
     ]
    }
   ],
   "source": [
    "genesets = KEGG_hallmark\n",
    "GSA.obj<-GSA(as.matrix(new_expression_data),as.numeric(groups$groups), genenames=genenames, genesets=genesets, resp.type=\"Two class unpaired\", nperms=100)"
   ],
   "metadata": {
    "collapsed": false,
    "pycharm": {
     "name": "#%%\n"
    }
   }
  },
  {
   "cell_type": "code",
   "execution_count": 132,
   "outputs": [],
   "source": [
    "# List the results from a GSA analysis\n",
    "res <- GSA.listsets(GSA.obj, geneset.names=names(genesets),FDRcut=.5)"
   ],
   "metadata": {
    "collapsed": false,
    "pycharm": {
     "name": "#%%\n"
    }
   }
  },
  {
   "cell_type": "markdown",
   "source": [
    "A table of the negative gene sets. \"Negative\" means that lower expression of most genes in the gene set correlates with higher values of the phenotype y. Eg for two classes coded 1,2, lower expression correlates with class 2. For survival data, lower expression correlates with higher risk, i.e shorter survival (Be careful, this can be confusing!)\n"
   ],
   "metadata": {
    "collapsed": false,
    "pycharm": {
     "name": "#%% md\n"
    }
   }
  },
  {
   "cell_type": "code",
   "execution_count": 133,
   "outputs": [
    {
     "data": {
      "text/html": "<table class=\"dataframe\">\n<caption>A matrix: 14 × 5 of type chr</caption>\n<thead>\n\t<tr><th scope=col>Gene_set</th><th scope=col>Gene_set_name</th><th scope=col>Score</th><th scope=col>p-value</th><th scope=col>FDR</th></tr>\n</thead>\n<tbody>\n\t<tr><td>15 </td><td>hsa00190</td><td>-1.0545</td><td>0   </td><td>0     </td></tr>\n\t<tr><td>81 </td><td>hsa00970</td><td>-0.8368</td><td>0   </td><td>0     </td></tr>\n\t<tr><td>163</td><td>hsa04260</td><td>-0.6791</td><td>0   </td><td>0     </td></tr>\n\t<tr><td>246</td><td>hsa04932</td><td>-0.6198</td><td>0   </td><td>0     </td></tr>\n\t<tr><td>271</td><td>hsa05016</td><td>-0.7231</td><td>0   </td><td>0     </td></tr>\n\t<tr><td>273</td><td>hsa05020</td><td>-0.6949</td><td>0   </td><td>0     </td></tr>\n\t<tr><td>274</td><td>hsa05022</td><td>-0.5237</td><td>0   </td><td>0     </td></tr>\n\t<tr><td>208</td><td>hsa04714</td><td>-0.5285</td><td>0.01</td><td>0.2658</td></tr>\n\t<tr><td>268</td><td>hsa05010</td><td>-0.5025</td><td>0.01</td><td>0.2658</td></tr>\n\t<tr><td>269</td><td>hsa05012</td><td>-0.7434</td><td>0.01</td><td>0.2658</td></tr>\n\t<tr><td>316</td><td>hsa05208</td><td>-0.4672</td><td>0.01</td><td>0.2658</td></tr>\n\t<tr><td>348</td><td>hsa05415</td><td>-0.6448</td><td>0.01</td><td>0.2658</td></tr>\n\t<tr><td>212</td><td>hsa04723</td><td>-0.7089</td><td>0.02</td><td>0.4557</td></tr>\n\t<tr><td>270</td><td>hsa05014</td><td>-0.5696</td><td>0.02</td><td>0.4557</td></tr>\n</tbody>\n</table>\n",
      "text/markdown": "\nA matrix: 14 × 5 of type chr\n\n| Gene_set | Gene_set_name | Score | p-value | FDR |\n|---|---|---|---|---|\n| 15  | hsa00190 | -1.0545 | 0    | 0      |\n| 81  | hsa00970 | -0.8368 | 0    | 0      |\n| 163 | hsa04260 | -0.6791 | 0    | 0      |\n| 246 | hsa04932 | -0.6198 | 0    | 0      |\n| 271 | hsa05016 | -0.7231 | 0    | 0      |\n| 273 | hsa05020 | -0.6949 | 0    | 0      |\n| 274 | hsa05022 | -0.5237 | 0    | 0      |\n| 208 | hsa04714 | -0.5285 | 0.01 | 0.2658 |\n| 268 | hsa05010 | -0.5025 | 0.01 | 0.2658 |\n| 269 | hsa05012 | -0.7434 | 0.01 | 0.2658 |\n| 316 | hsa05208 | -0.4672 | 0.01 | 0.2658 |\n| 348 | hsa05415 | -0.6448 | 0.01 | 0.2658 |\n| 212 | hsa04723 | -0.7089 | 0.02 | 0.4557 |\n| 270 | hsa05014 | -0.5696 | 0.02 | 0.4557 |\n\n",
      "text/latex": "A matrix: 14 × 5 of type chr\n\\begin{tabular}{lllll}\n Gene\\_set & Gene\\_set\\_name & Score & p-value & FDR\\\\\n\\hline\n\t 15  & hsa00190 & -1.0545 & 0    & 0     \\\\\n\t 81  & hsa00970 & -0.8368 & 0    & 0     \\\\\n\t 163 & hsa04260 & -0.6791 & 0    & 0     \\\\\n\t 246 & hsa04932 & -0.6198 & 0    & 0     \\\\\n\t 271 & hsa05016 & -0.7231 & 0    & 0     \\\\\n\t 273 & hsa05020 & -0.6949 & 0    & 0     \\\\\n\t 274 & hsa05022 & -0.5237 & 0    & 0     \\\\\n\t 208 & hsa04714 & -0.5285 & 0.01 & 0.2658\\\\\n\t 268 & hsa05010 & -0.5025 & 0.01 & 0.2658\\\\\n\t 269 & hsa05012 & -0.7434 & 0.01 & 0.2658\\\\\n\t 316 & hsa05208 & -0.4672 & 0.01 & 0.2658\\\\\n\t 348 & hsa05415 & -0.6448 & 0.01 & 0.2658\\\\\n\t 212 & hsa04723 & -0.7089 & 0.02 & 0.4557\\\\\n\t 270 & hsa05014 & -0.5696 & 0.02 & 0.4557\\\\\n\\end{tabular}\n",
      "text/plain": "      Gene_set Gene_set_name Score   p-value FDR   \n [1,] 15       hsa00190      -1.0545 0       0     \n [2,] 81       hsa00970      -0.8368 0       0     \n [3,] 163      hsa04260      -0.6791 0       0     \n [4,] 246      hsa04932      -0.6198 0       0     \n [5,] 271      hsa05016      -0.7231 0       0     \n [6,] 273      hsa05020      -0.6949 0       0     \n [7,] 274      hsa05022      -0.5237 0       0     \n [8,] 208      hsa04714      -0.5285 0.01    0.2658\n [9,] 268      hsa05010      -0.5025 0.01    0.2658\n[10,] 269      hsa05012      -0.7434 0.01    0.2658\n[11,] 316      hsa05208      -0.4672 0.01    0.2658\n[12,] 348      hsa05415      -0.6448 0.01    0.2658\n[13,] 212      hsa04723      -0.7089 0.02    0.4557\n[14,] 270      hsa05014      -0.5696 0.02    0.4557"
     },
     "metadata": {},
     "output_type": "display_data"
    }
   ],
   "source": [
    "neg.table <-res$negative\n",
    "neg.table"
   ],
   "metadata": {
    "collapsed": false,
    "pycharm": {
     "name": "#%%\n"
    }
   }
  },
  {
   "cell_type": "markdown",
   "source": [
    "A table of the positive gene sets. \"Positive\" means that higher expression of most genes in the gene set correlates with higher values of the phenotype y. See \"negative\" above for more info."
   ],
   "metadata": {
    "collapsed": false,
    "pycharm": {
     "name": "#%% md\n"
    }
   }
  },
  {
   "cell_type": "code",
   "execution_count": 134,
   "outputs": [
    {
     "data": {
      "text/html": "<table class=\"dataframe\">\n<caption>A matrix: 13 × 5 of type chr</caption>\n<thead>\n\t<tr><th scope=col>Gene_set</th><th scope=col>Gene_set_name</th><th scope=col>Score</th><th scope=col>p-value</th><th scope=col>FDR</th></tr>\n</thead>\n<tbody>\n\t<tr><td>179</td><td>hsa04520</td><td>0.4948</td><td>0   </td><td>0     </td></tr>\n\t<tr><td>200</td><td>hsa04662</td><td>0.3778</td><td>0   </td><td>0     </td></tr>\n\t<tr><td>223</td><td>hsa04810</td><td>0.1843</td><td>0   </td><td>0     </td></tr>\n\t<tr><td>185</td><td>hsa04612</td><td>0.5797</td><td>0.01</td><td>0.3544</td></tr>\n\t<tr><td>194</td><td>hsa04640</td><td>0.5286</td><td>0.01</td><td>0.3544</td></tr>\n\t<tr><td>197</td><td>hsa04658</td><td>0.4347</td><td>0.01</td><td>0.3544</td></tr>\n\t<tr><td>198</td><td>hsa04659</td><td>0.3344</td><td>0.01</td><td>0.3544</td></tr>\n\t<tr><td>343</td><td>hsa05332</td><td>0.891 </td><td>0.01</td><td>0.3544</td></tr>\n\t<tr><td>349</td><td>hsa05416</td><td>0.8136</td><td>0.01</td><td>0.3544</td></tr>\n\t<tr><td>7  </td><td>hsa00053</td><td>0.7591</td><td>0.02</td><td>0.4908</td></tr>\n\t<tr><td>251</td><td>hsa04940</td><td>0.8387</td><td>0.02</td><td>0.4908</td></tr>\n\t<tr><td>289</td><td>hsa05140</td><td>0.5441</td><td>0.02</td><td>0.4908</td></tr>\n\t<tr><td>342</td><td>hsa05330</td><td>0.9232</td><td>0.02</td><td>0.4908</td></tr>\n</tbody>\n</table>\n",
      "text/markdown": "\nA matrix: 13 × 5 of type chr\n\n| Gene_set | Gene_set_name | Score | p-value | FDR |\n|---|---|---|---|---|\n| 179 | hsa04520 | 0.4948 | 0    | 0      |\n| 200 | hsa04662 | 0.3778 | 0    | 0      |\n| 223 | hsa04810 | 0.1843 | 0    | 0      |\n| 185 | hsa04612 | 0.5797 | 0.01 | 0.3544 |\n| 194 | hsa04640 | 0.5286 | 0.01 | 0.3544 |\n| 197 | hsa04658 | 0.4347 | 0.01 | 0.3544 |\n| 198 | hsa04659 | 0.3344 | 0.01 | 0.3544 |\n| 343 | hsa05332 | 0.891  | 0.01 | 0.3544 |\n| 349 | hsa05416 | 0.8136 | 0.01 | 0.3544 |\n| 7   | hsa00053 | 0.7591 | 0.02 | 0.4908 |\n| 251 | hsa04940 | 0.8387 | 0.02 | 0.4908 |\n| 289 | hsa05140 | 0.5441 | 0.02 | 0.4908 |\n| 342 | hsa05330 | 0.9232 | 0.02 | 0.4908 |\n\n",
      "text/latex": "A matrix: 13 × 5 of type chr\n\\begin{tabular}{lllll}\n Gene\\_set & Gene\\_set\\_name & Score & p-value & FDR\\\\\n\\hline\n\t 179 & hsa04520 & 0.4948 & 0    & 0     \\\\\n\t 200 & hsa04662 & 0.3778 & 0    & 0     \\\\\n\t 223 & hsa04810 & 0.1843 & 0    & 0     \\\\\n\t 185 & hsa04612 & 0.5797 & 0.01 & 0.3544\\\\\n\t 194 & hsa04640 & 0.5286 & 0.01 & 0.3544\\\\\n\t 197 & hsa04658 & 0.4347 & 0.01 & 0.3544\\\\\n\t 198 & hsa04659 & 0.3344 & 0.01 & 0.3544\\\\\n\t 343 & hsa05332 & 0.891  & 0.01 & 0.3544\\\\\n\t 349 & hsa05416 & 0.8136 & 0.01 & 0.3544\\\\\n\t 7   & hsa00053 & 0.7591 & 0.02 & 0.4908\\\\\n\t 251 & hsa04940 & 0.8387 & 0.02 & 0.4908\\\\\n\t 289 & hsa05140 & 0.5441 & 0.02 & 0.4908\\\\\n\t 342 & hsa05330 & 0.9232 & 0.02 & 0.4908\\\\\n\\end{tabular}\n",
      "text/plain": "      Gene_set Gene_set_name Score  p-value FDR   \n [1,] 179      hsa04520      0.4948 0       0     \n [2,] 200      hsa04662      0.3778 0       0     \n [3,] 223      hsa04810      0.1843 0       0     \n [4,] 185      hsa04612      0.5797 0.01    0.3544\n [5,] 194      hsa04640      0.5286 0.01    0.3544\n [6,] 197      hsa04658      0.4347 0.01    0.3544\n [7,] 198      hsa04659      0.3344 0.01    0.3544\n [8,] 343      hsa05332      0.891  0.01    0.3544\n [9,] 349      hsa05416      0.8136 0.01    0.3544\n[10,] 7        hsa00053      0.7591 0.02    0.4908\n[11,] 251      hsa04940      0.8387 0.02    0.4908\n[12,] 289      hsa05140      0.5441 0.02    0.4908\n[13,] 342      hsa05330      0.9232 0.02    0.4908"
     },
     "metadata": {},
     "output_type": "display_data"
    }
   ],
   "source": [
    "pos.table <-res$positive\n",
    "pos.table"
   ],
   "metadata": {
    "collapsed": false,
    "pycharm": {
     "name": "#%%\n"
    }
   }
  },
  {
   "cell_type": "code",
   "execution_count": 137,
   "outputs": [
    {
     "data": {
      "text/html": "<table class=\"dataframe\">\n<caption>A matrix: 43 × 2 of type chr</caption>\n<thead>\n\t<tr><th scope=col>Gene</th><th scope=col>Score</th></tr>\n</thead>\n<tbody>\n\t<tr><td>ALDH9A1</td><td>2.707 </td></tr>\n\t<tr><td>HADHA  </td><td>1.725 </td></tr>\n\t<tr><td>ACADVL </td><td>1.609 </td></tr>\n\t<tr><td>ADH1B  </td><td>1.513 </td></tr>\n\t<tr><td>HADHB  </td><td>1.175 </td></tr>\n\t<tr><td>ACAA1  </td><td>0.79  </td></tr>\n\t<tr><td>ALDH2  </td><td>0.768 </td></tr>\n\t<tr><td>ACSBG1 </td><td>0.73  </td></tr>\n\t<tr><td>ALDH3A2</td><td>0.726 </td></tr>\n\t<tr><td>ACSL1  </td><td>0.662 </td></tr>\n\t<tr><td>ALDH7A1</td><td>0.64  </td></tr>\n\t<tr><td>ACSL4  </td><td>0.581 </td></tr>\n\t<tr><td>ECI1   </td><td>0.533 </td></tr>\n\t<tr><td>ACSBG2 </td><td>0.474 </td></tr>\n\t<tr><td>CPT1B  </td><td>0.393 </td></tr>\n\t<tr><td>ADH6   </td><td>0.346 </td></tr>\n\t<tr><td>ACADL  </td><td>0.268 </td></tr>\n\t<tr><td>ADH4   </td><td>0.186 </td></tr>\n\t<tr><td>CPT2   </td><td>0.147 </td></tr>\n\t<tr><td>ADH1C  </td><td>0.146 </td></tr>\n\t<tr><td>ADH5   </td><td>0.136 </td></tr>\n\t<tr><td>ACOX1  </td><td>-0.005</td></tr>\n\t<tr><td>ECI2   </td><td>-0.063</td></tr>\n\t<tr><td>ACSL5  </td><td>-0.069</td></tr>\n\t<tr><td>ACADM  </td><td>-0.109</td></tr>\n\t<tr><td>ADH1A  </td><td>-0.123</td></tr>\n\t<tr><td>CPT1A  </td><td>-0.159</td></tr>\n\t<tr><td>ACADS  </td><td>-0.161</td></tr>\n\t<tr><td>HADH   </td><td>-0.171</td></tr>\n\t<tr><td>ADH7   </td><td>-0.378</td></tr>\n\t<tr><td>ACADSB </td><td>-0.542</td></tr>\n\t<tr><td>ACAA2  </td><td>-0.551</td></tr>\n\t<tr><td>ALDH1B1</td><td>-0.623</td></tr>\n\t<tr><td>ACAT1  </td><td>-0.689</td></tr>\n\t<tr><td>CYP2U1 </td><td>-1.043</td></tr>\n\t<tr><td>ACSL6  </td><td>-1.506</td></tr>\n\t<tr><td>ACOX3  </td><td>-1.508</td></tr>\n\t<tr><td>EHHADH </td><td>-1.76 </td></tr>\n\t<tr><td>ACAT2  </td><td>-1.793</td></tr>\n\t<tr><td>GCDH   </td><td>-1.917</td></tr>\n\t<tr><td>ACSL3  </td><td>-2.432</td></tr>\n\t<tr><td>CPT1C  </td><td>-2.561</td></tr>\n\t<tr><td>ECHS1  </td><td>-2.761</td></tr>\n</tbody>\n</table>\n",
      "text/markdown": "\nA matrix: 43 × 2 of type chr\n\n| Gene | Score |\n|---|---|\n| ALDH9A1 | 2.707  |\n| HADHA   | 1.725  |\n| ACADVL  | 1.609  |\n| ADH1B   | 1.513  |\n| HADHB   | 1.175  |\n| ACAA1   | 0.79   |\n| ALDH2   | 0.768  |\n| ACSBG1  | 0.73   |\n| ALDH3A2 | 0.726  |\n| ACSL1   | 0.662  |\n| ALDH7A1 | 0.64   |\n| ACSL4   | 0.581  |\n| ECI1    | 0.533  |\n| ACSBG2  | 0.474  |\n| CPT1B   | 0.393  |\n| ADH6    | 0.346  |\n| ACADL   | 0.268  |\n| ADH4    | 0.186  |\n| CPT2    | 0.147  |\n| ADH1C   | 0.146  |\n| ADH5    | 0.136  |\n| ACOX1   | -0.005 |\n| ECI2    | -0.063 |\n| ACSL5   | -0.069 |\n| ACADM   | -0.109 |\n| ADH1A   | -0.123 |\n| CPT1A   | -0.159 |\n| ACADS   | -0.161 |\n| HADH    | -0.171 |\n| ADH7    | -0.378 |\n| ACADSB  | -0.542 |\n| ACAA2   | -0.551 |\n| ALDH1B1 | -0.623 |\n| ACAT1   | -0.689 |\n| CYP2U1  | -1.043 |\n| ACSL6   | -1.506 |\n| ACOX3   | -1.508 |\n| EHHADH  | -1.76  |\n| ACAT2   | -1.793 |\n| GCDH    | -1.917 |\n| ACSL3   | -2.432 |\n| CPT1C   | -2.561 |\n| ECHS1   | -2.761 |\n\n",
      "text/latex": "A matrix: 43 × 2 of type chr\n\\begin{tabular}{ll}\n Gene & Score\\\\\n\\hline\n\t ALDH9A1 & 2.707 \\\\\n\t HADHA   & 1.725 \\\\\n\t ACADVL  & 1.609 \\\\\n\t ADH1B   & 1.513 \\\\\n\t HADHB   & 1.175 \\\\\n\t ACAA1   & 0.79  \\\\\n\t ALDH2   & 0.768 \\\\\n\t ACSBG1  & 0.73  \\\\\n\t ALDH3A2 & 0.726 \\\\\n\t ACSL1   & 0.662 \\\\\n\t ALDH7A1 & 0.64  \\\\\n\t ACSL4   & 0.581 \\\\\n\t ECI1    & 0.533 \\\\\n\t ACSBG2  & 0.474 \\\\\n\t CPT1B   & 0.393 \\\\\n\t ADH6    & 0.346 \\\\\n\t ACADL   & 0.268 \\\\\n\t ADH4    & 0.186 \\\\\n\t CPT2    & 0.147 \\\\\n\t ADH1C   & 0.146 \\\\\n\t ADH5    & 0.136 \\\\\n\t ACOX1   & -0.005\\\\\n\t ECI2    & -0.063\\\\\n\t ACSL5   & -0.069\\\\\n\t ACADM   & -0.109\\\\\n\t ADH1A   & -0.123\\\\\n\t CPT1A   & -0.159\\\\\n\t ACADS   & -0.161\\\\\n\t HADH    & -0.171\\\\\n\t ADH7    & -0.378\\\\\n\t ACADSB  & -0.542\\\\\n\t ACAA2   & -0.551\\\\\n\t ALDH1B1 & -0.623\\\\\n\t ACAT1   & -0.689\\\\\n\t CYP2U1  & -1.043\\\\\n\t ACSL6   & -1.506\\\\\n\t ACOX3   & -1.508\\\\\n\t EHHADH  & -1.76 \\\\\n\t ACAT2   & -1.793\\\\\n\t GCDH    & -1.917\\\\\n\t ACSL3   & -2.432\\\\\n\t CPT1C   & -2.561\\\\\n\t ECHS1   & -2.761\\\\\n\\end{tabular}\n",
      "text/plain": "      Gene    Score \n [1,] ALDH9A1 2.707 \n [2,] HADHA   1.725 \n [3,] ACADVL  1.609 \n [4,] ADH1B   1.513 \n [5,] HADHB   1.175 \n [6,] ACAA1   0.79  \n [7,] ALDH2   0.768 \n [8,] ACSBG1  0.73  \n [9,] ALDH3A2 0.726 \n[10,] ACSL1   0.662 \n[11,] ALDH7A1 0.64  \n[12,] ACSL4   0.581 \n[13,] ECI1    0.533 \n[14,] ACSBG2  0.474 \n[15,] CPT1B   0.393 \n[16,] ADH6    0.346 \n[17,] ACADL   0.268 \n[18,] ADH4    0.186 \n[19,] CPT2    0.147 \n[20,] ADH1C   0.146 \n[21,] ADH5    0.136 \n[22,] ACOX1   -0.005\n[23,] ECI2    -0.063\n[24,] ACSL5   -0.069\n[25,] ACADM   -0.109\n[26,] ADH1A   -0.123\n[27,] CPT1A   -0.159\n[28,] ACADS   -0.161\n[29,] HADH    -0.171\n[30,] ADH7    -0.378\n[31,] ACADSB  -0.542\n[32,] ACAA2   -0.551\n[33,] ALDH1B1 -0.623\n[34,] ACAT1   -0.689\n[35,] CYP2U1  -1.043\n[36,] ACSL6   -1.506\n[37,] ACOX3   -1.508\n[38,] EHHADH  -1.76 \n[39,] ACAT2   -1.793\n[40,] GCDH    -1.917\n[41,] ACSL3   -2.432\n[42,] CPT1C   -2.561\n[43,] ECHS1   -2.761"
     },
     "metadata": {},
     "output_type": "display_data"
    }
   ],
   "source": [
    "# Individual gene scores from a gene set analysis\n",
    "# look at 10th gene set\n",
    "GSA.genescores(10, genesets, GSA.obj, genenames)\n"
   ],
   "metadata": {
    "collapsed": false,
    "pycharm": {
     "name": "#%%\n"
    }
   }
  },
  {
   "cell_type": "code",
   "execution_count": 138,
   "outputs": [
    {
     "name": "stderr",
     "output_type": "stream",
     "text": [
      "Warning message in xy.coords(x, y, xlabel, ylabel, log):\n",
      "\"2 x values <= 0 omitted from logarithmic plot\"\n"
     ]
    },
    {
     "data": {
      "text/plain": "plot without title",
      "image/png": "[encoded data removed]"
     },
     "metadata": {
      "image/png": {
       "width": 420,
       "height": 420
      }
     },
     "output_type": "display_data"
    }
   ],
   "source": [
    "# Plot the result, this function makes a plot of the significant gene sets, based on a call to the GSA (Gene set analysis) function.\n",
    "GSA.plot(GSA.obj, fac=1, FDRcut = 0.5)\n"
   ],
   "metadata": {
    "collapsed": false,
    "pycharm": {
     "name": "#%%\n"
    }
   }
  }
 ],
 "metadata": {
  "celltoolbar": "Tags",
  "environment": {
   "kernel": "ir",
   "name": "r-cpu.4-1.m93",
   "type": "gcloud",
   "uri": "gcr.io/deeplearning-platform-release/r-cpu.4-1:m93"
  },
  "kernelspec": {
   "display_name": "R",
   "language": "R",
   "name": "ir"
  },
  "language_info": {
   "codemirror_mode": "r",
   "file_extension": ".r",
   "mimetype": "text/x-r-source",
   "name": "R",
   "pygments_lexer": "r",
   "version": "4.1.3"
  },
  "toc-showcode": true,
  "widgets": {
   "application/vnd.jupyter.widget-state+json": {
    "state": {},
    "version_major": 2,
    "version_minor": 0
   }
  }
 },
 "nbformat": 4,
 "nbformat_minor": 5
}